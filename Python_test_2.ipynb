{
  "nbformat": 4,
  "nbformat_minor": 0,
  "metadata": {
    "colab": {
      "name": "Python_test_2.ipynb",
      "provenance": [],
      "collapsed_sections": [],
      "authorship_tag": "ABX9TyMyZqb/bAwwnJZQf16IP7GA",
      "include_colab_link": true
    },
    "kernelspec": {
      "name": "python3",
      "display_name": "Python 3"
    },
    "language_info": {
      "name": "python"
    }
  },
  "cells": [
    {
      "cell_type": "markdown",
      "metadata": {
        "id": "view-in-github",
        "colab_type": "text"
      },
      "source": [
        "<a href=\"https://colab.research.google.com/github/ib1905/MIPT_Python_professional_development_program/blob/main/Python_test_2.ipynb\" target=\"_parent\"><img src=\"https://colab.research.google.com/assets/colab-badge.svg\" alt=\"Open In Colab\"/></a>"
      ]
    },
    {
      "cell_type": "code",
      "execution_count": 5,
      "metadata": {
        "colab": {
          "base_uri": "https://localhost:8080/"
        },
        "id": "AcxuBiAbekuB",
        "outputId": "c53c0247-f1e0-4fb6-e886-a79002e4afbe"
      },
      "outputs": [
        {
          "output_type": "stream",
          "name": "stdout",
          "text": [
            "hello world\n",
            "['world', 'hello']\n"
          ]
        }
      ],
      "source": [
        "original_string_list = input().split()\n",
        "print(original_string_list[::-1])"
      ]
    },
    {
      "cell_type": "code",
      "source": [
        "city_name = input().lower()\n",
        "while True:\n",
        "  new_city_name_orig = input()\n",
        "  new_city_name = new_city_name_orig.lower()\n",
        "  if new_city_name[0] != city_name[-1]:\n",
        "    #print(new_city_name[0].upper() + new_city_name[1:])\n",
        "    print(new_city_name_orig)\n",
        "    break\n",
        "  city_name = new_city_name"
      ],
      "metadata": {
        "colab": {
          "base_uri": "https://localhost:8080/"
        },
        "id": "lBgivIm0pzam",
        "outputId": "98f82ee6-bfe4-45a2-9cf9-5dff2585d414"
      },
      "execution_count": 11,
      "outputs": [
        {
          "output_type": "stream",
          "name": "stdout",
          "text": [
            "Moscow\n",
            "Warsaw\n",
            "winnipeg\n",
            "london\n",
            "london\n"
          ]
        }
      ]
    },
    {
      "cell_type": "code",
      "source": [
        "# INCOMPLETE\n",
        "\n",
        "cities = list()\n",
        "count = 0\n",
        "for i in range(int(input('Enter number of cities: '))):\n",
        "  city_name = input(f'Enter the name of city {i + 1}: ')\n",
        "  if city_name in cities:\n",
        "    count += 1\n",
        "    print(count)\n",
        "  else:\n",
        "    cities.append(city_name)\n",
        "    print(cities)\n",
        "print(count)"
      ],
      "metadata": {
        "colab": {
          "base_uri": "https://localhost:8080/"
        },
        "id": "UzI1q6XGIeA5",
        "outputId": "13469ec7-2b1d-4707-a33f-8e181fbd6265"
      },
      "execution_count": 109,
      "outputs": [
        {
          "output_type": "stream",
          "name": "stdout",
          "text": [
            "Enter number of cities: 3\n",
            "Enter the name of city 1: a\n",
            "['a']\n",
            "Enter the name of city 2: a\n",
            "1\n",
            "Enter the name of city 3: a\n",
            "2\n",
            "2\n"
          ]
        }
      ]
    },
    {
      "cell_type": "code",
      "source": [
        "# INCOMPLETE\n",
        "\n",
        "new_cities = list()\n",
        "cities_in = list()\n",
        "number_of_cities = int(input())\n",
        "for i in range(number_of_cities):\n",
        "  city_name = input()\n",
        "  if city_name in new_cities:\n",
        "    print('Already in')\n",
        "    cities_in.append(city_name)\n",
        "  else:\n",
        "    new_cities.append(city_name)\n",
        "    print('Added')\n",
        "print(len(cities_in))"
      ],
      "metadata": {
        "colab": {
          "base_uri": "https://localhost:8080/"
        },
        "id": "opJfbbVycv--",
        "outputId": "fda8c333-88a5-4be9-e03f-672cc250f071"
      },
      "execution_count": 106,
      "outputs": [
        {
          "output_type": "stream",
          "name": "stdout",
          "text": [
            "3\n",
            "a\n",
            "Added\n",
            "a\n",
            "Already in\n",
            "b\n",
            "Added\n",
            "1\n"
          ]
        }
      ]
    },
    {
      "cell_type": "code",
      "source": [
        "my_list = input().split()\n",
        "for i in range(len(my_list)):\n",
        "  my_list[i] = int(my_list[i])"
      ],
      "metadata": {
        "colab": {
          "base_uri": "https://localhost:8080/"
        },
        "id": "FTWeL1Ypky9e",
        "outputId": "7983b518-551d-4e1b-f6d0-e9fca30981b4"
      },
      "execution_count": 129,
      "outputs": [
        {
          "name": "stdout",
          "output_type": "stream",
          "text": [
            "-1 2 3 4 5\n"
          ]
        }
      ]
    },
    {
      "cell_type": "code",
      "source": [
        "print(my_list)\n",
        "for i in reversed(my_list):\n",
        "  print(i)\n",
        "  if i < 0:\n",
        "    print(my_list[i])"
      ],
      "metadata": {
        "colab": {
          "base_uri": "https://localhost:8080/"
        },
        "id": "aK-8tAgOlC5l",
        "outputId": "7726ee53-901c-406a-ae62-c5f6bbbd3043"
      },
      "execution_count": 134,
      "outputs": [
        {
          "output_type": "stream",
          "name": "stdout",
          "text": [
            "[-1, 2, 3, 4, 5]\n",
            "5\n",
            "4\n",
            "3\n",
            "2\n",
            "-1\n",
            "5\n"
          ]
        }
      ]
    }
  ]
}