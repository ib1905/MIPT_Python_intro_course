{
  "nbformat": 4,
  "nbformat_minor": 0,
  "metadata": {
    "colab": {
      "name": "Python_test_2.ipynb",
      "provenance": [],
      "collapsed_sections": [],
      "authorship_tag": "ABX9TyOuqfSWPEk0U/QkWnYYiq8W",
      "include_colab_link": true
    },
    "kernelspec": {
      "name": "python3",
      "display_name": "Python 3"
    },
    "language_info": {
      "name": "python"
    }
  },
  "cells": [
    {
      "cell_type": "markdown",
      "metadata": {
        "id": "view-in-github",
        "colab_type": "text"
      },
      "source": [
        "<a href=\"https://colab.research.google.com/github/ib1905/MIPT_Python_professional_development_program/blob/main/Python_test_2.ipynb\" target=\"_parent\"><img src=\"https://colab.research.google.com/assets/colab-badge.svg\" alt=\"Open In Colab\"/></a>"
      ]
    },
    {
      "cell_type": "code",
      "execution_count": null,
      "metadata": {
        "colab": {
          "base_uri": "https://localhost:8080/"
        },
        "id": "AcxuBiAbekuB",
        "outputId": "c53c0247-f1e0-4fb6-e886-a79002e4afbe"
      },
      "outputs": [
        {
          "output_type": "stream",
          "name": "stdout",
          "text": [
            "hello world\n",
            "['world', 'hello']\n"
          ]
        }
      ],
      "source": [
        "original_string_list = input().split()\n",
        "print(original_string_list[::-1])"
      ]
    },
    {
      "cell_type": "code",
      "source": [
        "city_name = input().lower()\n",
        "while True:\n",
        "  new_city_name_orig = input()\n",
        "  new_city_name = new_city_name_orig.lower()\n",
        "  if new_city_name[0] != city_name[-1]:\n",
        "    #print(new_city_name[0].upper() + new_city_name[1:])\n",
        "    print(new_city_name_orig)\n",
        "    break\n",
        "  city_name = new_city_name"
      ],
      "metadata": {
        "colab": {
          "base_uri": "https://localhost:8080/"
        },
        "id": "lBgivIm0pzam",
        "outputId": "98f82ee6-bfe4-45a2-9cf9-5dff2585d414"
      },
      "execution_count": null,
      "outputs": [
        {
          "output_type": "stream",
          "name": "stdout",
          "text": [
            "Moscow\n",
            "Warsaw\n",
            "winnipeg\n",
            "london\n",
            "london\n"
          ]
        }
      ]
    },
    {
      "cell_type": "code",
      "source": [
        "from collections import Counter\n",
        "\n",
        "cities = list()\n",
        "for i in range(int(input('Enter number of cities: '))):\n",
        "  city_name = input(f'Enter the name of city {i + 1}: ')\n",
        "  cities.append(city_name)\n",
        "count = Counter(cities)\n",
        "sum_cities = 0\n",
        "for i in count.values():\n",
        "  if i > 1:\n",
        "    sum_cities += i\n",
        "print(sum_cities)"
      ],
      "metadata": {
        "colab": {
          "base_uri": "https://localhost:8080/"
        },
        "id": "UzI1q6XGIeA5",
        "outputId": "eb7f0668-c937-4384-a870-5e188ca64063"
      },
      "execution_count": null,
      "outputs": [
        {
          "output_type": "stream",
          "name": "stdout",
          "text": [
            "Enter number of cities: 5\n",
            "Enter the name of city 1: Moscow\n",
            "Enter the name of city 2: Moscow\n",
            "Enter the name of city 3: London\n",
            "Enter the name of city 4: Warsaw\n",
            "Enter the name of city 5: London\n",
            "4\n"
          ]
        }
      ]
    },
    {
      "cell_type": "code",
      "source": [
        "my_list = input().split()\n",
        "for i in range(len(my_list)):\n",
        "  my_list[i] = int(my_list[i])\n",
        "\n",
        "for i in my_list[::-1]:\n",
        "  if i < 0:\n",
        "    print(my_list[i])\n",
        "    break\n",
        "  else:\n",
        "    pass\n",
        "else: \n",
        "  print('no negative value')"
      ],
      "metadata": {
        "colab": {
          "base_uri": "https://localhost:8080/"
        },
        "id": "FTWeL1Ypky9e",
        "outputId": "626fa7fa-1316-4f53-f56a-a4ae1c106381"
      },
      "execution_count": null,
      "outputs": [
        {
          "output_type": "stream",
          "name": "stdout",
          "text": [
            "0 1 2 -3\n",
            "1\n"
          ]
        }
      ]
    },
    {
      "cell_type": "code",
      "source": [
        "my_list = input().split()\n",
        "for i in range(len(my_list)):\n",
        "  my_list[i] = int(my_list[i])\n",
        "\n",
        "for i, e in reversed(list(enumerate(my_list))):\n",
        "  if e < 0:\n",
        "    print(i)\n",
        "    break\n",
        "  else:\n",
        "    pass\n",
        "else: \n",
        "  print('no negative value')"
      ],
      "metadata": {
        "colab": {
          "base_uri": "https://localhost:8080/"
        },
        "id": "fFiLqLWbV2eC",
        "outputId": "17ca244f-1042-4203-8986-254bad3913d6"
      },
      "execution_count": null,
      "outputs": [
        {
          "output_type": "stream",
          "name": "stdout",
          "text": [
            "0 -1 2 3 -4 5\n",
            "4\n"
          ]
        }
      ]
    },
    {
      "cell_type": "code",
      "source": [
        "from random import randint\n",
        "my_list = [randint(-10, 10) for i in range(10)]\n",
        "#my_list = input().split()\n",
        "for i in range(len(my_list)):\n",
        "  my_list[i] = int(my_list[i])\n",
        "\n",
        "print(my_list)\n",
        "\n",
        "first_negative = 0\n",
        "for i in my_list:\n",
        "  if i < 0:\n",
        "    first_negative = i\n",
        "    first_negative_pos = my_list.index(i)\n",
        "    break\n",
        "print(first_negative)\n",
        "print(first_negative_pos)\n",
        "\n",
        "last_max_value = 0\n",
        "for j, e in reversed(list(enumerate(my_list))):\n",
        "  if e > last_max_value:\n",
        "    last_max_value = e\n",
        "    last_max_value_pos = j\n",
        "\n",
        "if last_max_value == 0:\n",
        "  print('Zero case')\n",
        "  for j, e in reversed(list(enumerate(my_list))):\n",
        "    if e == 0:\n",
        "      last_max_value = e\n",
        "      last_max_value_pos = j\n",
        "      break\n",
        "\n",
        "print(last_max_value)\n",
        "print(last_max_value_pos)\n",
        "\n",
        "my_list[first_negative_pos], my_list[last_max_value_pos] = my_list[last_max_value_pos], my_list[first_negative_pos]\n",
        "\n",
        "print(*my_list)"
      ],
      "metadata": {
        "colab": {
          "base_uri": "https://localhost:8080/"
        },
        "id": "QSdZ9wlNjn4A",
        "outputId": "75ec0aa0-a22a-4e48-f52c-f167c9e6bf60"
      },
      "execution_count": null,
      "outputs": [
        {
          "output_type": "stream",
          "name": "stdout",
          "text": [
            "[0, 2, -8, -8, 5, -6, 3, 10, 8, -3]\n",
            "-8\n",
            "2\n",
            "10\n",
            "7\n",
            "0 2 10 -8 5 -6 3 -8 8 -3\n"
          ]
        }
      ]
    },
    {
      "cell_type": "code",
      "source": [
        "d = {}\n",
        "tel_list = set()\n",
        "for i in range(int(input())):\n",
        "  name, tel = input().split(' - ')\n",
        "  tel_list = set(tel.split(', '))\n",
        "  if name in d:\n",
        "    for tel in tel_list:\n",
        "      if tel not in d:\n",
        "        d[name].add(tel)\n",
        "  else:\n",
        "    d[name] = tel_list\n",
        "print(d)\n",
        "\n",
        "for _ in range(int(input())):\n",
        "  name = input()\n",
        "  if name not in d:\n",
        "    print('Нет в телефонной книге')\n",
        "  else:\n",
        "    print(*sorted(d[name]))"
      ],
      "metadata": {
        "colab": {
          "base_uri": "https://localhost:8080/"
        },
        "id": "Mt6iqtg-P_-g",
        "outputId": "0edb03a9-459e-431f-e898-4d64e70e0da0"
      },
      "execution_count": 86,
      "outputs": [
        {
          "output_type": "stream",
          "name": "stdout",
          "text": [
            "2\n",
            "Ivanov Ivan - 123456, 789101112\n",
            "Pivanov Ivan - 123456, 789101112\n",
            "{'Ivanov Ivan': {'789101112', '123456'}, 'Pivanov Ivan': {'789101112', '123456'}}\n"
          ]
        }
      ]
    },
    {
      "cell_type": "code",
      "source": [
        "for _ in range(int(input())):\n",
        "  name = input()\n",
        "  if name not in d:\n",
        "    print('Нет в телефонной книге')\n",
        "  else:\n",
        "    print(*sorted(d[name], key=len, reverse=False))"
      ],
      "metadata": {
        "colab": {
          "base_uri": "https://localhost:8080/"
        },
        "id": "pwnYt2re8Eht",
        "outputId": "ac72b14b-07f7-4bb7-fd10-924cdb7ea8fa"
      },
      "execution_count": 102,
      "outputs": [
        {
          "output_type": "stream",
          "name": "stdout",
          "text": [
            "1\n",
            "Ivanov Ivan\n",
            "123456 789101112\n"
          ]
        }
      ]
    }
  ]
}