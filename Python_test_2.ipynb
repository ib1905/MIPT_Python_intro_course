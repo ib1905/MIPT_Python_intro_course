{
  "nbformat": 4,
  "nbformat_minor": 0,
  "metadata": {
    "colab": {
      "name": "Python_test_2.ipynb",
      "provenance": [],
      "collapsed_sections": [],
      "authorship_tag": "ABX9TyP6wZ84fSxld9p3H2yvzGYw",
      "include_colab_link": true
    },
    "kernelspec": {
      "name": "python3",
      "display_name": "Python 3"
    },
    "language_info": {
      "name": "python"
    }
  },
  "cells": [
    {
      "cell_type": "markdown",
      "metadata": {
        "id": "view-in-github",
        "colab_type": "text"
      },
      "source": [
        "<a href=\"https://colab.research.google.com/github/ib1905/MIPT_Python_professional_development_program/blob/main/Python_test_2.ipynb\" target=\"_parent\"><img src=\"https://colab.research.google.com/assets/colab-badge.svg\" alt=\"Open In Colab\"/></a>"
      ]
    },
    {
      "cell_type": "code",
      "execution_count": null,
      "metadata": {
        "colab": {
          "base_uri": "https://localhost:8080/"
        },
        "id": "AcxuBiAbekuB",
        "outputId": "c53c0247-f1e0-4fb6-e886-a79002e4afbe"
      },
      "outputs": [
        {
          "output_type": "stream",
          "name": "stdout",
          "text": [
            "hello world\n",
            "['world', 'hello']\n"
          ]
        }
      ],
      "source": [
        "original_string_list = input().split()\n",
        "print(original_string_list[::-1])"
      ]
    },
    {
      "cell_type": "code",
      "source": [
        "city_name = input().lower()\n",
        "while True:\n",
        "  new_city_name_orig = input()\n",
        "  new_city_name = new_city_name_orig.lower()\n",
        "  if new_city_name[0] != city_name[-1]:\n",
        "    #print(new_city_name[0].upper() + new_city_name[1:])\n",
        "    print(new_city_name_orig)\n",
        "    break\n",
        "  city_name = new_city_name"
      ],
      "metadata": {
        "colab": {
          "base_uri": "https://localhost:8080/"
        },
        "id": "lBgivIm0pzam",
        "outputId": "98f82ee6-bfe4-45a2-9cf9-5dff2585d414"
      },
      "execution_count": null,
      "outputs": [
        {
          "output_type": "stream",
          "name": "stdout",
          "text": [
            "Moscow\n",
            "Warsaw\n",
            "winnipeg\n",
            "london\n",
            "london\n"
          ]
        }
      ]
    },
    {
      "cell_type": "code",
      "source": [
        "from collections import Counter\n",
        "\n",
        "cities = list()\n",
        "for i in range(int(input('Enter number of cities: '))):\n",
        "  city_name = input(f'Enter the name of city {i + 1}: ')\n",
        "  cities.append(city_name)\n",
        "count = Counter(cities)\n",
        "sum_cities = 0\n",
        "for i in count.values():\n",
        "  if i > 1:\n",
        "    sum_cities += i\n",
        "print(sum_cities)"
      ],
      "metadata": {
        "colab": {
          "base_uri": "https://localhost:8080/"
        },
        "id": "UzI1q6XGIeA5",
        "outputId": "eb7f0668-c937-4384-a870-5e188ca64063"
      },
      "execution_count": 24,
      "outputs": [
        {
          "output_type": "stream",
          "name": "stdout",
          "text": [
            "Enter number of cities: 5\n",
            "Enter the name of city 1: Moscow\n",
            "Enter the name of city 2: Moscow\n",
            "Enter the name of city 3: London\n",
            "Enter the name of city 4: Warsaw\n",
            "Enter the name of city 5: London\n",
            "4\n"
          ]
        }
      ]
    },
    {
      "cell_type": "code",
      "source": [
        "my_list = input().split()\n",
        "for i in range(len(my_list)):\n",
        "  my_list[i] = int(my_list[i])\n",
        "\n",
        "for i in my_list[::-1]:\n",
        "  if i < 0:\n",
        "    print(my_list[i])\n",
        "    break\n",
        "  else:\n",
        "    pass\n",
        "else: \n",
        "  print('no negative value')"
      ],
      "metadata": {
        "colab": {
          "base_uri": "https://localhost:8080/"
        },
        "id": "FTWeL1Ypky9e",
        "outputId": "626fa7fa-1316-4f53-f56a-a4ae1c106381"
      },
      "execution_count": 49,
      "outputs": [
        {
          "output_type": "stream",
          "name": "stdout",
          "text": [
            "0 1 2 -3\n",
            "1\n"
          ]
        }
      ]
    },
    {
      "cell_type": "code",
      "source": [
        "my_list = input().split()\n",
        "for i in range(len(my_list)):\n",
        "  my_list[i] = int(my_list[i])\n",
        "\n",
        "for i, e in reversed(list(enumerate(my_list))):\n",
        "  if e < 0:\n",
        "    print(i)\n",
        "    break\n",
        "  else:\n",
        "    pass\n",
        "else: \n",
        "  print('no negative value')"
      ],
      "metadata": {
        "colab": {
          "base_uri": "https://localhost:8080/"
        },
        "id": "fFiLqLWbV2eC",
        "outputId": "17ca244f-1042-4203-8986-254bad3913d6"
      },
      "execution_count": 57,
      "outputs": [
        {
          "output_type": "stream",
          "name": "stdout",
          "text": [
            "0 -1 2 3 -4 5\n",
            "4\n"
          ]
        }
      ]
    },
    {
      "cell_type": "code",
      "source": [
        ""
      ],
      "metadata": {
        "id": "QnBzhBU1Xmkp"
      },
      "execution_count": null,
      "outputs": []
    }
  ]
}