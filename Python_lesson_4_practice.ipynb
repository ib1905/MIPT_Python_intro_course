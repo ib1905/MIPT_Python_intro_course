{
  "nbformat": 4,
  "nbformat_minor": 0,
  "metadata": {
    "colab": {
      "name": "Python_lesson_4_practice.ipynb",
      "provenance": [],
      "authorship_tag": "ABX9TyPbUhJJNC4E0fvj01mrOzRo",
      "include_colab_link": true
    },
    "kernelspec": {
      "name": "python3",
      "display_name": "Python 3"
    },
    "language_info": {
      "name": "python"
    }
  },
  "cells": [
    {
      "cell_type": "markdown",
      "metadata": {
        "id": "view-in-github",
        "colab_type": "text"
      },
      "source": [
        "<a href=\"https://colab.research.google.com/github/ib1905/MIPT_Python_professional_development_program/blob/main/Python_lesson_4_practice.ipynb\" target=\"_parent\"><img src=\"https://colab.research.google.com/assets/colab-badge.svg\" alt=\"Open In Colab\"/></a>"
      ]
    },
    {
      "cell_type": "code",
      "execution_count": null,
      "metadata": {
        "colab": {
          "base_uri": "https://localhost:8080/"
        },
        "id": "4L-2JuO-S1lD",
        "outputId": "ee70e43a-5155-4d71-8276-0887af111919"
      },
      "outputs": [
        {
          "output_type": "stream",
          "name": "stdout",
          "text": [
            "5\n",
            "1 2 3 4 5 "
          ]
        }
      ],
      "source": [
        "n = int(input())\n",
        "for i in range(1, n + 1):\n",
        "  print(i, end=' ')"
      ]
    },
    {
      "cell_type": "code",
      "source": [
        "total_n_stones = int(input('Enter the initial number of stones in the pile: '))\n",
        "print('Total number of stones initially: ', total_n_stones)\n",
        "n_stones_left = total_n_stones\n",
        "while n_stones_left != 0:\n",
        "#  n_stones_left = int(input('Enter how many stones are left now: '))\n",
        "  n_stones_taken = int(input('Enter how many stones you are going to take: '))\n",
        "  if n_stones_taken > n_stones_left:\n",
        "    print('Please, take no more stones than are available ({})'.format(n_stones_left))\n",
        "  else:\n",
        "    n_stones_left -= n_stones_taken\n",
        "    print('Stones taken by the player: {}\\nStones left now: {}'.format(n_stones_taken, n_stones_left))\n",
        "print('No more stones left. The game is over')"
      ],
      "metadata": {
        "colab": {
          "base_uri": "https://localhost:8080/"
        },
        "id": "peyK3bjgTpRW",
        "outputId": "2bc4f311-6529-48c1-a42d-fe24b5bdf42b"
      },
      "execution_count": null,
      "outputs": [
        {
          "output_type": "stream",
          "name": "stdout",
          "text": [
            "Enter the initial number of stones in the pile: 10\n",
            "Total number of stones initially:  10\n",
            "Enter how many stones you are going to take: 5\n",
            "Stones taken by the player: 5\n",
            "Stones left now: 5\n",
            "Enter how many stones you are going to take: 6\n",
            "Please, take no more stones than are available (5)\n",
            "Enter how many stones you are going to take: 5\n",
            "Stones taken by the player: 5\n",
            "Stones left now: 0\n",
            "No more stones left. The game is over\n"
          ]
        }
      ]
    },
    {
      "cell_type": "code",
      "source": [
        "N = str(input())\n",
        "for i in range(len(N), 0, -1):\n",
        "  print(i, end='')"
      ],
      "metadata": {
        "colab": {
          "base_uri": "https://localhost:8080/"
        },
        "id": "Ud49ySFGLy8T",
        "outputId": "60422726-50fa-465e-dfb0-ca1ed06960d8"
      },
      "execution_count": null,
      "outputs": [
        {
          "output_type": "stream",
          "name": "stdout",
          "text": [
            "1234567\n",
            "7654321"
          ]
        }
      ]
    },
    {
      "cell_type": "code",
      "source": [
        "K = int(input())\n",
        "for i in range(1, K + 1):\n",
        "  if i % 2 == 0:\n",
        "    pass\n",
        "  else:\n",
        "    print(i, end=' ')"
      ],
      "metadata": {
        "colab": {
          "base_uri": "https://localhost:8080/"
        },
        "id": "ZpuAtScBYx7e",
        "outputId": "5d7cf28b-a359-40fb-a1f0-5ceb794dbbb0"
      },
      "execution_count": null,
      "outputs": [
        {
          "output_type": "stream",
          "name": "stdout",
          "text": [
            "15\n",
            "1 3 5 7 9 11 13 15 "
          ]
        }
      ]
    },
    {
      "cell_type": "code",
      "source": [
        "message = input('Enter your message here: ')\n",
        "print('The length of your message is {} characters. The cost is {} rubles'.format(len(message),len(message) * 0.4))"
      ],
      "metadata": {
        "colab": {
          "base_uri": "https://localhost:8080/"
        },
        "id": "SyFZ2SVmI1Bk",
        "outputId": "f3fa0eee-47bf-4517-b057-1c0e097fd8f3"
      },
      "execution_count": 6,
      "outputs": [
        {
          "output_type": "stream",
          "name": "stdout",
          "text": [
            "Enter your message here: hi there!\n",
            "The length of your message is 9 characters. The cost is 3.6 rubles\n"
          ]
        }
      ]
    },
    {
      "cell_type": "code",
      "source": [
        "heights_of_candidates = []\n",
        "number_of_candidates = 0\n",
        "height_of_candidate = 0\n",
        "while (height_of_candidate != '!') or (number_of_candidates <= 2):\n",
        "  height_of_candidate = input('Enter candidate {} height (or ! to finish, but mind that at least 2 values are required): '.format(number_of_candidates + 1))\n",
        "  number_of_candidates += 1\n",
        "  heights_of_candidates.append(height_of_candidate)\n",
        "heights_of_candidates.remove('!')\n",
        "print('Total number of candidates: {}, max height: {}, min height: {}'.format(number_of_candidates - 1, max(heights_of_candidates), min(heights_of_candidates)))"
      ],
      "metadata": {
        "colab": {
          "base_uri": "https://localhost:8080/"
        },
        "id": "FNQZipYGME58",
        "outputId": "7aee9372-533d-45bd-a259-92c6a64c7a15"
      },
      "execution_count": 25,
      "outputs": [
        {
          "output_type": "stream",
          "name": "stdout",
          "text": [
            "Enter candidate 1 height (or ! to finish, but mind that at least 2 values are required): 10\n",
            "Enter candidate 2 height (or ! to finish, but mind that at least 2 values are required): 12\n",
            "Enter candidate 3 height (or ! to finish, but mind that at least 2 values are required): !\n",
            "Total number of candidates: 2, max height: 12, min height: 10\n"
          ]
        }
      ]
    }
  ]
}