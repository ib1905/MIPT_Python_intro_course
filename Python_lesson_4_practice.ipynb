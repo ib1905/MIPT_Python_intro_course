{
  "nbformat": 4,
  "nbformat_minor": 0,
  "metadata": {
    "colab": {
      "name": "Python_lesson_4_practice.ipynb",
      "provenance": [],
      "authorship_tag": "ABX9TyMd7u+mFPPZ1zW0L4bITnj2",
      "include_colab_link": true
    },
    "kernelspec": {
      "name": "python3",
      "display_name": "Python 3"
    },
    "language_info": {
      "name": "python"
    }
  },
  "cells": [
    {
      "cell_type": "markdown",
      "metadata": {
        "id": "view-in-github",
        "colab_type": "text"
      },
      "source": [
        "<a href=\"https://colab.research.google.com/github/ib1905/MIPT_Python_professional_development_program/blob/main/Python_lesson_4_practice.ipynb\" target=\"_parent\"><img src=\"https://colab.research.google.com/assets/colab-badge.svg\" alt=\"Open In Colab\"/></a>"
      ]
    },
    {
      "cell_type": "code",
      "execution_count": 3,
      "metadata": {
        "colab": {
          "base_uri": "https://localhost:8080/"
        },
        "id": "4L-2JuO-S1lD",
        "outputId": "ee70e43a-5155-4d71-8276-0887af111919"
      },
      "outputs": [
        {
          "output_type": "stream",
          "name": "stdout",
          "text": [
            "5\n",
            "1 2 3 4 5 "
          ]
        }
      ],
      "source": [
        "n = int(input())\n",
        "for i in range(1, n + 1):\n",
        "  print(i, end=' ')"
      ]
    },
    {
      "cell_type": "code",
      "source": [
        "total_n_stones = int(input('Enter the initial number of stones in the pile: '))\n",
        "print('Total number of stones initially: ', total_n_stones)\n",
        "n_stones_left = total_n_stones\n",
        "while n_stones_left != 0:\n",
        "#  n_stones_left = int(input('Enter how many stones are left now: '))\n",
        "  n_stones_taken = int(input('Enter how many stones you are going to take: '))\n",
        "  if n_stones_taken > n_stones_left:\n",
        "    print('Please, take no more stones than are available ({})'.format(n_stones_left))\n",
        "  else:\n",
        "    n_stones_left -= n_stones_taken\n",
        "    print('Stones taken by the player: {}\\nStones left now: {}'.format(n_stones_taken, n_stones_left))\n",
        "print('No more stones left. The game is over')"
      ],
      "metadata": {
        "colab": {
          "base_uri": "https://localhost:8080/"
        },
        "id": "peyK3bjgTpRW",
        "outputId": "2bc4f311-6529-48c1-a42d-fe24b5bdf42b"
      },
      "execution_count": 19,
      "outputs": [
        {
          "output_type": "stream",
          "name": "stdout",
          "text": [
            "Enter the initial number of stones in the pile: 10\n",
            "Total number of stones initially:  10\n",
            "Enter how many stones you are going to take: 5\n",
            "Stones taken by the player: 5\n",
            "Stones left now: 5\n",
            "Enter how many stones you are going to take: 6\n",
            "Please, take no more stones than are available (5)\n",
            "Enter how many stones you are going to take: 5\n",
            "Stones taken by the player: 5\n",
            "Stones left now: 0\n",
            "No more stones left. The game is over\n"
          ]
        }
      ]
    }
  ]
}