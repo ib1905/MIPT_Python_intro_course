{
  "nbformat": 4,
  "nbformat_minor": 0,
  "metadata": {
    "colab": {
      "name": "Python_lesson_9.ipynb",
      "provenance": [],
      "authorship_tag": "ABX9TyPC3Ls7Qj27h6JNNjM4zcjv",
      "include_colab_link": true
    },
    "kernelspec": {
      "name": "python3",
      "display_name": "Python 3"
    },
    "language_info": {
      "name": "python"
    }
  },
  "cells": [
    {
      "cell_type": "markdown",
      "metadata": {
        "id": "view-in-github",
        "colab_type": "text"
      },
      "source": [
        "<a href=\"https://colab.research.google.com/github/ib1905/MIPT_Python_professional_development_program/blob/main/Python_lesson_9.ipynb\" target=\"_parent\"><img src=\"https://colab.research.google.com/assets/colab-badge.svg\" alt=\"Open In Colab\"/></a>"
      ]
    },
    {
      "cell_type": "code",
      "execution_count": null,
      "metadata": {
        "colab": {
          "base_uri": "https://localhost:8080/"
        },
        "id": "XjNUTNxh0WxT",
        "outputId": "efae09dd-2c57-4d86-94e9-0c91858c63ba"
      },
      "outputs": [
        {
          "output_type": "stream",
          "name": "stdout",
          "text": [
            "smth\n",
            "smth\n"
          ]
        }
      ],
      "source": [
        "write = print # a function as an object, so it can be assigned to some variable\n",
        "read_string = input\n",
        "\n",
        "my_string = read_string()\n",
        "write(my_string)"
      ]
    },
    {
      "cell_type": "code",
      "source": [
        "def addition(a, b):\n",
        "  return a + b\n",
        "  \n",
        "def multiplication(a, b):\n",
        "  return a * b\n",
        "\n",
        "def exponentiation(a, b):\n",
        "  return a ** b\n",
        "\n",
        "operation = {'+' : addition, '*' : multiplication, '^' : exponentiation}\n",
        "operation_sign = input()\n",
        "func = operation[operation_sign]\n",
        "\n",
        "func(3, 6)"
      ],
      "metadata": {
        "colab": {
          "base_uri": "https://localhost:8080/"
        },
        "id": "bM_JbmDn4apI",
        "outputId": "36bf6a02-8577-4054-feb8-870e760d63b1"
      },
      "execution_count": null,
      "outputs": [
        {
          "name": "stdout",
          "output_type": "stream",
          "text": [
            "^\n"
          ]
        },
        {
          "output_type": "execute_result",
          "data": {
            "text/plain": [
              "729"
            ]
          },
          "metadata": {},
          "execution_count": 23
        }
      ]
    },
    {
      "cell_type": "code",
      "source": [
        "# map, filter, sorted are some exmaples of iterator functions"
      ],
      "metadata": {
        "id": "5cpx3152-zGg"
      },
      "execution_count": null,
      "outputs": []
    },
    {
      "cell_type": "code",
      "source": [
        "sp = [34, 67, 12, 89, 56, 81, 33]\n",
        "\n",
        "def is_odd(x):\n",
        "  return x% 2 == 1\n",
        "\n",
        "sp2 = list(filter(is_odd, sp))\n",
        "sp2"
      ],
      "metadata": {
        "colab": {
          "base_uri": "https://localhost:8080/"
        },
        "id": "-qYlu5-pFOUd",
        "outputId": "276965cd-fdb0-4ee6-e09a-07cff9b163cd"
      },
      "execution_count": null,
      "outputs": [
        {
          "output_type": "execute_result",
          "data": {
            "text/plain": [
              "[67, 89, 81, 33]"
            ]
          },
          "metadata": {},
          "execution_count": 11
        }
      ]
    },
    {
      "cell_type": "code",
      "source": [
        "# sorted(some_list, key=len)"
      ],
      "metadata": {
        "id": "4j1U_oQVHfwz"
      },
      "execution_count": null,
      "outputs": []
    },
    {
      "cell_type": "code",
      "source": [
        "# lambda arguments: body\n",
        "func = lambda x: x % 10\n",
        "\n",
        "sp = [34, 67, 12, 89, 56, 81, 33]\n",
        "sorted(sp, key=func)"
      ],
      "metadata": {
        "colab": {
          "base_uri": "https://localhost:8080/"
        },
        "id": "Q1vpke2OH9by",
        "outputId": "33da0ed8-d341-4f60-f6bd-8deaa0071b6d"
      },
      "execution_count": null,
      "outputs": [
        {
          "output_type": "execute_result",
          "data": {
            "text/plain": [
              "[81, 12, 33, 34, 56, 67, 89]"
            ]
          },
          "metadata": {},
          "execution_count": 17
        }
      ]
    }
  ]
}