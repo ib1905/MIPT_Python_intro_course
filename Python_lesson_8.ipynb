{
  "nbformat": 4,
  "nbformat_minor": 0,
  "metadata": {
    "colab": {
      "name": "Python_lesson_8.ipynb",
      "provenance": [],
      "authorship_tag": "ABX9TyMH7aq5XRJxprV8dmCPY2Li",
      "include_colab_link": true
    },
    "kernelspec": {
      "name": "python3",
      "display_name": "Python 3"
    },
    "language_info": {
      "name": "python"
    }
  },
  "cells": [
    {
      "cell_type": "markdown",
      "metadata": {
        "id": "view-in-github",
        "colab_type": "text"
      },
      "source": [
        "<a href=\"https://colab.research.google.com/github/ib1905/MIPT_Python_professional_development_program/blob/main/Python_lesson_8.ipynb\" target=\"_parent\"><img src=\"https://colab.research.google.com/assets/colab-badge.svg\" alt=\"Open In Colab\"/></a>"
      ]
    },
    {
      "cell_type": "code",
      "execution_count": 6,
      "metadata": {
        "colab": {
          "base_uri": "https://localhost:8080/"
        },
        "id": "hy6Zc6mmubaL",
        "outputId": "3dc38047-5a20-4992-d9ab-e84fd37c3349"
      },
      "outputs": [
        {
          "output_type": "stream",
          "name": "stdout",
          "text": [
            "2\n",
            "3\n",
            "4\n",
            "32\n"
          ]
        }
      ],
      "source": [
        "# Functions\n",
        "n, k, p = int(input()), int(input()), int(input())\n",
        "fn = 1\n",
        "for i in range(2, n + 1):\n",
        "  fn *= i\n",
        "fk = 1\n",
        "for i in range(2, k + 1):\n",
        "  fk *= i\n",
        "fp = 1\n",
        "for i in range(2, p + 1):\n",
        "  fp *= i\n",
        "print(fn + fk + fp)"
      ]
    },
    {
      "cell_type": "code",
      "source": [
        "def f(a): # WORK OUT THE DIFFERENCE WITH THE PREVIOUS EXAMPLE\n",
        "  for i in range(2, a + 1):\n",
        "    a *= i\n",
        "  return a\n",
        "\n",
        "n, k, p = int(input()), int(input()), int(input())\n",
        "print(f(n) + f(k) + f(p))"
      ],
      "metadata": {
        "colab": {
          "base_uri": "https://localhost:8080/"
        },
        "id": "FZCcTV7cWCUb",
        "outputId": "678e90dc-b8c3-4425-e7eb-c4c5c502b570"
      },
      "execution_count": 5,
      "outputs": [
        {
          "output_type": "stream",
          "name": "stdout",
          "text": [
            "2\n",
            "3\n",
            "4\n",
            "118\n"
          ]
        }
      ]
    },
    {
      "cell_type": "code",
      "source": [
        "''' # function notation\n",
        "def function_name([parameters option]):\n",
        "  function_body\n",
        "  [return option]\n",
        "\n",
        "# function call\n",
        "function_name([argument option])\n",
        "'''"
      ],
      "metadata": {
        "id": "BGFLDphiR050"
      },
      "execution_count": null,
      "outputs": []
    },
    {
      "cell_type": "code",
      "source": [
        "def isOdd(x):\n",
        "  return x % 2 == 1\n",
        "\n",
        "def start_with_upper(name):\n",
        "  return name[0].upper() + name[1:]\n",
        "\n",
        "name = input()\n",
        "start_with_upper(name)"
      ],
      "metadata": {
        "colab": {
          "base_uri": "https://localhost:8080/",
          "height": 55
        },
        "id": "p6hbu0iJTMZa",
        "outputId": "33e30eb5-8560-428b-e746-2db0cb28e1ed"
      },
      "execution_count": 4,
      "outputs": [
        {
          "name": "stdout",
          "output_type": "stream",
          "text": [
            "ivan\n"
          ]
        },
        {
          "output_type": "execute_result",
          "data": {
            "text/plain": [
              "'Ivan'"
            ],
            "application/vnd.google.colaboratory.intrinsic+json": {
              "type": "string"
            }
          },
          "metadata": {},
          "execution_count": 4
        }
      ]
    },
    {
      "cell_type": "code",
      "source": [
        "# local variables are within function definition ('def' block); global variables are outside and CAN be used inside 'def'"
      ],
      "metadata": {
        "id": "wGY--4wwYPvi"
      },
      "execution_count": null,
      "outputs": []
    },
    {
      "cell_type": "code",
      "source": [
        "my_string = 'name'\n",
        "my_string[0] = 'N' # immutable type, thus an error"
      ],
      "metadata": {
        "colab": {
          "base_uri": "https://localhost:8080/",
          "height": 182
        },
        "id": "ZkU4MtS2dgAf",
        "outputId": "1701f4bb-035a-4fe8-8a70-26cb2ef19f6e"
      },
      "execution_count": 7,
      "outputs": [
        {
          "output_type": "error",
          "ename": "TypeError",
          "evalue": "ignored",
          "traceback": [
            "\u001b[0;31m---------------------------------------------------------------------------\u001b[0m",
            "\u001b[0;31mTypeError\u001b[0m                                 Traceback (most recent call last)",
            "\u001b[0;32m<ipython-input-7-767d336346ff>\u001b[0m in \u001b[0;36m<module>\u001b[0;34m()\u001b[0m\n\u001b[1;32m      1\u001b[0m \u001b[0mmy_string\u001b[0m \u001b[0;34m=\u001b[0m \u001b[0;34m'name'\u001b[0m\u001b[0;34m\u001b[0m\u001b[0;34m\u001b[0m\u001b[0m\n\u001b[0;32m----> 2\u001b[0;31m \u001b[0mmy_string\u001b[0m\u001b[0;34m[\u001b[0m\u001b[0;36m0\u001b[0m\u001b[0;34m]\u001b[0m \u001b[0;34m=\u001b[0m \u001b[0;34m'N'\u001b[0m\u001b[0;34m\u001b[0m\u001b[0;34m\u001b[0m\u001b[0m\n\u001b[0m",
            "\u001b[0;31mTypeError\u001b[0m: 'str' object does not support item assignment"
          ]
        }
      ]
    },
    {
      "cell_type": "code",
      "source": [
        "# Mutable types are lists, sets and dicts\n",
        "\n",
        "def f(x):\n",
        "  x += 3\n",
        "  print('x in def:', x)\n",
        "\n",
        "z = 6.3\n",
        "f(z)\n",
        "print('z:', z)"
      ],
      "metadata": {
        "colab": {
          "base_uri": "https://localhost:8080/"
        },
        "id": "gsIpNC7-du8V",
        "outputId": "8de4b371-3028-48d3-f279-dda75b002b41"
      },
      "execution_count": 10,
      "outputs": [
        {
          "output_type": "stream",
          "name": "stdout",
          "text": [
            "x in def: 9.3\n",
            "z: 6.3\n"
          ]
        }
      ]
    },
    {
      "cell_type": "code",
      "source": [
        "# return is more preferential than printing out the result of its operation\n",
        "\n",
        "# *args is a way to pass an undefined number of arguments to a function in a form of a TUPLE\n",
        "def print_seq(*a):\n",
        "  for x in a:\n",
        "    print(x, end=' ')\n",
        "\n",
        "print_seq(2, 4, 5, 10)\n",
        "\n",
        "# **kwargs is a similar way to pass an undefined number of arguments BUT as a DICT entity"
      ],
      "metadata": {
        "colab": {
          "base_uri": "https://localhost:8080/"
        },
        "id": "aJAMtdz0hwv0",
        "outputId": "d1a2abdc-9709-4396-e47d-c6b916694cef"
      },
      "execution_count": 13,
      "outputs": [
        {
          "output_type": "stream",
          "name": "stdout",
          "text": [
            "2 4 5 10 "
          ]
        }
      ]
    },
    {
      "cell_type": "code",
      "source": [
        "def fib(n):\n",
        "  if n < 3:\n",
        "    return 1\n",
        "  else:\n",
        "    return fib(n - 1) + fib(n - 2)\n",
        "\n",
        "print(fib(10))"
      ],
      "metadata": {
        "colab": {
          "base_uri": "https://localhost:8080/"
        },
        "id": "JHxgIOXqlvwp",
        "outputId": "9c4001ce-86dd-40d7-e42b-1435d04819f8"
      },
      "execution_count": 20,
      "outputs": [
        {
          "output_type": "stream",
          "name": "stdout",
          "text": [
            "55\n"
          ]
        }
      ]
    }
  ]
}