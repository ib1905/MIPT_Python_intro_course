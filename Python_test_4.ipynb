{
  "nbformat": 4,
  "nbformat_minor": 0,
  "metadata": {
    "colab": {
      "name": "Python_test_4.ipynb",
      "provenance": [],
      "authorship_tag": "ABX9TyOmcx8ArM3i9KCQh++7AhKP",
      "include_colab_link": true
    },
    "kernelspec": {
      "name": "python3",
      "display_name": "Python 3"
    },
    "language_info": {
      "name": "python"
    }
  },
  "cells": [
    {
      "cell_type": "markdown",
      "metadata": {
        "id": "view-in-github",
        "colab_type": "text"
      },
      "source": [
        "<a href=\"https://colab.research.google.com/github/ib1905/MIPT_Python_professional_development_program/blob/main/Python_test_4.ipynb\" target=\"_parent\"><img src=\"https://colab.research.google.com/assets/colab-badge.svg\" alt=\"Open In Colab\"/></a>"
      ]
    },
    {
      "cell_type": "code",
      "execution_count": null,
      "metadata": {
        "id": "JJr9ZISfPgph"
      },
      "outputs": [],
      "source": [
        "# log2 (1000) ≈ 10 "
      ]
    },
    {
      "cell_type": "code",
      "source": [
        "# initial list = 23 7 14 36 19 4 11 27 9\n",
        "# after bubble sort N-length swapping: 3) 7 14 23 19 4 11 27 9 36"
      ],
      "metadata": {
        "id": "jqGF18-ZRvVS"
      },
      "execution_count": null,
      "outputs": []
    },
    {
      "cell_type": "code",
      "source": [
        "# unsorted list = 1 4 2 1 3 5 0 3 1 6 0 2 4 5 3 1 2 3 4 7 3 2 7 9 2\n",
        "# counting sort additional list key 4 value is 3"
      ],
      "metadata": {
        "id": "mfqxG1yhXzFH"
      },
      "execution_count": null,
      "outputs": []
    },
    {
      "cell_type": "code",
      "source": [
        "string1 = '1 3 5 8 9 16 18 21 26 29 36 41 48'\n",
        "string2 = '3 8 15 21 21 23 23 27 27 27 29 36 41 44 51 56 62 63 70'\n",
        "string3 = '7 7 12 12 15 18 24 24 31 35 41 42 47 51 57 63 63'\n",
        "\n",
        "list1 = list(map(int, (string1.split())))\n",
        "list2 = list(map(int, (string2.split())))\n",
        "list3 = list(map(int, (string3.split())))\n",
        "\n",
        "print(list1)\n",
        "print(list2)\n",
        "print(list3)\n",
        "\n",
        "print(*sorted(list1 + list2 + list3))"
      ],
      "metadata": {
        "colab": {
          "base_uri": "https://localhost:8080/"
        },
        "id": "DC2f00thY79p",
        "outputId": "7433755f-af8a-4729-dec8-f2e9e2474211"
      },
      "execution_count": null,
      "outputs": [
        {
          "output_type": "stream",
          "name": "stdout",
          "text": [
            "[1, 3, 5, 8, 9, 16, 18, 21, 26, 29, 36, 41, 48]\n",
            "[3, 8, 15, 21, 21, 23, 23, 27, 27, 27, 29, 36, 41, 44, 51, 56, 62, 63, 70]\n",
            "[7, 7, 12, 12, 15, 18, 24, 24, 31, 35, 41, 42, 47, 51, 57, 63, 63]\n",
            "1 3 3 5 7 7 8 8 9 12 12 15 15 16 18 18 21 21 21 23 23 24 24 26 27 27 27 29 29 31 35 36 36 41 41 41 42 44 47 48 51 51 56 57 62 63 63 63 70\n"
          ]
        }
      ]
    },
    {
      "cell_type": "code",
      "source": [
        "# correct variant for Y.Contest\n",
        "\n",
        "list1 = list(map(int, (input().split())))\n",
        "list2 = list(map(int, (input().split())))\n",
        "list3 = list(map(int, (input().split())))\n",
        "\n",
        "print(*sorted(list1 + list2 + list3))"
      ],
      "metadata": {
        "id": "CWfaovz1tlFU"
      },
      "execution_count": null,
      "outputs": []
    },
    {
      "cell_type": "code",
      "source": [
        "my_list = []\n",
        "\n",
        "for _ in range(int(input())):\n",
        "  my_string = input()\n",
        "  my_list.append(my_string)\n",
        "\n",
        "#print(my_list)\n",
        "\n",
        "print(*sorted(my_list), sep='\\n')"
      ],
      "metadata": {
        "colab": {
          "base_uri": "https://localhost:8080/"
        },
        "id": "w3Cm6ZT0xSZp",
        "outputId": "40078f6c-41b8-461c-af43-c2f056da91e9"
      },
      "execution_count": null,
      "outputs": [
        {
          "output_type": "stream",
          "name": "stdout",
          "text": [
            "9\n",
            "lavender 1\n",
            "fuchsia 1\n",
            "orchid 2\n",
            "orchid 3\n",
            "fuchsia 2\n",
            "orchid 1\n",
            "lavender 2\n",
            "orchid 4\n",
            "purple 1\n",
            "['lavender 1', 'fuchsia 1', 'orchid 2', 'orchid 3', 'fuchsia 2', 'orchid 1', 'lavender 2', 'orchid 4', 'purple 1']\n"
          ]
        }
      ]
    },
    {
      "cell_type": "code",
      "source": [
        ""
      ],
      "metadata": {
        "colab": {
          "base_uri": "https://localhost:8080/"
        },
        "id": "gIfOBkmlDiYq",
        "outputId": "7350f9c2-b47b-4ab2-c847-a8da78194fc8"
      },
      "execution_count": null,
      "outputs": [
        {
          "output_type": "stream",
          "name": "stdout",
          "text": [
            "fuchsia 1\n",
            "fuchsia 2\n",
            "lavender 1\n",
            "lavender 2\n",
            "orchid 1\n",
            "orchid 2\n",
            "orchid 3\n",
            "orchid 4\n",
            "purple 1\n"
          ]
        }
      ]
    },
    {
      "cell_type": "code",
      "source": [
        "# initial sequence: 6762 6374 992 663 8384 66 92 118 9 553 7272 7379 773 839\n",
        "# correct asnwer is: 1) 6762 992 92 7272 663 553 773 6374 8384 66 118 9 7379 839"
      ],
      "metadata": {
        "id": "r4Er6fJq_pfo"
      },
      "execution_count": null,
      "outputs": []
    },
    {
      "cell_type": "code",
      "source": [
        "import datetime\n",
        "\n",
        "a = input().split()\n",
        "\n",
        "my_date = a[0].split('.')\n",
        "my_time = a[1].split(':')\n",
        "my_date = list(map(int, my_date))\n",
        "my_time = list(map(int, my_time))\n",
        "\n",
        "print(*my_date)\n",
        "print(*my_time)\n",
        "\n",
        "my_date[0], my_date[-1] = my_date[-1], my_date[0]\n",
        "\n",
        "my_datetime = my_date + my_time\n",
        "print(my_datetime)\n",
        "\n",
        "current_datetime = datetime.datetime(*my_datetime)\n",
        "print(current_datetime)"
      ],
      "metadata": {
        "colab": {
          "base_uri": "https://localhost:8080/"
        },
        "id": "GGQ1jy49jhSU",
        "outputId": "c9b5093c-90e9-412e-a6ff-a336718fff79"
      },
      "execution_count": 26,
      "outputs": [
        {
          "output_type": "stream",
          "name": "stdout",
          "text": [
            "06.02.2022 23:56\n",
            "6 2 2022\n",
            "23 56\n",
            "[2022, 2, 6, 23, 56]\n",
            "2022-02-06 23:56:00\n"
          ]
        }
      ]
    },
    {
      "cell_type": "code",
      "source": [
        "days, hours, minutes = map(int,(input().split()))"
      ],
      "metadata": {
        "colab": {
          "base_uri": "https://localhost:8080/"
        },
        "id": "B9cedn7IoNxv",
        "outputId": "14bd30e8-fcca-4854-ca18-c2a1e82a8965"
      },
      "execution_count": 31,
      "outputs": [
        {
          "name": "stdout",
          "output_type": "stream",
          "text": [
            "6 0 15\n"
          ]
        }
      ]
    },
    {
      "cell_type": "code",
      "source": [
        "change_in_datetime = datetime.timedelta(days = days, hours = hours, minutes = minutes)\n",
        "print(change_in_datetime)\n",
        "new_datetime = current_datetime + change_in_datetime\n",
        "print(new_datetime)"
      ],
      "metadata": {
        "colab": {
          "base_uri": "https://localhost:8080/"
        },
        "id": "YsCECB8poxYG",
        "outputId": "16e45daf-ac46-4828-e78e-2c275abab060"
      },
      "execution_count": 36,
      "outputs": [
        {
          "output_type": "stream",
          "name": "stdout",
          "text": [
            "6 days, 0:15:00\n",
            "2022-02-13 00:11:00\n"
          ]
        }
      ]
    },
    {
      "cell_type": "code",
      "source": [
        "print(new_datetime.strftime('%d.%m.%Y %H:%M'))"
      ],
      "metadata": {
        "colab": {
          "base_uri": "https://localhost:8080/"
        },
        "id": "6GrbbmsfqZwW",
        "outputId": "897ce8c2-3a11-4f36-a3d4-1e06ad0cdc7b"
      },
      "execution_count": 42,
      "outputs": [
        {
          "output_type": "stream",
          "name": "stdout",
          "text": [
            "13.02.2022 00:11\n"
          ]
        }
      ]
    },
    {
      "cell_type": "code",
      "source": [
        "# putting the above all together\n",
        "\n",
        "import datetime\n",
        "\n",
        "a = input().split()\n",
        "\n",
        "my_date = a[0].split('.')\n",
        "my_time = a[1].split(':')\n",
        "my_date = list(map(int, my_date))\n",
        "my_time = list(map(int, my_time))\n",
        "\n",
        "#print(*my_date)\n",
        "#print(*my_time)\n",
        "\n",
        "my_date[0], my_date[-1] = my_date[-1], my_date[0]\n",
        "\n",
        "my_datetime = my_date + my_time\n",
        "#print(my_datetime)\n",
        "\n",
        "current_datetime = datetime.datetime(*my_datetime)\n",
        "#print(current_datetime)\n",
        "\n",
        "days, hours, minutes = map(int,(input().split()))\n",
        "\n",
        "change_in_datetime = datetime.timedelta(days = days, hours = hours, minutes = minutes)\n",
        "#print(change_in_datetime)\n",
        "new_datetime = current_datetime + change_in_datetime\n",
        "#print(new_datetime)\n",
        "\n",
        "print(new_datetime.strftime('%d.%m.%Y %H:%M'))"
      ],
      "metadata": {
        "colab": {
          "base_uri": "https://localhost:8080/"
        },
        "id": "tJ06R1AJsUQW",
        "outputId": "86880d19-dea7-4565-e8b9-1f845885ee40"
      },
      "execution_count": 43,
      "outputs": [
        {
          "output_type": "stream",
          "name": "stdout",
          "text": [
            "06.02.2022 23:56\n",
            "6 0 15\n",
            "13.02.2022 00:11\n"
          ]
        }
      ]
    },
    {
      "cell_type": "code",
      "source": [
        "import datetime\n",
        "\n",
        "datetime1 = datetime.datetime(2022, 10, 1, 2, 24)\n",
        "datetime2 = datetime.datetime(2022, 10, 11, 20, 44)\n",
        "print(datetime2 - datetime1)"
      ],
      "metadata": {
        "colab": {
          "base_uri": "https://localhost:8080/"
        },
        "id": "YWfTbOHotbaq",
        "outputId": "4c6fa6cb-3581-41de-bf88-ae77e85f7811"
      },
      "execution_count": 44,
      "outputs": [
        {
          "output_type": "stream",
          "name": "stdout",
          "text": [
            "10 days, 18:20:00\n"
          ]
        }
      ]
    }
  ]
}