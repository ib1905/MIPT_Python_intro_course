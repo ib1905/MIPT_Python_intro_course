{
  "nbformat": 4,
  "nbformat_minor": 0,
  "metadata": {
    "colab": {
      "name": "Python_test_4.ipynb",
      "provenance": [],
      "authorship_tag": "ABX9TyOo+tOJuWMNm0pYRpzFQ744",
      "include_colab_link": true
    },
    "kernelspec": {
      "name": "python3",
      "display_name": "Python 3"
    },
    "language_info": {
      "name": "python"
    }
  },
  "cells": [
    {
      "cell_type": "markdown",
      "metadata": {
        "id": "view-in-github",
        "colab_type": "text"
      },
      "source": [
        "<a href=\"https://colab.research.google.com/github/ib1905/MIPT_Python_professional_development_program/blob/main/Python_test_4.ipynb\" target=\"_parent\"><img src=\"https://colab.research.google.com/assets/colab-badge.svg\" alt=\"Open In Colab\"/></a>"
      ]
    },
    {
      "cell_type": "code",
      "execution_count": null,
      "metadata": {
        "id": "JJr9ZISfPgph"
      },
      "outputs": [],
      "source": [
        "# log2 (1000) ≈ 10 "
      ]
    },
    {
      "cell_type": "code",
      "source": [
        "# initial list = 23 7 14 36 19 4 11 27 9\n",
        "# after bubble sort N-length swapping: 3) 7 14 23 19 4 11 27 9 36"
      ],
      "metadata": {
        "id": "jqGF18-ZRvVS"
      },
      "execution_count": null,
      "outputs": []
    },
    {
      "cell_type": "code",
      "source": [
        "# unsorted list = 1 4 2 1 3 5 0 3 1 6 0 2 4 5 3 1 2 3 4 7 3 2 7 9 2\n",
        "# counting sort additional list key 4 value is 3"
      ],
      "metadata": {
        "id": "mfqxG1yhXzFH"
      },
      "execution_count": null,
      "outputs": []
    },
    {
      "cell_type": "code",
      "source": [
        "string1 = '1 3 5 8 9 16 18 21 26 29 36 41 48'\n",
        "string2 = '3 8 15 21 21 23 23 27 27 27 29 36 41 44 51 56 62 63 70'\n",
        "string3 = '7 7 12 12 15 18 24 24 31 35 41 42 47 51 57 63 63'\n",
        "\n",
        "list1 = list(map(int, (string1.split())))\n",
        "list2 = list(map(int, (string2.split())))\n",
        "list3 = list(map(int, (string3.split())))\n",
        "\n",
        "print(list1)\n",
        "print(list2)\n",
        "print(list3)\n",
        "\n",
        "print(*sorted(list1 + list2 + list3))"
      ],
      "metadata": {
        "colab": {
          "base_uri": "https://localhost:8080/"
        },
        "id": "DC2f00thY79p",
        "outputId": "7433755f-af8a-4729-dec8-f2e9e2474211"
      },
      "execution_count": 40,
      "outputs": [
        {
          "output_type": "stream",
          "name": "stdout",
          "text": [
            "[1, 3, 5, 8, 9, 16, 18, 21, 26, 29, 36, 41, 48]\n",
            "[3, 8, 15, 21, 21, 23, 23, 27, 27, 27, 29, 36, 41, 44, 51, 56, 62, 63, 70]\n",
            "[7, 7, 12, 12, 15, 18, 24, 24, 31, 35, 41, 42, 47, 51, 57, 63, 63]\n",
            "1 3 3 5 7 7 8 8 9 12 12 15 15 16 18 18 21 21 21 23 23 24 24 26 27 27 27 29 29 31 35 36 36 41 41 41 42 44 47 48 51 51 56 57 62 63 63 63 70\n"
          ]
        }
      ]
    },
    {
      "cell_type": "code",
      "source": [
        "# correct variant for Y.Contest\n",
        "\n",
        "list1 = list(map(int, (input().split())))\n",
        "list2 = list(map(int, (input().split())))\n",
        "list3 = list(map(int, (input().split())))\n",
        "\n",
        "print(*sorted(list1 + list2 + list3))"
      ],
      "metadata": {
        "id": "CWfaovz1tlFU"
      },
      "execution_count": null,
      "outputs": []
    },
    {
      "cell_type": "code",
      "source": [
        "dict = {}\n",
        "\n",
        "for _ in range(int(input())):\n",
        "  dict[_] = input()\n",
        "\n",
        "print(dict)"
      ],
      "metadata": {
        "colab": {
          "base_uri": "https://localhost:8080/"
        },
        "id": "w3Cm6ZT0xSZp",
        "outputId": "ff3e0a23-1266-4ce1-b1ef-cbbe6ef79f3e"
      },
      "execution_count": 44,
      "outputs": [
        {
          "output_type": "stream",
          "name": "stdout",
          "text": [
            "2\n",
            "123\n",
            "321\n",
            "{0: '123', 1: '321'}\n"
          ]
        }
      ]
    }
  ]
}