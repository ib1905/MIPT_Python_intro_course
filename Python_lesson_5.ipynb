{
  "nbformat": 4,
  "nbformat_minor": 0,
  "metadata": {
    "colab": {
      "name": "Python_lesson_5.ipynb",
      "provenance": [],
      "authorship_tag": "ABX9TyPjonVL5Md+LC5XFPRVjM9W",
      "include_colab_link": true
    },
    "kernelspec": {
      "name": "python3",
      "display_name": "Python 3"
    },
    "language_info": {
      "name": "python"
    }
  },
  "cells": [
    {
      "cell_type": "markdown",
      "metadata": {
        "id": "view-in-github",
        "colab_type": "text"
      },
      "source": [
        "<a href=\"https://colab.research.google.com/github/ib1905/MIPT_Python_professional_development_program/blob/main/Python_lesson_5.ipynb\" target=\"_parent\"><img src=\"https://colab.research.google.com/assets/colab-badge.svg\" alt=\"Open In Colab\"/></a>"
      ]
    },
    {
      "cell_type": "code",
      "execution_count": null,
      "metadata": {
        "colab": {
          "base_uri": "https://localhost:8080/",
          "height": 38
        },
        "id": "dYMXrR71vB4U",
        "outputId": "65f2d70f-3ea4-4bab-f4a7-cc9c5a9eb3a0"
      },
      "outputs": [
        {
          "output_type": "execute_result",
          "data": {
            "text/plain": [
              "'h'"
            ],
            "application/vnd.google.colaboratory.intrinsic+json": {
              "type": "string"
            }
          },
          "metadata": {},
          "execution_count": 2
        }
      ],
      "source": [
        "# a collection saves several values in one variable\n",
        "\n",
        "word = 'hello'\n",
        "word[0]"
      ]
    },
    {
      "cell_type": "code",
      "source": [
        "word = 'hello'\n",
        "word[int(input())]"
      ],
      "metadata": {
        "colab": {
          "base_uri": "https://localhost:8080/",
          "height": 55
        },
        "id": "tw2sIQxKxM3t",
        "outputId": "ac3cc8be-7d62-47c7-e447-de4372cd3a70"
      },
      "execution_count": null,
      "outputs": [
        {
          "name": "stdout",
          "output_type": "stream",
          "text": [
            "-1\n"
          ]
        },
        {
          "output_type": "execute_result",
          "data": {
            "text/plain": [
              "'o'"
            ],
            "application/vnd.google.colaboratory.intrinsic+json": {
              "type": "string"
            }
          },
          "metadata": {},
          "execution_count": 4
        }
      ]
    },
    {
      "cell_type": "code",
      "source": [
        "word = 'hi'\n",
        "word[1] = 'e' # won't work as string is of immutable kind"
      ],
      "metadata": {
        "colab": {
          "base_uri": "https://localhost:8080/",
          "height": 182
        },
        "id": "oQnEPhOBxvRR",
        "outputId": "53d32937-5f39-45ae-d3bb-f165f55d8d70"
      },
      "execution_count": null,
      "outputs": [
        {
          "output_type": "error",
          "ename": "TypeError",
          "evalue": "ignored",
          "traceback": [
            "\u001b[0;31m---------------------------------------------------------------------------\u001b[0m",
            "\u001b[0;31mTypeError\u001b[0m                                 Traceback (most recent call last)",
            "\u001b[0;32m<ipython-input-6-b616023bf98f>\u001b[0m in \u001b[0;36m<module>\u001b[0;34m()\u001b[0m\n\u001b[1;32m      1\u001b[0m \u001b[0mword\u001b[0m \u001b[0;34m=\u001b[0m \u001b[0;34m'hi'\u001b[0m\u001b[0;34m\u001b[0m\u001b[0;34m\u001b[0m\u001b[0m\n\u001b[0;32m----> 2\u001b[0;31m \u001b[0mword\u001b[0m\u001b[0;34m[\u001b[0m\u001b[0;36m1\u001b[0m\u001b[0;34m]\u001b[0m \u001b[0;34m=\u001b[0m \u001b[0;34m'e'\u001b[0m\u001b[0;34m\u001b[0m\u001b[0;34m\u001b[0m\u001b[0m\n\u001b[0m",
            "\u001b[0;31mTypeError\u001b[0m: 'str' object does not support item assignment"
          ]
        }
      ]
    },
    {
      "cell_type": "code",
      "source": [
        "'3.14' in '3.14159'"
      ],
      "metadata": {
        "colab": {
          "base_uri": "https://localhost:8080/"
        },
        "id": "UwSrnGbbyHuC",
        "outputId": "967f724c-5eba-41d5-af27-0eb92d431cba"
      },
      "execution_count": null,
      "outputs": [
        {
          "output_type": "execute_result",
          "data": {
            "text/plain": [
              "True"
            ]
          },
          "metadata": {},
          "execution_count": 7
        }
      ]
    },
    {
      "cell_type": "code",
      "source": [
        "text = 'Laziness is a programmer\\'s best asset'\n",
        "vowels = 0\n",
        "for i in text:\n",
        "  if i in {'a', 'e', 'i', 'o', 'u', 'y'}: # or in 'aeiouy'\n",
        "    vowels += 1\n",
        "vowels"
      ],
      "metadata": {
        "colab": {
          "base_uri": "https://localhost:8080/"
        },
        "id": "i-5nBtH4ybw-",
        "outputId": "2029983a-fe54-471c-e358-55df6327b0e8"
      },
      "execution_count": null,
      "outputs": [
        {
          "output_type": "execute_result",
          "data": {
            "text/plain": [
              "11"
            ]
          },
          "metadata": {},
          "execution_count": 8
        }
      ]
    },
    {
      "cell_type": "code",
      "source": [
        "text = 'Laziness is a programmer\\'s best asset'\n",
        "vowels = 0\n",
        "for i in range(len(text)):\n",
        "  if text[i] in {'a', 'e', 'i', 'o', 'u', 'y'}: # or in 'aeiouy'\n",
        "    vowels += 1\n",
        "vowels"
      ],
      "metadata": {
        "colab": {
          "base_uri": "https://localhost:8080/"
        },
        "id": "SmgQHEvkzkH2",
        "outputId": "d733776d-9a93-4fa5-96ad-b753d745bc5b"
      },
      "execution_count": null,
      "outputs": [
        {
          "output_type": "execute_result",
          "data": {
            "text/plain": [
              "11"
            ]
          },
          "metadata": {},
          "execution_count": 9
        }
      ]
    },
    {
      "cell_type": "code",
      "source": [
        "'\\u2603' # works with Unicode or ASCII"
      ],
      "metadata": {
        "colab": {
          "base_uri": "https://localhost:8080/",
          "height": 38
        },
        "id": "c9ENhQtk0pHc",
        "outputId": "834e9a04-84e5-4d5b-d936-fcf8853e8af9"
      },
      "execution_count": null,
      "outputs": [
        {
          "output_type": "execute_result",
          "data": {
            "text/plain": [
              "'☃'"
            ],
            "application/vnd.google.colaboratory.intrinsic+json": {
              "type": "string"
            }
          },
          "metadata": {},
          "execution_count": 10
        }
      ]
    },
    {
      "cell_type": "code",
      "source": [
        "for i in range(26):\n",
        "  print(chr(ord('A') + i), end=' ') # used to convert a character to an integer and vice versa"
      ],
      "metadata": {
        "colab": {
          "base_uri": "https://localhost:8080/"
        },
        "id": "x8xVDqec02zE",
        "outputId": "eed69ec4-229f-4b90-80af-d68d9d999170"
      },
      "execution_count": null,
      "outputs": [
        {
          "output_type": "stream",
          "name": "stdout",
          "text": [
            "A B C D E F G H I J K L M N O P Q R S T U V W X Y Z "
          ]
        }
      ]
    },
    {
      "cell_type": "code",
      "source": [
        "ord('A')"
      ],
      "metadata": {
        "colab": {
          "base_uri": "https://localhost:8080/"
        },
        "id": "Z0FDjvJJ1oYm",
        "outputId": "db8be082-7b3f-4dca-c378-b993d67e357c"
      },
      "execution_count": null,
      "outputs": [
        {
          "output_type": "execute_result",
          "data": {
            "text/plain": [
              "65"
            ]
          },
          "metadata": {},
          "execution_count": 22
        }
      ]
    },
    {
      "cell_type": "code",
      "source": [
        "chr(65)"
      ],
      "metadata": {
        "colab": {
          "base_uri": "https://localhost:8080/",
          "height": 38
        },
        "id": "cGFLtcEY1uCw",
        "outputId": "2af4f047-296b-4560-bfc8-7084472ce34b"
      },
      "execution_count": null,
      "outputs": [
        {
          "output_type": "execute_result",
          "data": {
            "text/plain": [
              "'A'"
            ],
            "application/vnd.google.colaboratory.intrinsic+json": {
              "type": "string"
            }
          },
          "metadata": {},
          "execution_count": 12
        }
      ]
    },
    {
      "cell_type": "code",
      "source": [
        "n = 99.8 \n",
        "ns = str(n)\n",
        "print(ns)\n",
        "print(type(ns))"
      ],
      "metadata": {
        "colab": {
          "base_uri": "https://localhost:8080/"
        },
        "id": "6MM7jJC72WbV",
        "outputId": "b065059c-4e8f-4afb-d09b-4877cbc99c03"
      },
      "execution_count": null,
      "outputs": [
        {
          "output_type": "stream",
          "name": "stdout",
          "text": [
            "99.8\n",
            "<class 'str'>\n"
          ]
        }
      ]
    },
    {
      "cell_type": "code",
      "source": [
        "# slices\n",
        "text = 'Laziness is a programmer\\'s best asset'\n",
        "print(text[:8])\n",
        "print(text[32:])"
      ],
      "metadata": {
        "colab": {
          "base_uri": "https://localhost:8080/"
        },
        "id": "N_Qt1j6GGfSX",
        "outputId": "1fc793e2-307c-43fa-be15-6943dd65e632"
      },
      "execution_count": null,
      "outputs": [
        {
          "output_type": "stream",
          "name": "stdout",
          "text": [
            "Laziness\n",
            "asset\n"
          ]
        }
      ]
    },
    {
      "cell_type": "code",
      "source": [
        "text = 'Laziness is a programmer\\'s best asset'\n",
        "text2 = text[:]\n",
        "text2\n",
        "print(id(text))\n",
        "print(id(text2))\n",
        "\n",
        "text2 += '!'\n",
        "print(text2)\n",
        "print(id(text2))"
      ],
      "metadata": {
        "colab": {
          "base_uri": "https://localhost:8080/"
        },
        "id": "xafFf4aJIYzF",
        "outputId": "93af3d29-067d-4861-b7d7-fdda0b53d54a"
      },
      "execution_count": null,
      "outputs": [
        {
          "output_type": "stream",
          "name": "stdout",
          "text": [
            "139770642688880\n",
            "139770642688880\n",
            "Laziness is a programmer's best asset!\n",
            "139770643851664\n"
          ]
        }
      ]
    },
    {
      "cell_type": "code",
      "source": [
        "# methods are unique to their designated objects whereas functions are universal\n",
        "string = input()\n",
        "sub_string = input()\n",
        "position = string.find(sub_string) # find method\n",
        "while position != -1:\n",
        "  print(position, end=' ')\n",
        "  position = string.find(sub_string, position + 1)"
      ],
      "metadata": {
        "colab": {
          "base_uri": "https://localhost:8080/"
        },
        "id": "giRfalj-2jcD",
        "outputId": "bcda541f-5cfc-4442-b821-058f07c67ddb"
      },
      "execution_count": null,
      "outputs": [
        {
          "output_type": "stream",
          "name": "stdout",
          "text": [
            "something here\n",
            "e\n",
            "3 11 13 "
          ]
        }
      ]
    },
    {
      "cell_type": "code",
      "source": [
        "''' lists include various types of data\n",
        "elements could be located in different parts of memory - slower performance than in case of arrays\n",
        "lists are mutable '''\n",
        "\n",
        "empty_list = []\n",
        "print(empty_list)\n",
        "another_empty_list = list() # turns some collection into a list\n",
        "print(another_empty_list)\n",
        "print(type(another_empty_list))\n",
        "yet_another_empty_list = [None] * 10 # a way to define an empty list\n",
        "yet_another_empty_list2 = [0] * 10"
      ],
      "metadata": {
        "colab": {
          "base_uri": "https://localhost:8080/"
        },
        "id": "DHghwrijLVcm",
        "outputId": "6eeb19fe-6366-4cd0-a715-80949611f026"
      },
      "execution_count": null,
      "outputs": [
        {
          "output_type": "stream",
          "name": "stdout",
          "text": [
            "[]\n",
            "[]\n",
            "<class 'list'>\n"
          ]
        }
      ]
    },
    {
      "cell_type": "code",
      "source": [
        "my_list = ['list', 3.14, 'tuple', 13, 'dict', True, 'set', (2, 1)] # tuples are specified in parentheses ()\n",
        "print(my_list)"
      ],
      "metadata": {
        "colab": {
          "base_uri": "https://localhost:8080/"
        },
        "id": "ZZ3YXs-rMllY",
        "outputId": "f6d78659-8a23-46cf-89f4-a2a8edccb312"
      },
      "execution_count": null,
      "outputs": [
        {
          "output_type": "stream",
          "name": "stdout",
          "text": [
            "['list', 3.14, 'tuple', 13, 'dict', True, 'set', (2, 1)]\n"
          ]
        }
      ]
    },
    {
      "cell_type": "code",
      "source": [
        "my_nested_list = [\n",
        "                  [1, 2, 3],\n",
        "                  ['Ivan', 'Joe', 'Macy']\n",
        "]\n",
        "print(my_nested_list)\n",
        "print(len(my_nested_list))"
      ],
      "metadata": {
        "colab": {
          "base_uri": "https://localhost:8080/"
        },
        "id": "2thf4akdOZvu",
        "outputId": "566c6501-d6e2-4946-90f9-0d9df1e184f6"
      },
      "execution_count": null,
      "outputs": [
        {
          "output_type": "stream",
          "name": "stdout",
          "text": [
            "[[1, 2, 3], ['Ivan', 'Joe', 'Macy']]\n",
            "2\n"
          ]
        }
      ]
    },
    {
      "cell_type": "code",
      "source": [
        "print(my_list[1])\n",
        "print(my_nested_list[1][0]) # inner element comes before outer one"
      ],
      "metadata": {
        "colab": {
          "base_uri": "https://localhost:8080/"
        },
        "id": "iJdKb-xsPqwH",
        "outputId": "9416d751-b079-4e37-e90b-fb39c49d3792"
      },
      "execution_count": null,
      "outputs": [
        {
          "output_type": "stream",
          "name": "stdout",
          "text": [
            "3.14\n",
            "Ivan\n"
          ]
        }
      ]
    },
    {
      "cell_type": "code",
      "source": [
        "my_list[2] = 'frozenset'\n",
        "print(my_list)\n",
        "print('tuple' in my_list)\n",
        "print('dict' in my_list)"
      ],
      "metadata": {
        "colab": {
          "base_uri": "https://localhost:8080/"
        },
        "id": "8dQIww42Qmd3",
        "outputId": "7a7d3981-bc49-4061-c39d-5bdf7520ac28"
      },
      "execution_count": null,
      "outputs": [
        {
          "output_type": "stream",
          "name": "stdout",
          "text": [
            "['list', 3.14, 'frozenset', 13, 'dict', True, 'set', (2, 1)]\n",
            "False\n",
            "True\n"
          ]
        }
      ]
    },
    {
      "cell_type": "code",
      "source": [
        "# common functions for lists\n",
        "\n",
        "num_list = [1, 2, 8, 10, -5, 88]\n",
        "print(sum(num_list))\n",
        "print(min(num_list))\n",
        "print(max(num_list))"
      ],
      "metadata": {
        "colab": {
          "base_uri": "https://localhost:8080/"
        },
        "id": "BGSlyNZPRaI3",
        "outputId": "9306815d-4f05-4143-cf94-00f24759e61c"
      },
      "execution_count": null,
      "outputs": [
        {
          "output_type": "stream",
          "name": "stdout",
          "text": [
            "104\n",
            "-5\n",
            "88\n"
          ]
        }
      ]
    },
    {
      "cell_type": "code",
      "source": [
        "# common methods for lists\n",
        "\n",
        "num_list = [1, 2, 8, 10, -5, 88]\n",
        "num_list.append(0)\n",
        "print(num_list)\n",
        "\n",
        "num_list.append(input())\n",
        "print(num_list)\n",
        "\n",
        "num_list.append([0, 1, 3])\n",
        "print(num_list)"
      ],
      "metadata": {
        "colab": {
          "base_uri": "https://localhost:8080/"
        },
        "id": "hrjk9IthSJjb",
        "outputId": "65eaeae4-f583-4c3e-b9c6-e719fa469d3b"
      },
      "execution_count": 1,
      "outputs": [
        {
          "output_type": "stream",
          "name": "stdout",
          "text": [
            "[1, 2, 8, 10, -5, 88, 0]\n",
            "foo\n",
            "[1, 2, 8, 10, -5, 88, 0, 'foo']\n",
            "[1, 2, 8, 10, -5, 88, 0, 'foo', [0, 1, 3]]\n"
          ]
        }
      ]
    },
    {
      "cell_type": "code",
      "source": [
        "# list sorting\n",
        "\n",
        "num_list = [1, 2, 8, 10, -5, 88]\n",
        "num_list.sort() # method changes our list\n",
        "print(num_list)\n",
        "\n",
        "num_list = [1, 2, 8, 10, -5, 88]\n",
        "num_list2 = sorted(num_list) # function does NOT change our list, as we assign the result to a new list\n",
        "print(num_list2)"
      ],
      "metadata": {
        "colab": {
          "base_uri": "https://localhost:8080/"
        },
        "id": "J6Dst1jnKDS5",
        "outputId": "e0b96beb-9b3f-40d8-eb29-2aea5632a2f2"
      },
      "execution_count": null,
      "outputs": [
        {
          "output_type": "stream",
          "name": "stdout",
          "text": [
            "[-5, 1, 2, 8, 10, 88]\n",
            "[-5, 1, 2, 8, 10, 88]\n"
          ]
        }
      ]
    },
    {
      "cell_type": "code",
      "source": [
        "num_list = [1, 2, 8, 10, -5, 88]\n",
        "num_list2 = num_list[:] # makes a copy of our list"
      ],
      "metadata": {
        "id": "FYbkH0HJR1ZU"
      },
      "execution_count": null,
      "outputs": []
    },
    {
      "cell_type": "code",
      "source": [
        "a = ['list', 'tuple', 'dict', 'set']\n",
        "print(sorted(a))\n",
        "print(sorted(a, key=len, reverse=True)) # sorts according to length of elements"
      ],
      "metadata": {
        "colab": {
          "base_uri": "https://localhost:8080/"
        },
        "id": "PBmA-DmnSF_m",
        "outputId": "a8d8011b-a57c-4eaa-fecf-555c93098e5a"
      },
      "execution_count": null,
      "outputs": [
        {
          "output_type": "stream",
          "name": "stdout",
          "text": [
            "['dict', 'list', 'set', 'tuple']\n",
            "['tuple', 'list', 'dict', 'set']\n"
          ]
        }
      ]
    },
    {
      "cell_type": "code",
      "source": [
        "def no_print(x): # on the contrary, lambda is a shorhand notation for a simple function\n",
        "  print('***')\n",
        "\n",
        "no_print(2)"
      ],
      "metadata": {
        "colab": {
          "base_uri": "https://localhost:8080/"
        },
        "id": "QwFKSsg_TafF",
        "outputId": "a629134b-b83c-4420-f05f-9b74c755e46c"
      },
      "execution_count": null,
      "outputs": [
        {
          "output_type": "stream",
          "name": "stdout",
          "text": [
            "***\n"
          ]
        }
      ]
    },
    {
      "cell_type": "code",
      "source": [
        "a = [['Jan', 1], ['Jan', 2], ['Feb', 7], ['Mar', 10]]\n",
        "sorted(a, key=lambda x: (x[0], x[1]))"
      ],
      "metadata": {
        "colab": {
          "base_uri": "https://localhost:8080/"
        },
        "id": "sQMntwgnZCCx",
        "outputId": "78e3bcc6-26e3-4049-8521-a9e221a33002"
      },
      "execution_count": null,
      "outputs": [
        {
          "output_type": "execute_result",
          "data": {
            "text/plain": [
              "[['Feb', 7], ['Jan', 1], ['Jan', 2], ['Mar', 10]]"
            ]
          },
          "metadata": {},
          "execution_count": 19
        }
      ]
    },
    {
      "cell_type": "code",
      "source": [
        "from operator import itemgetter\n",
        "a = [['Jan', 1], ['Jan', 2], ['Feb', 7], ['Mar', 10]]\n",
        "sorted(a, key=itemgetter(0, 1))"
      ],
      "metadata": {
        "colab": {
          "base_uri": "https://localhost:8080/"
        },
        "id": "QLL_Swz4ZwGb",
        "outputId": "82a45134-0424-4fd4-e811-c24bf2475a1b"
      },
      "execution_count": null,
      "outputs": [
        {
          "output_type": "execute_result",
          "data": {
            "text/plain": [
              "[['Feb', 7], ['Jan', 1], ['Jan', 2], ['Mar', 10]]"
            ]
          },
          "metadata": {},
          "execution_count": 20
        }
      ]
    },
    {
      "cell_type": "code",
      "source": [
        "from random import randint\n",
        "num = []\n",
        "for i in range(20):\n",
        "  num.append(randint(1, 100))\n",
        "print(num, end=' ')"
      ],
      "metadata": {
        "colab": {
          "base_uri": "https://localhost:8080/"
        },
        "id": "ft59Sb7qXnee",
        "outputId": "4c9c7fa2-2830-4f3c-fe77-bd92a35763a2"
      },
      "execution_count": null,
      "outputs": [
        {
          "output_type": "stream",
          "name": "stdout",
          "text": [
            "[15, 44, 44, 13, 96, 75, 80, 12, 94, 79, 12, 63, 83, 31, 25, 39, 45, 64, 18, 95] "
          ]
        }
      ]
    },
    {
      "cell_type": "code",
      "source": [
        "# split method for STRINGS\n",
        "\n",
        "my_string = input().split() # sep in parentheses after split\n",
        "print(my_string)"
      ],
      "metadata": {
        "colab": {
          "base_uri": "https://localhost:8080/"
        },
        "id": "0Xtx2s-oa5Ww",
        "outputId": "c6bc45ba-dd6f-4d0b-8c6f-015fce2b8919"
      },
      "execution_count": null,
      "outputs": [
        {
          "output_type": "stream",
          "name": "stdout",
          "text": [
            "1 2 3 4 5 True foo\n",
            "['1', '2', '3', '4', '5', 'True', 'foo']\n"
          ]
        }
      ]
    },
    {
      "cell_type": "code",
      "source": [
        "# converting strings into integers using a for loop\n",
        "my_string = input().split()\n",
        "for i in range(len(my_string)):\n",
        "  my_string[i] = int(my_string[i])\n",
        "print(my_string)"
      ],
      "metadata": {
        "colab": {
          "base_uri": "https://localhost:8080/"
        },
        "id": "TuSJfaardv5I",
        "outputId": "d38b1953-6edb-44f9-f895-0268e75b39fa"
      },
      "execution_count": null,
      "outputs": [
        {
          "output_type": "stream",
          "name": "stdout",
          "text": [
            "1 2 3 4 5\n",
            "[1, 2, 3, 4, 5]\n"
          ]
        }
      ]
    },
    {
      "cell_type": "code",
      "source": [
        "# joining LIST elements into a string\n",
        "\n",
        "my_string = input().split('-') # sep in parentheses after split\n",
        "print(my_string)\n",
        "\n",
        "'-'.join(my_string)\n"
      ],
      "metadata": {
        "colab": {
          "base_uri": "https://localhost:8080/",
          "height": 73
        },
        "id": "dNJ0NIumed6M",
        "outputId": "0cdf1efd-aaba-4efb-ddd8-0653c0563a5a"
      },
      "execution_count": null,
      "outputs": [
        {
          "output_type": "stream",
          "name": "stdout",
          "text": [
            "ho-ho-ho\n",
            "['ho', 'ho', 'ho']\n"
          ]
        },
        {
          "output_type": "execute_result",
          "data": {
            "text/plain": [
              "'ho-ho-ho'"
            ],
            "application/vnd.google.colaboratory.intrinsic+json": {
              "type": "string"
            }
          },
          "metadata": {},
          "execution_count": 37
        }
      ]
    },
    {
      "cell_type": "code",
      "source": [
        "# tuples are IMMUTABLE lists\n",
        "\n",
        "empty_tuple = ()\n",
        "print(empty_tuple)\n",
        "\n",
        "empty_tuple = tuple()\n",
        "\n",
        "my_tuple = (1, 2, 3, 4)\n",
        "print(my_tuple)\n",
        "my_tuple[2]"
      ],
      "metadata": {
        "colab": {
          "base_uri": "https://localhost:8080/"
        },
        "id": "QKhFOGzkfc91",
        "outputId": "2408eccf-bde7-4483-ef63-2cbfa0014d24"
      },
      "execution_count": null,
      "outputs": [
        {
          "output_type": "stream",
          "name": "stdout",
          "text": [
            "()\n",
            "(1, 2, 3, 4)\n"
          ]
        },
        {
          "output_type": "execute_result",
          "data": {
            "text/plain": [
              "3"
            ]
          },
          "metadata": {},
          "execution_count": 41
        }
      ]
    },
    {
      "cell_type": "code",
      "source": [
        "a = 1, 2\n",
        "type(a)"
      ],
      "metadata": {
        "colab": {
          "base_uri": "https://localhost:8080/"
        },
        "id": "u8x5z5f7f9_R",
        "outputId": "474b4901-141d-4cad-e990-b603fb673e4b"
      },
      "execution_count": null,
      "outputs": [
        {
          "output_type": "execute_result",
          "data": {
            "text/plain": [
              "tuple"
            ]
          },
          "metadata": {},
          "execution_count": 42
        }
      ]
    },
    {
      "cell_type": "code",
      "source": [
        "a = 1, # creating 1-element tuple\n",
        "type(a)"
      ],
      "metadata": {
        "colab": {
          "base_uri": "https://localhost:8080/"
        },
        "id": "Ph9dRSMhgGjT",
        "outputId": "1cc666a7-5c3a-4ca3-f1e0-f0c56ae931fd"
      },
      "execution_count": null,
      "outputs": [
        {
          "output_type": "execute_result",
          "data": {
            "text/plain": [
              "tuple"
            ]
          },
          "metadata": {},
          "execution_count": 43
        }
      ]
    }
  ]
}