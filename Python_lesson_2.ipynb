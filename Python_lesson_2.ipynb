{
  "nbformat": 4,
  "nbformat_minor": 0,
  "metadata": {
    "colab": {
      "name": "Python_lesson_2.ipynb",
      "provenance": [],
      "collapsed_sections": [],
      "authorship_tag": "ABX9TyOOWNB2brJ91/LbxLVtsQ6i",
      "include_colab_link": true
    },
    "kernelspec": {
      "name": "python3",
      "display_name": "Python 3"
    },
    "language_info": {
      "name": "python"
    }
  },
  "cells": [
    {
      "cell_type": "markdown",
      "metadata": {
        "id": "view-in-github",
        "colab_type": "text"
      },
      "source": [
        "<a href=\"https://colab.research.google.com/github/ib1905/MIPT_Python_professional_development_program/blob/main/Python_lesson_2.ipynb\" target=\"_parent\"><img src=\"https://colab.research.google.com/assets/colab-badge.svg\" alt=\"Open In Colab\"/></a>"
      ]
    },
    {
      "cell_type": "code",
      "execution_count": null,
      "metadata": {
        "colab": {
          "base_uri": "https://localhost:8080/"
        },
        "id": "jq7PTKPVIisc",
        "outputId": "5c34cbc8-81f3-46a3-fa39-bce35bee5f12"
      },
      "outputs": [
        {
          "output_type": "stream",
          "name": "stdout",
          "text": [
            "Hello World!\n",
            "Привет, мир!\n",
            "One---two---three\n",
            "Example of 'quotes' in print function.\n",
            "восход\t04:04\n",
            "закат\t22:30\n",
            "File path: C:\\\\\n",
            "\n",
            "Example of several\n",
            "lines print-out\n"
          ]
        }
      ],
      "source": [
        "print('Hello', 'World!')\n",
        "print('При', end='')\n",
        "print('вет, мир!')\n",
        "\n",
        "print('One','two','three', sep='---')\n",
        "\n",
        "print('Example of \\'quotes\\' in print function.')\n",
        "\n",
        "print('восход\\t04:04\\nзакат\\t22:30')\n",
        "\n",
        "print(r'File path: C:\\\\')\n",
        "\n",
        "print('''\n",
        "Example of several\n",
        "lines print-out''')\n"
      ]
    },
    {
      "cell_type": "markdown",
      "source": [
        "input()"
      ],
      "metadata": {
        "id": "_f0kwdOyMqkd"
      }
    },
    {
      "cell_type": "code",
      "source": [
        "#my_name = input('Enter your name: ')\n",
        "my_name = 'Ivan'\n",
        "print('Hello', my_name)\n",
        "print(type(my_name))\n",
        "print(id(my_name))"
      ],
      "metadata": {
        "colab": {
          "base_uri": "https://localhost:8080/"
        },
        "id": "AoBIR1X0MtWA",
        "outputId": "c46dace7-4c2e-4c1c-9938-f34df9710c31"
      },
      "execution_count": 2,
      "outputs": [
        {
          "output_type": "stream",
          "name": "stdout",
          "text": [
            "Hello Ivan\n",
            "<class 'str'>\n",
            "139827050151728\n"
          ]
        }
      ]
    },
    {
      "cell_type": "code",
      "source": [
        "a = 100\n",
        "print('id(a):', id(a))\n",
        "\n",
        "b = a\n",
        "print('id(b):', id(b))\n",
        "\n",
        "print(a is b)\n",
        "\n",
        "b = 200\n",
        "print('id(new b):', id(b))\n",
        "print(id(100))\n",
        "\n",
        "a is b"
      ],
      "metadata": {
        "colab": {
          "base_uri": "https://localhost:8080/"
        },
        "id": "vmTJDG2qQFVn",
        "outputId": "d10daf0c-c352-477f-ea5c-8584546e6b44"
      },
      "execution_count": 6,
      "outputs": [
        {
          "output_type": "stream",
          "name": "stdout",
          "text": [
            "id(a): 11259232\n",
            "id(b): 11259232\n",
            "True\n",
            "id(new b): 11262432\n",
            "11259232\n"
          ]
        },
        {
          "output_type": "execute_result",
          "data": {
            "text/plain": [
              "False"
            ]
          },
          "metadata": {},
          "execution_count": 6
        }
      ]
    },
    {
      "cell_type": "code",
      "source": [
        "a = input()\n",
        "b = input()\n",
        "print(type(a))\n",
        "print(type(b))"
      ],
      "metadata": {
        "colab": {
          "base_uri": "https://localhost:8080/"
        },
        "id": "JhIAN0cCShcg",
        "outputId": "0d32d5c1-0299-4e48-b206-b0d08a2886ca"
      },
      "execution_count": null,
      "outputs": [
        {
          "output_type": "stream",
          "name": "stdout",
          "text": [
            "100\n",
            "hundred\n",
            "<class 'str'>\n",
            "<class 'str'>\n"
          ]
        }
      ]
    },
    {
      "cell_type": "code",
      "source": [
        "num = 100_000_000\n",
        "my_float = 2.5\n",
        "print(num, my_float)\n",
        "print(type(num), type(my_float))"
      ],
      "metadata": {
        "colab": {
          "base_uri": "https://localhost:8080/"
        },
        "id": "XHJcIpxBS_KN",
        "outputId": "ede0cf66-3af4-47af-8f64-7e81bd476bf5"
      },
      "execution_count": null,
      "outputs": [
        {
          "output_type": "stream",
          "name": "stdout",
          "text": [
            "100000000 2.5\n",
            "<class 'int'> <class 'float'>\n"
          ]
        }
      ]
    },
    {
      "cell_type": "code",
      "source": [
        "num_exp = 1.5e2\n",
        "print(type(num_exp))\n",
        "print(num_exp)"
      ],
      "metadata": {
        "colab": {
          "base_uri": "https://localhost:8080/"
        },
        "id": "vgYrELH_QeSu",
        "outputId": "578d2dc2-16a1-4392-b424-cdb7169fb2d3"
      },
      "execution_count": 7,
      "outputs": [
        {
          "output_type": "stream",
          "name": "stdout",
          "text": [
            "<class 'float'>\n",
            "150.0\n"
          ]
        }
      ]
    },
    {
      "cell_type": "code",
      "source": [
        "my_tuple = 1,2,3\n",
        "print(type(my_tuple))\n",
        "print(my_tuple)"
      ],
      "metadata": {
        "colab": {
          "base_uri": "https://localhost:8080/"
        },
        "id": "RUZX6WFPRAIb",
        "outputId": "e2f5d00b-0bd9-4462-df97-23ab6e58e40f"
      },
      "execution_count": null,
      "outputs": [
        {
          "output_type": "stream",
          "name": "stdout",
          "text": [
            "<class 'tuple'>\n",
            "(1, 2, 3)\n"
          ]
        }
      ]
    },
    {
      "cell_type": "code",
      "source": [
        "my_list = [1, 2, 3]\n",
        "print(type(my_type))\n",
        "print(my_list)"
      ],
      "metadata": {
        "colab": {
          "base_uri": "https://localhost:8080/"
        },
        "id": "zyFWgqG9SqKx",
        "outputId": "89b4ba6e-bde7-48bb-e199-9a7d866389bd"
      },
      "execution_count": null,
      "outputs": [
        {
          "output_type": "stream",
          "name": "stdout",
          "text": [
            "<class 'list'>\n",
            "[1, 2, 3]\n"
          ]
        }
      ]
    },
    {
      "cell_type": "code",
      "source": [
        "#type conversion\n",
        "num = 15.3\n",
        "print(type(num))\n",
        "print('old type value:', num)\n",
        "\n",
        "num = int(num)\n",
        "print(type(num))\n",
        "print('new type value:', num)\n",
        "\n",
        "num = str(num)\n",
        "print(type(num))"
      ],
      "metadata": {
        "colab": {
          "base_uri": "https://localhost:8080/"
        },
        "id": "kXiZSHBcTLPh",
        "outputId": "e154841f-13b3-407e-e948-1b0632a3f0d7"
      },
      "execution_count": null,
      "outputs": [
        {
          "output_type": "stream",
          "name": "stdout",
          "text": [
            "<class 'float'>\n",
            "old type value: 15.3\n",
            "<class 'int'>\n",
            "new type value: 15\n",
            "<class 'str'>\n"
          ]
        }
      ]
    },
    {
      "cell_type": "code",
      "source": [
        "num_complex = 14 + 1j\n",
        "print(type(num_complex))\n",
        "print(num_complex)\n",
        "print('real:', num_complex.real, '\\nimag:', num_complex.imag)"
      ],
      "metadata": {
        "colab": {
          "base_uri": "https://localhost:8080/"
        },
        "id": "ulz7ob46Ugdp",
        "outputId": "20a0a586-4800-4c59-bb79-14c1e7de88d3"
      },
      "execution_count": null,
      "outputs": [
        {
          "output_type": "stream",
          "name": "stdout",
          "text": [
            "<class 'complex'>\n",
            "(14+1j)\n",
            "real: 14.0 \n",
            "imag: 1.0\n"
          ]
        }
      ]
    },
    {
      "cell_type": "code",
      "source": [
        "a = int(input()) #otherwise it would be text types concatenation\n",
        "b = int(input())\n",
        "c = a + b\n",
        "print(c)\n",
        "print(type(c))"
      ],
      "metadata": {
        "colab": {
          "base_uri": "https://localhost:8080/"
        },
        "id": "wnkWj1_HWNkp",
        "outputId": "ff065bb9-ee9c-49c5-8040-598484ba1407"
      },
      "execution_count": null,
      "outputs": [
        {
          "output_type": "stream",
          "name": "stdout",
          "text": [
            "12\n",
            "14\n",
            "26\n",
            "<class 'int'>\n"
          ]
        }
      ]
    },
    {
      "cell_type": "code",
      "source": [
        "c = b / a\n",
        "print(c)\n",
        "print(b // a)\n",
        "print(b % a)\n",
        "print(a * b)\n",
        "print(a ** b)"
      ],
      "metadata": {
        "colab": {
          "base_uri": "https://localhost:8080/"
        },
        "id": "upnDXzvXWFlz",
        "outputId": "48e8bd99-43af-49e1-f15b-e21cd0a0ef3b"
      },
      "execution_count": null,
      "outputs": [
        {
          "output_type": "stream",
          "name": "stdout",
          "text": [
            "1.1666666666666667\n",
            "1\n",
            "2\n",
            "168\n",
            "1283918464548864\n"
          ]
        }
      ]
    },
    {
      "cell_type": "code",
      "source": [
        "'''bitwise operations\n",
        "| addition\n",
        "& multiplication\n",
        ">> right shift\n",
        "<< left shift\n",
        "~ inversion \n",
        "'''\n",
        "x = 4\n",
        "y = 3\n",
        "print(x | y)\n",
        "print(x & y)\n",
        "print(x >> 1)\n",
        "print(x << 1)\n",
        "print(~x)"
      ],
      "metadata": {
        "colab": {
          "base_uri": "https://localhost:8080/"
        },
        "id": "bd4kH47Vb-T-",
        "outputId": "711dad09-c955-4f56-ff47-34b75dd521e1"
      },
      "execution_count": null,
      "outputs": [
        {
          "output_type": "stream",
          "name": "stdout",
          "text": [
            "7\n",
            "0\n",
            "2\n",
            "8\n",
            "-5\n"
          ]
        }
      ]
    },
    {
      "cell_type": "code",
      "source": [
        "a = int(input())\n",
        "print(a & (a - 1))"
      ],
      "metadata": {
        "colab": {
          "base_uri": "https://localhost:8080/"
        },
        "id": "NQy-YQm-e9aY",
        "outputId": "4c3ed8af-82a1-427e-f260-06e4d5863f4a"
      },
      "execution_count": null,
      "outputs": [
        {
          "output_type": "stream",
          "name": "stdout",
          "text": [
            "1024\n",
            "0\n"
          ]
        }
      ]
    },
    {
      "cell_type": "code",
      "source": [
        "a = 100\n",
        "b = 200\n",
        "print(a, b)\n",
        "\n",
        "a, b = b, a\n",
        "print(a, b)"
      ],
      "metadata": {
        "colab": {
          "base_uri": "https://localhost:8080/"
        },
        "id": "NQfegqAohEef",
        "outputId": "e2a24ce6-144b-46c0-b889-77457f3fd1cf"
      },
      "execution_count": null,
      "outputs": [
        {
          "output_type": "stream",
          "name": "stdout",
          "text": [
            "100 200\n",
            "200 100\n"
          ]
        }
      ]
    },
    {
      "cell_type": "code",
      "source": [
        "x = y = 0\n",
        "print(x, y)\n",
        "x = 1\n",
        "print(x, y)\n",
        "a, b, c = 10, 15, 20\n",
        "print(a, b, c)"
      ],
      "metadata": {
        "colab": {
          "base_uri": "https://localhost:8080/"
        },
        "id": "0W4BBO64hn34",
        "outputId": "5da18a63-db49-49cf-9c81-13d26e75a657"
      },
      "execution_count": null,
      "outputs": [
        {
          "output_type": "stream",
          "name": "stdout",
          "text": [
            "0 0\n",
            "1 0\n",
            "10 15 20\n"
          ]
        }
      ]
    },
    {
      "cell_type": "code",
      "source": [
        "x = y = []\n",
        "x.append(1)\n",
        "x.append(2)\n",
        "print(x, y)"
      ],
      "metadata": {
        "colab": {
          "base_uri": "https://localhost:8080/"
        },
        "id": "LQHhPBmgh8AF",
        "outputId": "b6062049-d286-4218-a0c7-7a793a05bce9"
      },
      "execution_count": null,
      "outputs": [
        {
          "output_type": "stream",
          "name": "stdout",
          "text": [
            "[1, 2] [1, 2]\n"
          ]
        }
      ]
    }
  ]
}