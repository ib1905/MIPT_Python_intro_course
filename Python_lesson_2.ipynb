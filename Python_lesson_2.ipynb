{
  "nbformat": 4,
  "nbformat_minor": 0,
  "metadata": {
    "colab": {
      "name": "Python_lesson_2.ipynb",
      "provenance": [],
      "collapsed_sections": []
    },
    "kernelspec": {
      "name": "python3",
      "display_name": "Python 3"
    },
    "language_info": {
      "name": "python"
    }
  },
  "cells": [
    {
      "cell_type": "code",
      "execution_count": 13,
      "metadata": {
        "colab": {
          "base_uri": "https://localhost:8080/"
        },
        "id": "jq7PTKPVIisc",
        "outputId": "5c34cbc8-81f3-46a3-fa39-bce35bee5f12"
      },
      "outputs": [
        {
          "output_type": "stream",
          "name": "stdout",
          "text": [
            "Hello World!\n",
            "Привет, мир!\n",
            "One---two---three\n",
            "Example of 'quotes' in print function.\n",
            "восход\t04:04\n",
            "закат\t22:30\n",
            "File path: C:\\\\\n",
            "\n",
            "Example of several\n",
            "lines print-out\n"
          ]
        }
      ],
      "source": [
        "print('Hello', 'World!')\n",
        "print('При', end='')\n",
        "print('вет, мир!')\n",
        "\n",
        "print('One','two','three', sep='---')\n",
        "\n",
        "print('Example of \\'quotes\\' in print function.')\n",
        "\n",
        "print('восход\\t04:04\\nзакат\\t22:30')\n",
        "\n",
        "print(r'File path: C:\\\\')\n",
        "\n",
        "print('''\n",
        "Example of several\n",
        "lines print-out''')\n"
      ]
    },
    {
      "cell_type": "markdown",
      "source": [
        "input()"
      ],
      "metadata": {
        "id": "_f0kwdOyMqkd"
      }
    },
    {
      "cell_type": "code",
      "source": [
        "#my_name = input('Enter your name: ')\n",
        "my_name = 'Ivan'\n",
        "print('Hello', my_name)\n",
        "print(type(name))\n",
        "print(id(name))"
      ],
      "metadata": {
        "colab": {
          "base_uri": "https://localhost:8080/"
        },
        "id": "AoBIR1X0MtWA",
        "outputId": "1ebbae3a-efae-415c-b701-a780500b3623"
      },
      "execution_count": 20,
      "outputs": [
        {
          "output_type": "stream",
          "name": "stdout",
          "text": [
            "Hello Ivan\n",
            "<class 'str'>\n",
            "140007996337200\n"
          ]
        },
        {
          "output_type": "execute_result",
          "data": {
            "text/plain": [
              "11259232"
            ]
          },
          "metadata": {},
          "execution_count": 20
        }
      ]
    },
    {
      "cell_type": "code",
      "source": [
        "a = 100\n",
        "print('id(a):', id(a))\n",
        "\n",
        "b = a\n",
        "print('id(b):', id(b))\n",
        "\n",
        "b = 200\n",
        "print('id(new b):', id(b))\n",
        "print(id(100))\n",
        "\n",
        "a is b"
      ],
      "metadata": {
        "colab": {
          "base_uri": "https://localhost:8080/"
        },
        "id": "vmTJDG2qQFVn",
        "outputId": "11dfd3c3-7ef8-45a0-e52c-cc2354381119"
      },
      "execution_count": 29,
      "outputs": [
        {
          "output_type": "stream",
          "name": "stdout",
          "text": [
            "id(a): 11259232\n",
            "id(b): 11259232\n",
            "id(new b): 11262432\n",
            "11259232\n"
          ]
        },
        {
          "output_type": "execute_result",
          "data": {
            "text/plain": [
              "False"
            ]
          },
          "metadata": {},
          "execution_count": 29
        }
      ]
    },
    {
      "cell_type": "code",
      "source": [
        "a = input()\n",
        "b = input()\n",
        "print(type(a))\n",
        "print(type(b))"
      ],
      "metadata": {
        "colab": {
          "base_uri": "https://localhost:8080/"
        },
        "id": "JhIAN0cCShcg",
        "outputId": "0d32d5c1-0299-4e48-b206-b0d08a2886ca"
      },
      "execution_count": 30,
      "outputs": [
        {
          "output_type": "stream",
          "name": "stdout",
          "text": [
            "100\n",
            "hundred\n",
            "<class 'str'>\n",
            "<class 'str'>\n"
          ]
        }
      ]
    },
    {
      "cell_type": "code",
      "source": [
        "num = 100_000_000\n",
        "my_float = 2.5\n",
        "print(num, my_float)\n",
        "print(type(num), type(my_float))"
      ],
      "metadata": {
        "colab": {
          "base_uri": "https://localhost:8080/"
        },
        "id": "XHJcIpxBS_KN",
        "outputId": "ede0cf66-3af4-47af-8f64-7e81bd476bf5"
      },
      "execution_count": 36,
      "outputs": [
        {
          "output_type": "stream",
          "name": "stdout",
          "text": [
            "100000000 2.5\n",
            "<class 'int'> <class 'float'>\n"
          ]
        }
      ]
    },
    {
      "cell_type": "code",
      "source": [
        "num_exp = 1.5e2\n",
        "type(num_exp)\n",
        "print(num_exp)"
      ],
      "metadata": {
        "colab": {
          "base_uri": "https://localhost:8080/"
        },
        "id": "vgYrELH_QeSu",
        "outputId": "d9676966-c1c1-444a-d932-8dcf626cecaf"
      },
      "execution_count": 2,
      "outputs": [
        {
          "output_type": "stream",
          "name": "stdout",
          "text": [
            "150.0\n"
          ]
        }
      ]
    },
    {
      "cell_type": "code",
      "source": [
        "my_tuple = 1,2,3\n",
        "print(type(my_tuple))\n",
        "print(my_tuple)"
      ],
      "metadata": {
        "colab": {
          "base_uri": "https://localhost:8080/"
        },
        "id": "RUZX6WFPRAIb",
        "outputId": "e2f5d00b-0bd9-4462-df97-23ab6e58e40f"
      },
      "execution_count": 4,
      "outputs": [
        {
          "output_type": "stream",
          "name": "stdout",
          "text": [
            "<class 'tuple'>\n",
            "(1, 2, 3)\n"
          ]
        }
      ]
    }
  ]
}