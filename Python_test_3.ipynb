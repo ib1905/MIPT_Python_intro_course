{
  "nbformat": 4,
  "nbformat_minor": 0,
  "metadata": {
    "colab": {
      "name": "Python_test_3.ipynb",
      "provenance": [],
      "authorship_tag": "ABX9TyN/PMTTYGk0LwaFHDn2sSQH",
      "include_colab_link": true
    },
    "kernelspec": {
      "name": "python3",
      "display_name": "Python 3"
    },
    "language_info": {
      "name": "python"
    }
  },
  "cells": [
    {
      "cell_type": "markdown",
      "metadata": {
        "id": "view-in-github",
        "colab_type": "text"
      },
      "source": [
        "<a href=\"https://colab.research.google.com/github/ib1905/MIPT_Python_professional_development_program/blob/main/Python_test_3.ipynb\" target=\"_parent\"><img src=\"https://colab.research.google.com/assets/colab-badge.svg\" alt=\"Open In Colab\"/></a>"
      ]
    },
    {
      "cell_type": "code",
      "execution_count": 4,
      "metadata": {
        "id": "dkgB2lRU3Nro"
      },
      "outputs": [],
      "source": [
        "def bank_deposit_profit(amount, percent):\n",
        "\treturn amount * percent // 100"
      ]
    },
    {
      "cell_type": "code",
      "source": [
        "n, p, m, k = int(input()), int(input()), int(input()), int(input())\n",
        "\n",
        "if bank_deposit_profit(n, p) > bank_deposit_profit(m, k):\n",
        "  print('1')\n",
        "elif bank_deposit_profit(n, p) < bank_deposit_profit(m, k):\n",
        "  print('2')\n",
        "else:\n",
        "  print('12')"
      ],
      "metadata": {
        "colab": {
          "base_uri": "https://localhost:8080/"
        },
        "id": "FPBAyI8t3WaC",
        "outputId": "2b2d5010-49cc-441c-9df9-8aaa1baf8130"
      },
      "execution_count": 7,
      "outputs": [
        {
          "output_type": "stream",
          "name": "stdout",
          "text": [
            "423465\n",
            "3\n",
            "530520\n",
            "11\n",
            "2\n"
          ]
        }
      ]
    },
    {
      "cell_type": "code",
      "source": [
        "def thirteenth_salary(percent, salary_list):\n",
        "\treturn (sum(salary_list) // len(salary_list)) * percent // 100\n",
        "\n",
        "percent = int(input())\n",
        "salary_list = list(input().split())\n",
        "for salary in range(len(salary_list)):\n",
        "  salary_list[salary] = int(salary_list[salary])\n",
        "\n",
        "print(thirteenth_salary(percent, salary_list))"
      ],
      "metadata": {
        "colab": {
          "base_uri": "https://localhost:8080/"
        },
        "id": "Oi6o6agYoFG6",
        "outputId": "f634b7b0-1476-425a-d2f5-e92eeb14d1f6"
      },
      "execution_count": 31,
      "outputs": [
        {
          "output_type": "stream",
          "name": "stdout",
          "text": [
            "70\n",
            "98000 99000 96000 98000 95000 99000 97000 97000 97000 98000 100000 100000\n",
            "68483\n"
          ]
        }
      ]
    },
    {
      "cell_type": "code",
      "source": [
        "def is_female_working_age(age):\n",
        "\treturn age >= 16 and age < 60\n",
        "\n",
        "female_workers_ages_list = input().split()\n",
        "\n",
        "count = 0\n",
        "for age in female_workers_ages_list:\n",
        "  if is_female_working_age(int(age)):\n",
        "    count += 1\n",
        "print(count)"
      ],
      "metadata": {
        "colab": {
          "base_uri": "https://localhost:8080/"
        },
        "id": "JSRICbkcyRBX",
        "outputId": "92733a94-cbac-4a1b-c3ab-0ab966e6fa8c"
      },
      "execution_count": 39,
      "outputs": [
        {
          "output_type": "stream",
          "name": "stdout",
          "text": [
            "52 6 63 14 50 26 57 48 16 63 54 90\n",
            "7\n"
          ]
        }
      ]
    },
    {
      "cell_type": "code",
      "source": [
        "def stimulating_percentage(experience):\n",
        "  if experience >= 5 and experience < 10:\n",
        "    percent = 5\n",
        "  elif experience >= 10 and experience < 20:\n",
        "    percent = 10\n",
        "  elif experience >= 20 and experience < 30:\n",
        "    percent = 15\n",
        "  elif experience >= 30:\n",
        "    percent = 20\n",
        "  else:\n",
        "    percent = 0\n",
        "  return percent\n",
        "\n",
        "experience_list = input().split()\n",
        "salary_list = input().split()\n",
        "\n",
        "percent_list = []\n",
        "for experience in experience_list:\n",
        "  percent_list.append(stimulating_percentage(int(experience)))\n",
        "print(*percent_list)\n",
        "\n",
        "for i in range(len(salary_list)):\n",
        "  print(round(int(salary_list[i]) * (percent_list[i] / 100 + 1)), end=' ')"
      ],
      "metadata": {
        "colab": {
          "base_uri": "https://localhost:8080/"
        },
        "id": "w2cAnhtleHV2",
        "outputId": "d3d9557f-e0d1-4ad8-86cb-c8186edb3417"
      },
      "execution_count": 45,
      "outputs": [
        {
          "output_type": "stream",
          "name": "stdout",
          "text": [
            "32 26 43 7 4 5\n",
            "80000 60000 60000 110000 120000 70000\n",
            "20 15 20 5 0 5\n",
            "96000 69000 72000 115500 120000 73500 "
          ]
        }
      ]
    },
    {
      "cell_type": "code",
      "source": [
        "def arithmetic_progression(a, d, n):\n",
        "  return a + d * (n - 1)\n",
        "\n",
        "initial_price_of_lot = int(input())\n",
        "price_change_step = int(input())\n",
        "price_change_counter = int(input())\n",
        "\n",
        "print(arithmetic_progression(initial_price_of_lot, price_change_step, price_change_counter) + price_change_step)"
      ],
      "metadata": {
        "colab": {
          "base_uri": "https://localhost:8080/"
        },
        "id": "ipDiygU6t3zo",
        "outputId": "b8c12586-2c9a-428f-a08b-bb39658f5663"
      },
      "execution_count": 57,
      "outputs": [
        {
          "output_type": "stream",
          "name": "stdout",
          "text": [
            "2600\n",
            "50\n",
            "8\n",
            "3000\n"
          ]
        }
      ]
    }
  ]
}