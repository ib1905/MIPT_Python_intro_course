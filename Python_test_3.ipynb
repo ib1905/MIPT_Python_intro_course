{
  "nbformat": 4,
  "nbformat_minor": 0,
  "metadata": {
    "colab": {
      "name": "Python_test_3.ipynb",
      "provenance": [],
      "authorship_tag": "ABX9TyMK3y6k92C4puNA7KUNZ2KD",
      "include_colab_link": true
    },
    "kernelspec": {
      "name": "python3",
      "display_name": "Python 3"
    },
    "language_info": {
      "name": "python"
    }
  },
  "cells": [
    {
      "cell_type": "markdown",
      "metadata": {
        "id": "view-in-github",
        "colab_type": "text"
      },
      "source": [
        "<a href=\"https://colab.research.google.com/github/ib1905/MIPT_Python_professional_development_program/blob/main/Python_test_3.ipynb\" target=\"_parent\"><img src=\"https://colab.research.google.com/assets/colab-badge.svg\" alt=\"Open In Colab\"/></a>"
      ]
    },
    {
      "cell_type": "code",
      "execution_count": 4,
      "metadata": {
        "id": "dkgB2lRU3Nro"
      },
      "outputs": [],
      "source": [
        "def bank_deposit_profit(amount, percent):\n",
        "\treturn amount * percent // 100"
      ]
    },
    {
      "cell_type": "code",
      "source": [
        "n, p, m, k = int(input()), int(input()), int(input()), int(input())\n",
        "\n",
        "if bank_deposit_profit(n, p) > bank_deposit_profit(m, k):\n",
        "  print('1')\n",
        "elif bank_deposit_profit(n, p) < bank_deposit_profit(m, k):\n",
        "  print('2')\n",
        "else:\n",
        "  print('12')"
      ],
      "metadata": {
        "colab": {
          "base_uri": "https://localhost:8080/"
        },
        "id": "FPBAyI8t3WaC",
        "outputId": "2b2d5010-49cc-441c-9df9-8aaa1baf8130"
      },
      "execution_count": 7,
      "outputs": [
        {
          "output_type": "stream",
          "name": "stdout",
          "text": [
            "423465\n",
            "3\n",
            "530520\n",
            "11\n",
            "2\n"
          ]
        }
      ]
    },
    {
      "cell_type": "code",
      "source": [
        "def thirteenth_salary(percent, salary_list):\n",
        "\treturn (sum(salary_list) // len(salary_list)) * percent // 100\n",
        "\n",
        "percent = int(input())\n",
        "salary_list = list(input().split())\n",
        "for salary in range(len(salary_list)):\n",
        "  salary_list[salary] = int(salary_list[salary])\n",
        "\n",
        "print(thirteenth_salary(percent, salary_list))"
      ],
      "metadata": {
        "colab": {
          "base_uri": "https://localhost:8080/"
        },
        "id": "Oi6o6agYoFG6",
        "outputId": "f634b7b0-1476-425a-d2f5-e92eeb14d1f6"
      },
      "execution_count": 31,
      "outputs": [
        {
          "output_type": "stream",
          "name": "stdout",
          "text": [
            "70\n",
            "98000 99000 96000 98000 95000 99000 97000 97000 97000 98000 100000 100000\n",
            "68483\n"
          ]
        }
      ]
    },
    {
      "cell_type": "code",
      "source": [
        "def is_female_working_age(age):\n",
        "\treturn age >= 16 and age < 60\n",
        "\n",
        "female_workers_ages_list = input().split()\n",
        "\n",
        "count = 0\n",
        "for age in female_workers_ages_list:\n",
        "  if is_female_working_age(int(age)):\n",
        "    count += 1\n",
        "print(count)"
      ],
      "metadata": {
        "colab": {
          "base_uri": "https://localhost:8080/"
        },
        "id": "JSRICbkcyRBX",
        "outputId": "92733a94-cbac-4a1b-c3ab-0ab966e6fa8c"
      },
      "execution_count": 39,
      "outputs": [
        {
          "output_type": "stream",
          "name": "stdout",
          "text": [
            "52 6 63 14 50 26 57 48 16 63 54 90\n",
            "7\n"
          ]
        }
      ]
    }
  ]
}