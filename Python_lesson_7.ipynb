{
  "nbformat": 4,
  "nbformat_minor": 0,
  "metadata": {
    "colab": {
      "name": "Python_lesson_7.ipynb",
      "provenance": [],
      "authorship_tag": "ABX9TyPpOvwTk3e2EGK8fmVMVRCi",
      "include_colab_link": true
    },
    "kernelspec": {
      "name": "python3",
      "display_name": "Python 3"
    },
    "language_info": {
      "name": "python"
    }
  },
  "cells": [
    {
      "cell_type": "markdown",
      "metadata": {
        "id": "view-in-github",
        "colab_type": "text"
      },
      "source": [
        "<a href=\"https://colab.research.google.com/github/ib1905/MIPT_Python_professional_development_program/blob/main/Python_lesson_7.ipynb\" target=\"_parent\"><img src=\"https://colab.research.google.com/assets/colab-badge.svg\" alt=\"Open In Colab\"/></a>"
      ]
    },
    {
      "cell_type": "code",
      "source": [
        "'''Collection type  Mutuable  Indexing  Uniqueness  Syntax\n",
        "   List                 +         +         -       list() / []\n",
        "   String               -         +         -       '' / \"\"\n",
        "   Tuple                -         +         -       tuple() / ()\n",
        "   Set\n",
        "   Dict\n",
        "'''"
      ],
      "metadata": {
        "colab": {
          "base_uri": "https://localhost:8080/",
          "height": 55
        },
        "id": "ky3emNtP7t-O",
        "outputId": "5d013c27-61f1-4f7f-b76f-f87f31287f0e"
      },
      "execution_count": 48,
      "outputs": [
        {
          "output_type": "execute_result",
          "data": {
            "text/plain": [
              "'Collection type  Mutuable  Indexing  Uniqueness  Syntax\\n   List                 +         +         -       list() / []\\n   String               -         +         -       \\'\\' / \"\"\\n   Tuple                -         +         -       tuple() / ()\\n   Set\\n   Dict\\n'"
            ],
            "application/vnd.google.colaboratory.intrinsic+json": {
              "type": "string"
            }
          },
          "metadata": {},
          "execution_count": 48
        }
      ]
    },
    {
      "cell_type": "code",
      "source": [
        "# Dicts allow indexing by a key\n",
        "\n",
        "# creating an empty dict\n",
        "d = {}\n",
        "d = dict()\n",
        "print(d)\n",
        "print(type(d))"
      ],
      "metadata": {
        "colab": {
          "base_uri": "https://localhost:8080/"
        },
        "id": "GX-m6CeZbNXX",
        "outputId": "df6d9e14-9b3d-45a2-c964-14d0d0b99d6b"
      },
      "execution_count": 51,
      "outputs": [
        {
          "output_type": "stream",
          "name": "stdout",
          "text": [
            "{}\n",
            "<class 'dict'>\n"
          ]
        }
      ]
    },
    {
      "cell_type": "code",
      "source": [
        "collections_map = {'mutable':['list', 'set', 'dict'], 'immutable':['tuple', 'frozenset']}\n",
        "print(collections_map)\n",
        "collections_map['immutable']"
      ],
      "metadata": {
        "colab": {
          "base_uri": "https://localhost:8080/"
        },
        "id": "PcVXc32abroi",
        "outputId": "84f900af-f2e6-4ca3-8d35-ad919ef5a4ad"
      },
      "execution_count": 54,
      "outputs": [
        {
          "output_type": "stream",
          "name": "stdout",
          "text": [
            "{'mutable': ['list', 'set', 'dict'], 'immutable': ['tuple', 'frozenset']}\n"
          ]
        },
        {
          "output_type": "execute_result",
          "data": {
            "text/plain": [
              "['tuple', 'frozenset']"
            ]
          },
          "metadata": {},
          "execution_count": 54
        }
      ]
    },
    {
      "cell_type": "code",
      "source": [
        "collections_map.get('arbitrary', 'not in the dic') # info message if the specified key not found"
      ],
      "metadata": {
        "colab": {
          "base_uri": "https://localhost:8080/",
          "height": 38
        },
        "id": "x4Ny3zpfbrXR",
        "outputId": "3e0c9619-c393-4c74-b768-289e23c6e87d"
      },
      "execution_count": 55,
      "outputs": [
        {
          "output_type": "execute_result",
          "data": {
            "text/plain": [
              "'not in the dic'"
            ],
            "application/vnd.google.colaboratory.intrinsic+json": {
              "type": "string"
            }
          },
          "metadata": {},
          "execution_count": 55
        }
      ]
    },
    {
      "cell_type": "code",
      "source": [
        "capitals = {'Russia':'Moscow', 'Ukraine':'Kiev', 'USA':'Washington'}\n",
        "capitals"
      ],
      "metadata": {
        "colab": {
          "base_uri": "https://localhost:8080/"
        },
        "id": "Qt_mXz3AdzS1",
        "outputId": "5587f520-efc8-41fa-e4bd-589476f3fba5"
      },
      "execution_count": 57,
      "outputs": [
        {
          "output_type": "execute_result",
          "data": {
            "text/plain": [
              "{'Russia': 'Moscow', 'USA': 'Washington', 'Ukraine': 'Kiev'}"
            ]
          },
          "metadata": {},
          "execution_count": 57
        }
      ]
    },
    {
      "cell_type": "code",
      "source": [
        "capitals['UK'] = 'London'\n",
        "capitals"
      ],
      "metadata": {
        "colab": {
          "base_uri": "https://localhost:8080/"
        },
        "id": "Kin6FbrbeNO9",
        "outputId": "04315a23-ab62-4fbf-9dce-7bdfa35d7f1c"
      },
      "execution_count": 59,
      "outputs": [
        {
          "output_type": "execute_result",
          "data": {
            "text/plain": [
              "{'Russia': 'Moscow', 'UK': 'London', 'USA': 'Washington', 'Ukraine': 'Kiev'}"
            ]
          },
          "metadata": {},
          "execution_count": 59
        }
      ]
    },
    {
      "cell_type": "code",
      "source": [
        "del capitals['Russia']\n",
        "capitals"
      ],
      "metadata": {
        "colab": {
          "base_uri": "https://localhost:8080/"
        },
        "id": "oU0RV2B9ezPi",
        "outputId": "a9123245-49b6-48ee-c786-af62f176772f"
      },
      "execution_count": 60,
      "outputs": [
        {
          "output_type": "execute_result",
          "data": {
            "text/plain": [
              "{'UK': 'London', 'USA': 'Washington', 'Ukraine': 'Kiev'}"
            ]
          },
          "metadata": {},
          "execution_count": 60
        }
      ]
    },
    {
      "cell_type": "code",
      "source": [
        "capitals.update({'Russia':'Moscow'})\n",
        "capitals"
      ],
      "metadata": {
        "colab": {
          "base_uri": "https://localhost:8080/"
        },
        "id": "vB1lCzece8tu",
        "outputId": "99665523-88e7-4190-9574-65e5d292034d"
      },
      "execution_count": 65,
      "outputs": [
        {
          "output_type": "execute_result",
          "data": {
            "text/plain": [
              "{'Russia': 'Moscow', 'UK': 'London', 'USA': 'Washington', 'Ukraine': 'Kiev'}"
            ]
          },
          "metadata": {},
          "execution_count": 65
        }
      ]
    },
    {
      "cell_type": "code",
      "source": [
        "outcast = capitals.pop('Russia')\n",
        "outcast"
      ],
      "metadata": {
        "colab": {
          "base_uri": "https://localhost:8080/",
          "height": 38
        },
        "id": "zRqSlo37fOLp",
        "outputId": "9115509f-9ff0-45bb-8472-fa5b847d172c"
      },
      "execution_count": 66,
      "outputs": [
        {
          "output_type": "execute_result",
          "data": {
            "text/plain": [
              "'Moscow'"
            ],
            "application/vnd.google.colaboratory.intrinsic+json": {
              "type": "string"
            }
          },
          "metadata": {},
          "execution_count": 66
        }
      ]
    },
    {
      "cell_type": "code",
      "source": [
        "capitals.pop('Russia', None) # no error thrown in case the key is not present"
      ],
      "metadata": {
        "id": "7Zch2p2ZgFBd"
      },
      "execution_count": 69,
      "outputs": []
    },
    {
      "cell_type": "code",
      "source": [
        "# iterating through dictionary entries: via keys, values and pairs\n",
        "\n",
        "for key in capitals:\n",
        "  print(key)"
      ],
      "metadata": {
        "colab": {
          "base_uri": "https://localhost:8080/"
        },
        "id": "wSOLPo87glhd",
        "outputId": "a7ad4bcd-37cf-4b0a-a046-068c8e1c5c07"
      },
      "execution_count": 70,
      "outputs": [
        {
          "output_type": "stream",
          "name": "stdout",
          "text": [
            "Ukraine\n",
            "USA\n",
            "UK\n"
          ]
        }
      ]
    },
    {
      "cell_type": "code",
      "source": [
        "for value in capitals.values():\n",
        "  print(value)"
      ],
      "metadata": {
        "colab": {
          "base_uri": "https://localhost:8080/"
        },
        "id": "bka6ZNWvg-v6",
        "outputId": "3b9a4b5a-4225-49f0-dfe3-3295ea040ad8"
      },
      "execution_count": 73,
      "outputs": [
        {
          "output_type": "stream",
          "name": "stdout",
          "text": [
            "Kiev\n",
            "Washington\n",
            "London\n"
          ]
        }
      ]
    },
    {
      "cell_type": "code",
      "source": [
        "for key, value in capitals.items():\n",
        "  print('{}: {}'.format(key, value))"
      ],
      "metadata": {
        "colab": {
          "base_uri": "https://localhost:8080/"
        },
        "id": "TzxtwVCuhLXC",
        "outputId": "5d5ca0c9-c9d3-4d4d-811b-fbb7e732ea86"
      },
      "execution_count": 76,
      "outputs": [
        {
          "output_type": "stream",
          "name": "stdout",
          "text": [
            "Ukraine: Kiev\n",
            "USA: Washington\n",
            "UK: London\n"
          ]
        }
      ]
    },
    {
      "cell_type": "code",
      "source": [
        "cities = {(55.7558, 37.6173): 'Moscow',\n",
        "          (40.7128, 74.0060): 'New York',\n",
        "          (28.6139, 77.2090): 'New Delhi'\n",
        "          }\n",
        "cities"
      ],
      "metadata": {
        "colab": {
          "base_uri": "https://localhost:8080/"
        },
        "id": "bRqxYfyh7WTM",
        "outputId": "9b0a4b7f-bae9-4818-f508-f1924dd6741d"
      },
      "execution_count": 78,
      "outputs": [
        {
          "output_type": "execute_result",
          "data": {
            "text/plain": [
              "{(28.6139, 77.209): 'New Delhi',\n",
              " (40.7128, 74.006): 'New York',\n",
              " (55.7558, 37.6173): 'Moscow'}"
            ]
          },
          "metadata": {},
          "execution_count": 78
        }
      ]
    },
    {
      "cell_type": "code",
      "execution_count": 80,
      "metadata": {
        "colab": {
          "base_uri": "https://localhost:8080/"
        },
        "id": "BIJo3_9C6qkC",
        "outputId": "376c4c44-58c8-4443-e373-8a233857dcaf"
      },
      "outputs": [
        {
          "output_type": "stream",
          "name": "stdout",
          "text": [
            "{'Moscow': (55.7558, 37.6173), 'New York': (40.7128, 74.006), 'New Delhi': (28.6139, 77.209)}\n"
          ]
        }
      ],
      "source": [
        "coords = {}\n",
        "for coord, city in cities.items():\n",
        "  coords[city] = coord\n",
        "print(coords)"
      ]
    },
    {
      "cell_type": "code",
      "source": [
        "# OrderedDict\n",
        "\n",
        "from collections import OrderedDict\n",
        "\n",
        "ordered = OrderedDict()\n",
        "for number in range(10):\n",
        "  ordered[number] = str(number)\n",
        "print(ordered)\n",
        "\n",
        "# only keys\n",
        "for key in ordered:\n",
        "  print(key, end=' ')"
      ],
      "metadata": {
        "colab": {
          "base_uri": "https://localhost:8080/"
        },
        "id": "W4VMxlaW7saf",
        "outputId": "8b18a3c3-9fbf-42b2-eef6-4bf3d096231a"
      },
      "execution_count": 3,
      "outputs": [
        {
          "output_type": "stream",
          "name": "stdout",
          "text": [
            "OrderedDict([(0, '0'), (1, '1'), (2, '2'), (3, '3'), (4, '4'), (5, '5'), (6, '6'), (7, '7'), (8, '8'), (9, '9')])\n",
            "0 1 2 3 4 5 6 7 8 9 "
          ]
        }
      ]
    },
    {
      "cell_type": "code",
      "source": [
        "# find the most common words in the Python Zen\n",
        "\n",
        "import this\n",
        "\n",
        "zen = '''The Zen of Python, by Tim Peters\n",
        "Beautiful is better than ugly.\n",
        "Explicit is better than implicit.\n",
        "Simple is better than complex.\n",
        "Complex is better than complicated.\n",
        "Flat is better than nested.\n",
        "Sparse is better than dense.\n",
        "Readability counts.\n",
        "Special cases aren't special enough to break the rules.\n",
        "Although practicality beats purity.\n",
        "Errors should never pass silently.\n",
        "Unless explicitly silenced.\n",
        "In the face of ambiguity, refuse the temptation to guess.\n",
        "There should be one-- and preferably only one --obvious way to do it.\n",
        "Although that way may not be obvious at first unless you're Dutch.\n",
        "Now is better than never.\n",
        "Although never is often better than *right* now.\n",
        "If the implementation is hard to explain, it's a bad idea.\n",
        "If the implementation is easy to explain, it may be a good idea.\n",
        "Namespaces are one honking great idea -- let's do more of those!'''\n",
        "\n",
        "zen_dict = {}\n",
        "for word in zen.split():\n",
        "  cleaned_word = word.strip('-*!,.').lower()\n",
        "  if cleaned_word not in zen_dict:\n",
        "    zen_dict[cleaned_word]  = 0\n",
        "  zen_dict[cleaned_word] += 1\n",
        "print(zen_dict)\n",
        "\n",
        "from operator import itemgetter\n",
        "\n",
        "zen_items = zen_dict.items()\n",
        "word_count = sorted(zen_items, key=itemgetter(1), reverse=True)\n",
        "print('\\n', word_count[:5])"
      ],
      "metadata": {
        "colab": {
          "base_uri": "https://localhost:8080/"
        },
        "id": "dkrGaL_-9NRQ",
        "outputId": "11f59c32-ab73-419b-cc01-183e5269e552"
      },
      "execution_count": 12,
      "outputs": [
        {
          "output_type": "stream",
          "name": "stdout",
          "text": [
            "{'the': 6, 'zen': 1, 'of': 3, 'python': 1, 'by': 1, 'tim': 1, 'peters': 1, 'beautiful': 1, 'is': 10, 'better': 8, 'than': 8, 'ugly': 1, 'explicit': 1, 'implicit': 1, 'simple': 1, 'complex': 2, 'complicated': 1, 'flat': 1, 'nested': 1, 'sparse': 1, 'dense': 1, 'readability': 1, 'counts': 1, 'special': 2, 'cases': 1, \"aren't\": 1, 'enough': 1, 'to': 5, 'break': 1, 'rules': 1, 'although': 3, 'practicality': 1, 'beats': 1, 'purity': 1, 'errors': 1, 'should': 2, 'never': 3, 'pass': 1, 'silently': 1, 'unless': 2, 'explicitly': 1, 'silenced': 1, 'in': 1, 'face': 1, 'ambiguity': 1, 'refuse': 1, 'temptation': 1, 'guess': 1, 'there': 1, 'be': 3, 'one': 3, 'and': 1, 'preferably': 1, 'only': 1, 'obvious': 2, 'way': 2, 'do': 2, 'it': 2, 'that': 1, 'may': 2, 'not': 1, 'at': 1, 'first': 1, \"you're\": 1, 'dutch': 1, 'now': 2, 'often': 1, 'right': 1, 'if': 2, 'implementation': 2, 'hard': 1, 'explain': 2, \"it's\": 1, 'a': 2, 'bad': 1, 'idea': 3, 'easy': 1, 'good': 1, 'namespaces': 1, 'are': 1, 'honking': 1, 'great': 1, '': 1, \"let's\": 1, 'more': 1, 'those': 1}\n",
            "\n",
            " [('is', 10), ('better', 8), ('than', 8), ('the', 6), ('to', 5)]\n"
          ]
        }
      ]
    },
    {
      "cell_type": "code",
      "source": [
        "from operator import itemgetter\n",
        "\n",
        "zen_items = zen_dict.items()\n",
        "word_count = sorted(zen_items, key=itemgetter(1), reverse=True)\n",
        "print(word_count[:5])"
      ],
      "metadata": {
        "colab": {
          "base_uri": "https://localhost:8080/"
        },
        "id": "54pYoHQbAHTd",
        "outputId": "736c58cf-e731-4a73-edbf-44dc0349623b"
      },
      "execution_count": 7,
      "outputs": [
        {
          "output_type": "stream",
          "name": "stdout",
          "text": [
            "[('is', 10), ('better', 8), ('than', 8), ('the', 6), ('to', 5)]\n"
          ]
        }
      ]
    },
    {
      "cell_type": "code",
      "source": [
        "from collections import Counter # alternative way\n",
        "\n",
        "cleaned_list = []\n",
        "for word in zen.split():\n",
        "  cleaned_list.append(word.strip('-*!,.').lower())\n",
        "\n",
        "print(Counter(cleaned_list).most_common(5))"
      ],
      "metadata": {
        "colab": {
          "base_uri": "https://localhost:8080/"
        },
        "id": "alD9aljtA0_X",
        "outputId": "90beb50b-e773-4c12-a773-53bfacd33210"
      },
      "execution_count": 8,
      "outputs": [
        {
          "output_type": "stream",
          "name": "stdout",
          "text": [
            "[('is', 10), ('better', 8), ('than', 8), ('the', 6), ('to', 5)]\n"
          ]
        }
      ]
    },
    {
      "cell_type": "code",
      "source": [
        "# 'sets' include only unique values - all duplicates are removed; values are unordered and can reprsent different elements: strings, numbers, etc.\n",
        "\n",
        "animals = set() # to introduce an empty set\n",
        "animals = {'cat', 'dog', 'fox', 'wolf'}\n",
        "animals_diff = {'cat', 4, 'dog', 1, 'fox', 1, 3, 3}\n",
        "print(animals)\n",
        "print(animals_diff)\n",
        "print(len(animals_diff))"
      ],
      "metadata": {
        "colab": {
          "base_uri": "https://localhost:8080/"
        },
        "id": "CaAOimXjCRcN",
        "outputId": "13bbc370-40bb-4d2b-a5a0-3c4bb9b37f8b"
      },
      "execution_count": 17,
      "outputs": [
        {
          "output_type": "stream",
          "name": "stdout",
          "text": [
            "{'cat', 'dog', 'fox', 'wolf'}\n",
            "{1, 3, 4, 'cat', 'dog', 'fox'}\n",
            "6\n"
          ]
        }
      ]
    },
    {
      "cell_type": "code",
      "source": [
        "for i in animals_diff:\n",
        "  print(i)"
      ],
      "metadata": {
        "colab": {
          "base_uri": "https://localhost:8080/"
        },
        "id": "GvAQJynMD-yX",
        "outputId": "80f4e187-a751-478e-83b3-25f698d488d5"
      },
      "execution_count": 20,
      "outputs": [
        {
          "output_type": "stream",
          "name": "stdout",
          "text": [
            "1\n",
            "3\n",
            "4\n",
            "cat\n",
            "dog\n",
            "fox\n"
          ]
        }
      ]
    },
    {
      "cell_type": "code",
      "source": [
        "animals_diff.add('mule')\n",
        "animals_diff.add(7)\n",
        "print(animals_diff)\n",
        "animals_diff.discard('cat')\n",
        "print(animals_diff)\n",
        "animals_diff.discard('cat') # if already absent no warning or error is thrown; unlike 'remove' method!\n",
        "print(animals_diff)"
      ],
      "metadata": {
        "colab": {
          "base_uri": "https://localhost:8080/"
        },
        "id": "HP0RrBCzEKLw",
        "outputId": "e82d33c1-a624-40e0-eac8-eda62ca9d365"
      },
      "execution_count": 23,
      "outputs": [
        {
          "output_type": "stream",
          "name": "stdout",
          "text": [
            "{1, 3, 4, 7, 'dog', 'fox', 'mule'}\n",
            "{1, 3, 4, 7, 'dog', 'fox', 'mule'}\n"
          ]
        }
      ]
    },
    {
      "cell_type": "code",
      "source": [
        "animals_diff.pop() # removes an arbitrary value and returns it"
      ],
      "metadata": {
        "colab": {
          "base_uri": "https://localhost:8080/"
        },
        "id": "ZPy58lnPEzn2",
        "outputId": "98f78cdc-b551-4c34-8f6d-491d7b169fb4"
      },
      "execution_count": 25,
      "outputs": [
        {
          "output_type": "execute_result",
          "data": {
            "text/plain": [
              "1"
            ]
          },
          "metadata": {},
          "execution_count": 25
        }
      ]
    },
    {
      "cell_type": "code",
      "source": [
        "animals_diff.clear() # clears a list entirely"
      ],
      "metadata": {
        "id": "hTa9nFNJFh84"
      },
      "execution_count": null,
      "outputs": []
    },
    {
      "cell_type": "code",
      "source": [
        "a = {1, 2, 3, 4, 5}\n",
        "b = {1, 2, 4, 7}\n",
        "\n",
        "union = a.union(b) # remember that all duplicates are removed\n",
        "union"
      ],
      "metadata": {
        "colab": {
          "base_uri": "https://localhost:8080/"
        },
        "id": "5bPKKgPbFpWn",
        "outputId": "46889a94-d8f1-45aa-c12f-78097972d1dd"
      },
      "execution_count": 27,
      "outputs": [
        {
          "output_type": "execute_result",
          "data": {
            "text/plain": [
              "{1, 2, 3, 4, 5, 7}"
            ]
          },
          "metadata": {},
          "execution_count": 27
        }
      ]
    },
    {
      "cell_type": "code",
      "source": [
        "intersection = a.intersection(b) # returns common elements in sets\n",
        "intersection"
      ],
      "metadata": {
        "colab": {
          "base_uri": "https://localhost:8080/"
        },
        "id": "-D7ZHdo7GHsm",
        "outputId": "f30e925e-8197-476a-c933-bf1dec5b3278"
      },
      "execution_count": 28,
      "outputs": [
        {
          "output_type": "execute_result",
          "data": {
            "text/plain": [
              "{1, 2, 4}"
            ]
          },
          "metadata": {},
          "execution_count": 28
        }
      ]
    },
    {
      "cell_type": "code",
      "source": [
        "a >= b # sets comparison"
      ],
      "metadata": {
        "colab": {
          "base_uri": "https://localhost:8080/"
        },
        "id": "UkkoWZaWGlzA",
        "outputId": "e5aefbf2-ea80-4fcd-efae-4b9b5f1d26e5"
      },
      "execution_count": 35,
      "outputs": [
        {
          "output_type": "execute_result",
          "data": {
            "text/plain": [
              "False"
            ]
          },
          "metadata": {},
          "execution_count": 35
        }
      ]
    },
    {
      "cell_type": "code",
      "source": [
        "c = {1, 2, 3}\n",
        "d = {1, 2, 3}\n",
        "print(c == d)\n",
        "print(c >= d)\n",
        "print(d < c)"
      ],
      "metadata": {
        "colab": {
          "base_uri": "https://localhost:8080/"
        },
        "id": "RlyZI0RqG0zp",
        "outputId": "6318c476-fe0a-4b86-bea9-c10bbd48755a"
      },
      "execution_count": 40,
      "outputs": [
        {
          "output_type": "stream",
          "name": "stdout",
          "text": [
            "True\n",
            "True\n",
            "False\n"
          ]
        }
      ]
    },
    {
      "cell_type": "code",
      "source": [
        "# '*' operator\n",
        "\n",
        "num_list = [1, 2, 5, 3, 4, 7]\n",
        "num_list2 = [*num_list, 10, 4, 8]\n",
        "num_list3 = [num_list, 10, 4, 8]\n",
        "print(num_list2)\n",
        "print(num_list3)"
      ],
      "metadata": {
        "colab": {
          "base_uri": "https://localhost:8080/"
        },
        "id": "oyz5GaRpIhYx",
        "outputId": "7862912e-22ef-45c5-a8c7-a83dbf716e03"
      },
      "execution_count": 41,
      "outputs": [
        {
          "output_type": "stream",
          "name": "stdout",
          "text": [
            "[1, 2, 5, 3, 4, 7, 10, 4, 8]\n",
            "[[1, 2, 5, 3, 4, 7], 10, 4, 8]\n"
          ]
        }
      ]
    },
    {
      "cell_type": "code",
      "source": [
        "print(num_list)\n",
        "print(*num_list)"
      ],
      "metadata": {
        "colab": {
          "base_uri": "https://localhost:8080/"
        },
        "id": "G6Sa_AC9JCUt",
        "outputId": "84b2546e-08a9-4f8e-a18e-48688ea45114"
      },
      "execution_count": 43,
      "outputs": [
        {
          "output_type": "stream",
          "name": "stdout",
          "text": [
            "[1, 2, 5, 3, 4, 7]\n",
            "1 2 5 3 4 7\n"
          ]
        }
      ]
    },
    {
      "cell_type": "code",
      "source": [
        "data = {'year':'2002', 'month':'May','day':'1'}\n",
        "print(data)\n",
        "print('{year} - {month} - {day}'.format(**data))"
      ],
      "metadata": {
        "colab": {
          "base_uri": "https://localhost:8080/"
        },
        "id": "tkhCXHtrJTar",
        "outputId": "9d70afbb-b6ab-4e31-a12c-847034f42acf"
      },
      "execution_count": 46,
      "outputs": [
        {
          "output_type": "stream",
          "name": "stdout",
          "text": [
            "{'year': '2002', 'month': 'May', 'day': '1'}\n",
            "2002 - May - 1\n"
          ]
        }
      ]
    },
    {
      "cell_type": "code",
      "source": [
        "num = [1, 2, 3]\n",
        "alph = ['a', 'b', 'c']\n",
        "print(*num, *alph)"
      ],
      "metadata": {
        "colab": {
          "base_uri": "https://localhost:8080/"
        },
        "id": "6s0ZkzXqJ_ZV",
        "outputId": "f1a27740-0cb0-436c-8c75-f47744188fd3"
      },
      "execution_count": 47,
      "outputs": [
        {
          "output_type": "stream",
          "name": "stdout",
          "text": [
            "1 2 3 a b c\n"
          ]
        }
      ]
    }
  ]
}