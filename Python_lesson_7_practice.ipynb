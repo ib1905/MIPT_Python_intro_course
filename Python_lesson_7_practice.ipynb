{
  "nbformat": 4,
  "nbformat_minor": 0,
  "metadata": {
    "colab": {
      "name": "Python_lesson_7_practice.ipynb",
      "provenance": [],
      "authorship_tag": "ABX9TyOOvLkCI5Kyyg3EgEL0IMjQ",
      "include_colab_link": true
    },
    "kernelspec": {
      "name": "python3",
      "display_name": "Python 3"
    },
    "language_info": {
      "name": "python"
    }
  },
  "cells": [
    {
      "cell_type": "markdown",
      "metadata": {
        "id": "view-in-github",
        "colab_type": "text"
      },
      "source": [
        "<a href=\"https://colab.research.google.com/github/ib1905/MIPT_Python_professional_development_program/blob/main/Python_lesson_7_practice.ipynb\" target=\"_parent\"><img src=\"https://colab.research.google.com/assets/colab-badge.svg\" alt=\"Open In Colab\"/></a>"
      ]
    },
    {
      "cell_type": "code",
      "execution_count": null,
      "metadata": {
        "colab": {
          "base_uri": "https://localhost:8080/"
        },
        "id": "hT3EWrnUqRN2",
        "outputId": "b51fff2c-ffe4-4ee5-a8cc-7af3a31c8afc"
      },
      "outputs": [
        {
          "output_type": "stream",
          "name": "stdout",
          "text": [
            "[('some', 2), ('text', 2), ('shall', 2), ('parts', 2), ('random', 1), ('be', 1), ('placed', 1), ('here', 1), ('awesome', 1), ('repeat', 1), ('in', 1), ('order', 1), ('to', 1), ('count', 1), ('such', 1), ('correctly', 1)]\n"
          ]
        }
      ],
      "source": [
        "from collections import Counter\n",
        "\n",
        "my_string = 'Some random text shall be placed here! Some *awesome* parts shall repeat in order to count such text parts correctly.'\n",
        "\n",
        "stripped_list = []\n",
        "for word in my_string.split():\n",
        "  stripped_list.append(word.strip('-*!,.').lower())\n",
        "print(Counter(stripped_list).most_common())"
      ]
    },
    {
      "cell_type": "code",
      "source": [
        "# alternative\n",
        "\n",
        "count = {}\n",
        "for word in input().split():\n",
        "  count[word] = count.get(word, 0) + 1\n",
        "  print(count[word] - 1, end=' ')"
      ],
      "metadata": {
        "colab": {
          "base_uri": "https://localhost:8080/"
        },
        "id": "B1m8rj6WsuP-",
        "outputId": "197f6076-80a2-4714-997e-207d7ed03aa4"
      },
      "execution_count": null,
      "outputs": [
        {
          "output_type": "stream",
          "name": "stdout",
          "text": [
            "one two one tho three\n",
            "0 0 1 0 0 "
          ]
        }
      ]
    },
    {
      "cell_type": "code",
      "source": [
        "from operator import itemgetter\n",
        "d = {} # dict type\n",
        "info = () # immutable tuple\n",
        "for _ in range(int(input('Enter number of entries to follow: '))):\n",
        "  surname, name, passport, tel = input().split()\n",
        "  info = surname, name, passport\n",
        "  tel = int(tel)\n",
        "  if info in d:\n",
        "    d[info].append(tel)\n",
        "    d[info].sort()\n",
        "  else:\n",
        "    d[info] = [tel]\n",
        "\n",
        "list_info = list(d.keys())\n",
        "list_info = sorted(list_info, key=itemgetter(2), reverse=False)\n",
        "\n",
        "for i in list_info:\n",
        "  print(*i, *d)"
      ],
      "metadata": {
        "colab": {
          "base_uri": "https://localhost:8080/"
        },
        "id": "sAnzdd7v8VCX",
        "outputId": "2ec275b8-a06b-4de7-f8e5-466f5eb2ccdc"
      },
      "execution_count": null,
      "outputs": [
        {
          "output_type": "stream",
          "name": "stdout",
          "text": [
            "Enter number of entries to follow: 3\n",
            "Ivanov Ivan 123456 89123456789\n",
            "Petrov Petr 789101 89987654321\n",
            "Gartess Helene 132435 89132435465\n",
            "Ivanov Ivan 123456 ('Ivanov', 'Ivan', '123456') ('Petrov', 'Petr', '789101') ('Gartess', 'Helene', '132435')\n",
            "Gartess Helene 132435 ('Ivanov', 'Ivan', '123456') ('Petrov', 'Petr', '789101') ('Gartess', 'Helene', '132435')\n",
            "Petrov Petr 789101 ('Ivanov', 'Ivan', '123456') ('Petrov', 'Petr', '789101') ('Gartess', 'Helene', '132435')\n"
          ]
        }
      ]
    },
    {
      "cell_type": "code",
      "source": [
        "print(list_info)"
      ],
      "metadata": {
        "colab": {
          "base_uri": "https://localhost:8080/"
        },
        "id": "64nGmZvmI7C4",
        "outputId": "f6d26d18-0222-4c3f-f9d6-e02cd41d041a"
      },
      "execution_count": null,
      "outputs": [
        {
          "output_type": "stream",
          "name": "stdout",
          "text": [
            "[('Ivanov', 'Ivan', '123456'), ('Gartess', 'Helene', '132435'), ('Petrov', 'Petr', '789101')]\n"
          ]
        }
      ]
    },
    {
      "cell_type": "code",
      "source": [
        "d[('Gartess', 'Helene', '132435')]"
      ],
      "metadata": {
        "colab": {
          "base_uri": "https://localhost:8080/"
        },
        "id": "TOVtjJ0WDeHR",
        "outputId": "3b56d63e-ac69-4cc3-d9c9-3c471d1b9374"
      },
      "execution_count": null,
      "outputs": [
        {
          "output_type": "execute_result",
          "data": {
            "text/plain": [
              "[89132435465]"
            ]
          },
          "metadata": {},
          "execution_count": 38
        }
      ]
    },
    {
      "cell_type": "code",
      "source": [
        "d = {}\n",
        "info = ()\n",
        "for _ in range(int(input('Enter how many clients\\' transactions are to follow: '))):\n",
        "  surname, name, n = input(f'Enter client {_ + 1} surname, name and number of items: ').split()\n",
        "  info = surname, name\n",
        "  n = int(n)\n",
        "  if info not in d:\n",
        "    d[info] = {}\n",
        "  for _ in range(n):\n",
        "    item, qtty = input(f'Enter {info}\\'s item {_ + 1} and its quantity: ').split() # imporove client's name representation\n",
        "    qtty = int(qtty)\n",
        "    if item not in d[info]:\n",
        "      d[info][item] = qtty\n",
        "    else:\n",
        "      d[info][item] += qtty\n",
        "\n",
        "for info in sorted(d):\n",
        "  print(*info, end=' '); print(':')\n",
        "  num = 0\n",
        "  for item in sorted(d[info]):\n",
        "    num += 1\n",
        "    print(f'{num} {item} {d[info][item]}')"
      ],
      "metadata": {
        "colab": {
          "base_uri": "https://localhost:8080/"
        },
        "id": "pTfs6_KjL_jQ",
        "outputId": "4be47eba-1fe5-40d8-928f-6d931c99c9f1"
      },
      "execution_count": null,
      "outputs": [
        {
          "output_type": "stream",
          "name": "stdout",
          "text": [
            "Enter how many clients' transactions are to follow: 3\n",
            "Enter client 1 surname, name and number of items: Ivanov Ivan 3\n",
            "Enter ('Ivanov', 'Ivan')'s item 1 and its quantity: Tomato 95\n",
            "Enter ('Ivanov', 'Ivan')'s item 2 and its quantity: Cucumbers 75\n",
            "Enter ('Ivanov', 'Ivan')'s item 3 and its quantity: Milk 70\n",
            "Enter client 2 surname, name and number of items: Ivanov Ivan 3\n",
            "Enter ('Ivanov', 'Ivan')'s item 1 and its quantity: Tomato 95\n",
            "Enter ('Ivanov', 'Ivan')'s item 2 and its quantity: Cucumbers 75\n",
            "Enter ('Ivanov', 'Ivan')'s item 3 and its quantity: Bread 10\n",
            "Enter client 3 surname, name and number of items: Petrov Petr 2\n",
            "Enter ('Petrov', 'Petr')'s item 1 and its quantity: Tomato 195\n",
            "Enter ('Petrov', 'Petr')'s item 2 and its quantity: Milk 50\n",
            "Ivanov Ivan :\n",
            "1 Bread 10\n",
            "2 Cucumbers 150\n",
            "3 Milk 70\n",
            "4 Tomato 190\n",
            "Petrov Petr :\n",
            "1 Milk 50\n",
            "2 Tomato 195\n"
          ]
        }
      ]
    }
  ]
}