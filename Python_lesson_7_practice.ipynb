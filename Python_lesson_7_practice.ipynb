{
  "nbformat": 4,
  "nbformat_minor": 0,
  "metadata": {
    "colab": {
      "name": "Python_lesson_7_practice.ipynb",
      "provenance": [],
      "authorship_tag": "ABX9TyPBMoeLOkOe7fFf45mdnMqC",
      "include_colab_link": true
    },
    "kernelspec": {
      "name": "python3",
      "display_name": "Python 3"
    },
    "language_info": {
      "name": "python"
    }
  },
  "cells": [
    {
      "cell_type": "markdown",
      "metadata": {
        "id": "view-in-github",
        "colab_type": "text"
      },
      "source": [
        "<a href=\"https://colab.research.google.com/github/ib1905/MIPT_Python_professional_development_program/blob/main/Python_lesson_7_practice.ipynb\" target=\"_parent\"><img src=\"https://colab.research.google.com/assets/colab-badge.svg\" alt=\"Open In Colab\"/></a>"
      ]
    },
    {
      "cell_type": "code",
      "execution_count": 13,
      "metadata": {
        "colab": {
          "base_uri": "https://localhost:8080/"
        },
        "id": "hT3EWrnUqRN2",
        "outputId": "b51fff2c-ffe4-4ee5-a8cc-7af3a31c8afc"
      },
      "outputs": [
        {
          "output_type": "stream",
          "name": "stdout",
          "text": [
            "[('some', 2), ('text', 2), ('shall', 2), ('parts', 2), ('random', 1), ('be', 1), ('placed', 1), ('here', 1), ('awesome', 1), ('repeat', 1), ('in', 1), ('order', 1), ('to', 1), ('count', 1), ('such', 1), ('correctly', 1)]\n"
          ]
        }
      ],
      "source": [
        "from collections import Counter\n",
        "\n",
        "my_string = 'Some random text shall be placed here! Some *awesome* parts shall repeat in order to count such text parts correctly.'\n",
        "\n",
        "stripped_list = []\n",
        "for word in my_string.split():\n",
        "  stripped_list.append(word.strip('-*!,.').lower())\n",
        "print(Counter(stripped_list).most_common())"
      ]
    },
    {
      "cell_type": "code",
      "source": [
        "# alternative\n",
        "\n",
        "count = {}\n",
        "for word in input().split():\n",
        "  count[word] = count.get(word, 0) + 1\n",
        "  print(count[word] - 1, end=' ')"
      ],
      "metadata": {
        "colab": {
          "base_uri": "https://localhost:8080/"
        },
        "id": "B1m8rj6WsuP-",
        "outputId": "197f6076-80a2-4714-997e-207d7ed03aa4"
      },
      "execution_count": 15,
      "outputs": [
        {
          "output_type": "stream",
          "name": "stdout",
          "text": [
            "one two one tho three\n",
            "0 0 1 0 0 "
          ]
        }
      ]
    }
  ]
}