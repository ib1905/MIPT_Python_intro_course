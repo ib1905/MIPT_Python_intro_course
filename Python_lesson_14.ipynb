{
  "nbformat": 4,
  "nbformat_minor": 0,
  "metadata": {
    "colab": {
      "name": "Python_lesson_14.ipynb",
      "provenance": [],
      "authorship_tag": "ABX9TyM46fbt+04AeyfNv2zdBYfl",
      "include_colab_link": true
    },
    "kernelspec": {
      "name": "python3",
      "display_name": "Python 3"
    },
    "language_info": {
      "name": "python"
    }
  },
  "cells": [
    {
      "cell_type": "markdown",
      "metadata": {
        "id": "view-in-github",
        "colab_type": "text"
      },
      "source": [
        "<a href=\"https://colab.research.google.com/github/ib1905/MIPT_Python_professional_development_program/blob/main/Python_lesson_14.ipynb\" target=\"_parent\"><img src=\"https://colab.research.google.com/assets/colab-badge.svg\" alt=\"Open In Colab\"/></a>"
      ]
    },
    {
      "cell_type": "code",
      "execution_count": null,
      "metadata": {
        "id": "CIczqDZstuFq"
      },
      "outputs": [],
      "source": [
        "f = open(file_name, mode) # 'encoding' for text files\n",
        "\n",
        "# modes are: r, w, a, b (binary), t (text is default), + (read and write)\n",
        "\n",
        "f.close()"
      ]
    },
    {
      "cell_type": "code",
      "source": [
        "# automatically closes file\n",
        "\n",
        "with open(file_name, mode) as f:"
      ],
      "metadata": {
        "id": "mOXEZwRGwIF5"
      },
      "execution_count": null,
      "outputs": []
    },
    {
      "cell_type": "code",
      "source": [
        "file.write(string)\n",
        "\n",
        "file.writelines(strings_list as one variable)"
      ],
      "metadata": {
        "id": "s7sp0NoBwkWS"
      },
      "execution_count": null,
      "outputs": []
    },
    {
      "cell_type": "code",
      "source": [
        "f = open(file_name, 'w')\n",
        "f.write('Result: ' + str(100) + ' points')\n",
        "f.close"
      ],
      "metadata": {
        "id": "hRVZBRSQz7uA"
      },
      "execution_count": null,
      "outputs": []
    },
    {
      "cell_type": "code",
      "source": [
        "sequence = ['Result: ', str(100), ' points\\n']\n",
        "with open(file_name, 'a') as f:\n",
        "  f.writelines(sequence)"
      ],
      "metadata": {
        "id": "d6KrqMzRwzFb"
      },
      "execution_count": null,
      "outputs": []
    },
    {
      "cell_type": "code",
      "source": [
        "string1 = f.read() # whole file\n",
        "string2 = f.read(size) # how many symbols are to be read\n",
        "string3 = f.readline() # 1 line read\n",
        "strings_list = f.readlines() # all lines into a list with '\\n' symbols"
      ],
      "metadata": {
        "id": "7fYCEEKi0K_4"
      },
      "execution_count": null,
      "outputs": []
    },
    {
      "cell_type": "code",
      "source": [
        "some_string = f.seek(0) # returns reading to the beginning of a file"
      ],
      "metadata": {
        "id": "InR1oHZs4S9v"
      },
      "execution_count": null,
      "outputs": []
    },
    {
      "cell_type": "code",
      "source": [
        "from google.colab import drive\n",
        "drive.mount('/content/gdrive', force_remount=False)\n",
        "\n",
        "path = f'/content/gdrive/some_path/'\n",
        "\n",
        "file_name = path + 'some_file_name.txt'"
      ],
      "metadata": {
        "colab": {
          "base_uri": "https://localhost:8080/"
        },
        "id": "vRyKDXQc6vOL",
        "outputId": "e82ca77a-b420-4a5f-f0ac-0e6a5ce0eed1"
      },
      "execution_count": 1,
      "outputs": [
        {
          "output_type": "stream",
          "name": "stdout",
          "text": [
            "Mounted at /content/gdrive\n"
          ]
        }
      ]
    },
    {
      "cell_type": "code",
      "source": [
        "import json # are convenient for complex objects\n",
        "\n",
        "user = {\"firstName\": \"John\",\n",
        "        \"lastName\": \"Johnson\",\n",
        "        \"age\": 33,\n",
        "        \"married\": False,\n",
        "        \"phones\": [\"123456\", \"78910\"]   \n",
        "}\n",
        "\n",
        "with open(file_name, 'w') as f:\n",
        "  json.dump(user, f)"
      ],
      "metadata": {
        "id": "v3VH-Jbt7nuB"
      },
      "execution_count": 1,
      "outputs": []
    },
    {
      "cell_type": "code",
      "source": [
        "with open(file_name, 'r') as f:\n",
        "  obj = json.load(f) # retrieves the data from the file\n",
        "\n",
        "print(obj['firstName'])"
      ],
      "metadata": {
        "id": "5LANCJwNf4r0"
      },
      "execution_count": null,
      "outputs": []
    },
    {
      "cell_type": "code",
      "source": [
        "import pickle # is used to serialize objects into bytes stream (writes to a binary file)\n",
        "\n",
        "#pickle.dump(obj, file) # writes the object to the file"
      ],
      "metadata": {
        "id": "UGHK-V9_kzPG"
      },
      "execution_count": null,
      "outputs": []
    },
    {
      "cell_type": "code",
      "source": [
        "with open(file_name, 'rb') as f:\n",
        "  st = pickle.load(f)\n",
        "  n = pickle.load(f)\n",
        "  sp = pickle.load(f)\n",
        "\n",
        "# NB! Various kinds of data (e.g. strings, integers, lists shall be stored into a binary and read from it separately)"
      ],
      "metadata": {
        "id": "K1_QPkiKn51z"
      },
      "execution_count": null,
      "outputs": []
    },
    {
      "cell_type": "code",
      "source": [
        "# dump VS dumps and load VS loads; the latters are used to store into strings ?"
      ],
      "metadata": {
        "id": "CAg9gXJUpA9B"
      },
      "execution_count": null,
      "outputs": []
    }
  ]
}