{
  "nbformat": 4,
  "nbformat_minor": 0,
  "metadata": {
    "colab": {
      "name": "Python_lesson_4.ipynb",
      "provenance": [],
      "authorship_tag": "ABX9TyMB/vjXjPd+ruUS3M/dh48Y",
      "include_colab_link": true
    },
    "kernelspec": {
      "name": "python3",
      "display_name": "Python 3"
    },
    "language_info": {
      "name": "python"
    }
  },
  "cells": [
    {
      "cell_type": "markdown",
      "metadata": {
        "id": "view-in-github",
        "colab_type": "text"
      },
      "source": [
        "<a href=\"https://colab.research.google.com/github/ib1905/MIPT_Python_professional_development_program/blob/main/Python_lesson_4.ipynb\" target=\"_parent\"><img src=\"https://colab.research.google.com/assets/colab-badge.svg\" alt=\"Open In Colab\"/></a>"
      ]
    },
    {
      "cell_type": "code",
      "execution_count": 6,
      "metadata": {
        "colab": {
          "base_uri": "https://localhost:8080/"
        },
        "id": "_02l6SfQH-6w",
        "outputId": "910636e6-4fef-43be-dd5e-be70b25d536c"
      },
      "outputs": [
        {
          "output_type": "stream",
          "name": "stdout",
          "text": [
            "10\n",
            "1 2 3 4 5 6 7 8 9 10 "
          ]
        }
      ],
      "source": [
        "# loops\n",
        "# while\n",
        "\n",
        "n = int(input())\n",
        "i = 1\n",
        "while i <= n:\n",
        "  print(i, end=' ')\n",
        "  i += 1"
      ]
    },
    {
      "cell_type": "code",
      "source": [
        "# max & min\n",
        "\n",
        "now = int(input())\n",
        "now_max = now\n",
        "while now != 0:\n",
        "  if now > now_max:\n",
        "    now_max = now\n",
        "  now = int(input())\n",
        "print(now_max)"
      ],
      "metadata": {
        "colab": {
          "base_uri": "https://localhost:8080/"
        },
        "id": "bv2aNrc0N4wg",
        "outputId": "513088ad-e3f8-44fa-d1d2-e5a76c026129"
      },
      "execution_count": 7,
      "outputs": [
        {
          "output_type": "stream",
          "name": "stdout",
          "text": [
            "2\n",
            "3\n",
            "5\n",
            "9\n",
            "12\n",
            "4\n",
            "0\n",
            "12\n"
          ]
        }
      ]
    },
    {
      "cell_type": "code",
      "source": [
        "count = 0 # a number of iterations\n",
        "n = int(input())\n",
        "while n != 0:\n",
        "  if n % 10 == 2 and n % 4 == 0: # '2' at the end and divisible by 4\n",
        "    count += 1\n",
        "  n = int(input())\n",
        "print('Numbers divisible by 4: ', count)"
      ],
      "metadata": {
        "colab": {
          "base_uri": "https://localhost:8080/"
        },
        "id": "3n_32PySPPI7",
        "outputId": "714f9c7e-907b-4d13-e550-2708305c72aa"
      },
      "execution_count": 8,
      "outputs": [
        {
          "output_type": "stream",
          "name": "stdout",
          "text": [
            "22\n",
            "45\n",
            "14\n",
            "8\n",
            "62\n",
            "0\n",
            "Numbers divisible by 4:  0\n"
          ]
        }
      ]
    },
    {
      "cell_type": "code",
      "source": [
        "my_sum = 0 # a number of iterations\n",
        "n = int(input())\n",
        "while n != 0:\n",
        "  if n % 10 == 2 and n % 4 == 0: # '2' at the end and divisible by 4\n",
        "    my_sum += n\n",
        "  n = int(input())\n",
        "print('The sum of numbers divisible by 43: ', my_sum)"
      ],
      "metadata": {
        "colab": {
          "base_uri": "https://localhost:8080/"
        },
        "id": "5O5eaNCCQrU_",
        "outputId": "99cf6aa4-af78-40e7-e580-6dabb5417a08"
      },
      "execution_count": 9,
      "outputs": [
        {
          "output_type": "stream",
          "name": "stdout",
          "text": [
            "12\n",
            "3\n",
            "32\n",
            "14\n",
            "0\n",
            "The sum of numbers divisible by 4:  44\n"
          ]
        }
      ]
    },
    {
      "cell_type": "code",
      "source": [
        "''' разбиение числа на разряды\n",
        "some number // 10\n",
        "some number % 10 '''\n",
        "\n",
        "n = int(input())\n",
        "while n > 0:\n",
        "  print(n % 10)\n",
        "  n //= 10"
      ],
      "metadata": {
        "colab": {
          "base_uri": "https://localhost:8080/"
        },
        "id": "38oaRzbGRLWj",
        "outputId": "0744c098-ba7b-496e-e9ae-4eb1c9a15bf7"
      },
      "execution_count": 11,
      "outputs": [
        {
          "output_type": "stream",
          "name": "stdout",
          "text": [
            "12345\n",
            "5\n",
            "4\n",
            "3\n",
            "2\n",
            "1\n"
          ]
        }
      ]
    },
    {
      "cell_type": "code",
      "source": [
        "# for\n",
        "\n",
        "for i in 'one', 'two', 'three':\n",
        "  print(i, end=' ')\n",
        "for i in 'Python':\n",
        "  print(i, end=' ')"
      ],
      "metadata": {
        "colab": {
          "base_uri": "https://localhost:8080/"
        },
        "id": "RM-41q_kSfw2",
        "outputId": "127ec4fc-9090-4b74-dc89-66063e0f8caf"
      },
      "execution_count": 20,
      "outputs": [
        {
          "output_type": "stream",
          "name": "stdout",
          "text": [
            "one two three P y t h o n "
          ]
        }
      ]
    },
    {
      "cell_type": "code",
      "source": [
        "n = int(input())\n",
        "for i in range(n):\n",
        "  print(i, end=' ')"
      ],
      "metadata": {
        "colab": {
          "base_uri": "https://localhost:8080/"
        },
        "id": "LSbCw5q_UUYD",
        "outputId": "e9478b3f-a0bd-4c43-881c-7f397894c87a"
      },
      "execution_count": 21,
      "outputs": [
        {
          "output_type": "stream",
          "name": "stdout",
          "text": [
            "10\n",
            "0 1 2 3 4 5 6 7 8 9 "
          ]
        }
      ]
    },
    {
      "cell_type": "code",
      "source": [
        "n = int(input())\n",
        "for i in range(2, n):\n",
        "  print(i, end=' ')"
      ],
      "metadata": {
        "colab": {
          "base_uri": "https://localhost:8080/"
        },
        "id": "8mw0HXL6U6Cr",
        "outputId": "45e1f1a3-fc11-4e9e-b022-25ae51ca1099"
      },
      "execution_count": 22,
      "outputs": [
        {
          "output_type": "stream",
          "name": "stdout",
          "text": [
            "10\n",
            "2 3 4 5 6 7 8 9 "
          ]
        }
      ]
    },
    {
      "cell_type": "code",
      "source": [
        "n = int(input())\n",
        "for i in range(2, n, 2):\n",
        "  print(i, end=' ')"
      ],
      "metadata": {
        "colab": {
          "base_uri": "https://localhost:8080/"
        },
        "id": "n9WY1TVkVAhW",
        "outputId": "1840928f-5bc2-46a6-951c-b27cb2fdca6d"
      },
      "execution_count": 23,
      "outputs": [
        {
          "output_type": "stream",
          "name": "stdout",
          "text": [
            "10\n",
            "2 4 6 8 "
          ]
        }
      ]
    },
    {
      "cell_type": "code",
      "source": [
        "n = int(input())\n",
        "for i in range(n, 2, -2):\n",
        "  print(i, end=' ')"
      ],
      "metadata": {
        "colab": {
          "base_uri": "https://localhost:8080/"
        },
        "id": "QIPsWXPxVE03",
        "outputId": "bb1895d3-b027-4e1c-96c4-b5e084a4b37b"
      },
      "execution_count": 24,
      "outputs": [
        {
          "output_type": "stream",
          "name": "stdout",
          "text": [
            "10\n",
            "10 8 6 4 "
          ]
        }
      ]
    },
    {
      "cell_type": "code",
      "source": [
        "# break, continue, pass (do nothing)\n",
        "\n",
        "for var in 'Python':\n",
        "  if var == 'h':\n",
        "    break\n",
        "  print(var, end='')"
      ],
      "metadata": {
        "colab": {
          "base_uri": "https://localhost:8080/"
        },
        "id": "ltyvx8YaWejd",
        "outputId": "f2396857-be9a-48d0-93a7-deaca44c3127"
      },
      "execution_count": 27,
      "outputs": [
        {
          "output_type": "stream",
          "name": "stdout",
          "text": [
            "Pyt"
          ]
        }
      ]
    },
    {
      "cell_type": "code",
      "source": [
        "for var in 'Python':\n",
        "  if var == 'h':\n",
        "    continue\n",
        "  print(var)"
      ],
      "metadata": {
        "colab": {
          "base_uri": "https://localhost:8080/"
        },
        "id": "zLVSRVPqY3ym",
        "outputId": "646d8b56-1fc1-4f41-9822-f7d7282bc5e4"
      },
      "execution_count": 28,
      "outputs": [
        {
          "output_type": "stream",
          "name": "stdout",
          "text": [
            "P\n",
            "y\n",
            "t\n",
            "o\n",
            "n\n"
          ]
        }
      ]
    },
    {
      "cell_type": "code",
      "source": [
        "for var in range(5):\n",
        "  pass # no errors in output"
      ],
      "metadata": {
        "id": "kw_cd-HWZV4t"
      },
      "execution_count": 30,
      "outputs": []
    },
    {
      "cell_type": "code",
      "source": [
        "for var in 'Python':\n",
        "  if var == 'a':\n",
        "    break\n",
        "else: # works in case 'break' was used\n",
        "  print('No such letter in this word (case sensitive)')"
      ],
      "metadata": {
        "colab": {
          "base_uri": "https://localhost:8080/"
        },
        "id": "rGiqh8pwZlSQ",
        "outputId": "130d6352-7d15-4ace-ff25-4731a7c67ffb"
      },
      "execution_count": 10,
      "outputs": [
        {
          "output_type": "stream",
          "name": "stdout",
          "text": [
            "No such letter in this word (case sensitive)\n"
          ]
        }
      ]
    },
    {
      "cell_type": "code",
      "source": [
        "# простое число имеет делитель только 1 и само число\n",
        "# example of nested loop\n",
        "\n",
        "n = int(input())\n",
        "for i in range(2, n):\n",
        "  count = 0\n",
        "  for j in range(2, i):\n",
        "    if i % j == 0: # делится без остатка\n",
        "      count += 1\n",
        "  if count == 0:\n",
        "    print(i, end=' ') # выводим на экран простое число"
      ],
      "metadata": {
        "colab": {
          "base_uri": "https://localhost:8080/"
        },
        "id": "frmbQTLmIlbs",
        "outputId": "3cdc425f-6baf-4b2b-bc47-c610b65e03d8"
      },
      "execution_count": 22,
      "outputs": [
        {
          "output_type": "stream",
          "name": "stdout",
          "text": [
            "100\n",
            "2 3 5 7 11 13 17 19 23 29 31 37 41 43 47 53 59 61 67 71 73 79 83 89 97 "
          ]
        }
      ]
    },
    {
      "cell_type": "code",
      "source": [
        "# optimized code for increased (*3) performance\n",
        "\n",
        "n = int(input())\n",
        "for i in range(2, n):\n",
        "  count = 0\n",
        "  for j in range(2, int(i ** 0.5) + 1): # ** 0.5 square root\n",
        "    if i % j == 0: # делится без остатка\n",
        "      count += 1\n",
        "      break\n",
        "  if count == 0:\n",
        "    print(i, end=' ') # выводим на экран простое число"
      ],
      "metadata": {
        "colab": {
          "base_uri": "https://localhost:8080/"
        },
        "id": "sV0uR__OMWyR",
        "outputId": "d5b2f202-dd73-4a1a-b41e-fe732717c2b4"
      },
      "execution_count": 21,
      "outputs": [
        {
          "output_type": "stream",
          "name": "stdout",
          "text": [
            "100\n",
            "2 3 5 7 11 13 17 19 23 29 31 37 41 43 47 53 59 61 67 71 73 79 83 89 97 "
          ]
        }
      ]
    },
    {
      "cell_type": "code",
      "source": [
        "n = int(input())\n",
        "for i in range(2, n):\n",
        "  if 2 ** (i - 1) % i == 1:\n",
        "    print(i, end=' ')"
      ],
      "metadata": {
        "colab": {
          "base_uri": "https://localhost:8080/"
        },
        "id": "ae1Cy75KN94O",
        "outputId": "32f4bb03-6877-4b57-8a47-d3c4c533a782"
      },
      "execution_count": 26,
      "outputs": [
        {
          "output_type": "stream",
          "name": "stdout",
          "text": [
            "100\n",
            "3 5 7 11 13 17 19 23 29 31 37 41 43 47 53 59 61 67 71 73 79 83 89 97 "
          ]
        }
      ]
    }
  ]
}