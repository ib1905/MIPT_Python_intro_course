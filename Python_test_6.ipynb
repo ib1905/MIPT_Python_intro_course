{
  "nbformat": 4,
  "nbformat_minor": 0,
  "metadata": {
    "colab": {
      "name": "Python_test_6.ipynb",
      "provenance": [],
      "authorship_tag": "ABX9TyPDibA1pRLLAKWHH2p4vuNS",
      "include_colab_link": true
    },
    "kernelspec": {
      "name": "python3",
      "display_name": "Python 3"
    },
    "language_info": {
      "name": "python"
    }
  },
  "cells": [
    {
      "cell_type": "markdown",
      "metadata": {
        "id": "view-in-github",
        "colab_type": "text"
      },
      "source": [
        "<a href=\"https://colab.research.google.com/github/ib1905/MIPT_Python_professional_development_program/blob/main/Python_test_6.ipynb\" target=\"_parent\"><img src=\"https://colab.research.google.com/assets/colab-badge.svg\" alt=\"Open In Colab\"/></a>"
      ]
    },
    {
      "cell_type": "code",
      "execution_count": 74,
      "metadata": {
        "id": "T5ggJIRgHzId"
      },
      "outputs": [],
      "source": [
        "from collections import Counter\n",
        "\n",
        "with open('input.txt', 'r') as f1:\n",
        "  temperatures = sorted(f1.read().split())\n",
        "\n",
        "temperatures_ready = dict(Counter(temperatures))\n",
        "\n",
        "# file write-out\n",
        "\n",
        "f2 = open('output.txt', 'a')\n",
        "\n",
        "for k, v in temperatures_ready.items():\n",
        "  f2.write(str(k) + '/' + str(v) + ' ')\n",
        "\n",
        "f2.close()"
      ]
    },
    {
      "cell_type": "code",
      "source": [
        "# optional print-out\n",
        "\n",
        "for k, v in temperatures_ready.items():\n",
        "  print(k, end = \"\")\n",
        "  print('/', end = \"\")\n",
        "  print(v, end = \" \")"
      ],
      "metadata": {
        "colab": {
          "base_uri": "https://localhost:8080/"
        },
        "id": "kl3yUilpSsKb",
        "outputId": "5a7b5add-25e5-4cb0-af4f-056547ce91dd"
      },
      "execution_count": 75,
      "outputs": [
        {
          "output_type": "stream",
          "name": "stdout",
          "text": [
            "36.0/2 36.1/1 36.2/2 36.6/1 36.7/1 "
          ]
        }
      ]
    },
    {
      "cell_type": "code",
      "source": [
        "with open('input.txt', 'r') as f1:\n",
        "  logins = f1.read()\n",
        "\n",
        "logins"
      ],
      "metadata": {
        "colab": {
          "base_uri": "https://localhost:8080/",
          "height": 38
        },
        "id": "mD9JILIehS9c",
        "outputId": "70427eb6-9eab-42b1-966b-d5e2a36d1cd5"
      },
      "execution_count": 76,
      "outputs": [
        {
          "output_type": "execute_result",
          "data": {
            "text/plain": [
              "'usr07538\\ntab04582\\nstud02036\\nusr04967\\nusr09510'"
            ],
            "application/vnd.google.colaboratory.intrinsic+json": {
              "type": "string"
            }
          },
          "metadata": {},
          "execution_count": 76
        }
      ]
    },
    {
      "cell_type": "code",
      "source": [
        "logins = logins.split()"
      ],
      "metadata": {
        "id": "q-mzeI2NimTC"
      },
      "execution_count": 79,
      "outputs": []
    },
    {
      "cell_type": "code",
      "source": [
        "for login in logins:\n",
        "  if 'tab' not in login and 'usr' not in login:\n",
        "    logins.remove(login)\n",
        "\n",
        "logins"
      ],
      "metadata": {
        "colab": {
          "base_uri": "https://localhost:8080/"
        },
        "id": "B_xGE9-1ix6a",
        "outputId": "ff4c4e4a-7b0a-4bde-dc82-c373c1c3d4fa"
      },
      "execution_count": 88,
      "outputs": [
        {
          "output_type": "execute_result",
          "data": {
            "text/plain": [
              "['usr07538', 'tab04582', 'usr04967', 'usr09510']"
            ]
          },
          "metadata": {},
          "execution_count": 88
        }
      ]
    },
    {
      "cell_type": "code",
      "source": [
        "logins = sorted(logins)"
      ],
      "metadata": {
        "id": "eTtDImg4j-b8"
      },
      "execution_count": 92,
      "outputs": []
    },
    {
      "cell_type": "code",
      "source": [
        "for login in logins:\n",
        "  print(login)"
      ],
      "metadata": {
        "colab": {
          "base_uri": "https://localhost:8080/"
        },
        "id": "-WZQiXKEkF7Q",
        "outputId": "96d1db9e-0d92-434c-9ddf-93d963f89e60"
      },
      "execution_count": 93,
      "outputs": [
        {
          "output_type": "stream",
          "name": "stdout",
          "text": [
            "tab04582\n",
            "usr04967\n",
            "usr07538\n",
            "usr09510\n"
          ]
        }
      ]
    },
    {
      "cell_type": "code",
      "source": [
        "with open('output.txt', 'a') as f2:\n",
        "  for login in logins:\n",
        "    f2.writelines(login + '\\n')"
      ],
      "metadata": {
        "id": "_nQyqAFNkSVw"
      },
      "execution_count": 100,
      "outputs": []
    }
  ]
}