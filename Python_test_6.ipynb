{
  "nbformat": 4,
  "nbformat_minor": 0,
  "metadata": {
    "colab": {
      "name": "Python_test_6.ipynb",
      "provenance": [],
      "authorship_tag": "ABX9TyOEXPuareysvcgyqlop/WPl",
      "include_colab_link": true
    },
    "kernelspec": {
      "name": "python3",
      "display_name": "Python 3"
    },
    "language_info": {
      "name": "python"
    }
  },
  "cells": [
    {
      "cell_type": "markdown",
      "metadata": {
        "id": "view-in-github",
        "colab_type": "text"
      },
      "source": [
        "<a href=\"https://colab.research.google.com/github/ib1905/MIPT_Python_professional_development_program/blob/main/Python_test_6.ipynb\" target=\"_parent\"><img src=\"https://colab.research.google.com/assets/colab-badge.svg\" alt=\"Open In Colab\"/></a>"
      ]
    },
    {
      "cell_type": "code",
      "execution_count": 74,
      "metadata": {
        "id": "T5ggJIRgHzId"
      },
      "outputs": [],
      "source": [
        "from collections import Counter\n",
        "\n",
        "with open('input.txt', 'r') as f1:\n",
        "  temperatures = sorted(f1.read().split())\n",
        "\n",
        "temperatures_ready = dict(Counter(temperatures))\n",
        "\n",
        "# file write-out\n",
        "\n",
        "f2 = open('output.txt', 'a')\n",
        "\n",
        "for k, v in temperatures_ready.items():\n",
        "  f2.write(str(k) + '/' + str(v) + ' ')\n",
        "\n",
        "f2.close()"
      ]
    },
    {
      "cell_type": "code",
      "source": [
        "# optional print-out\n",
        "\n",
        "for k, v in temperatures_ready.items():\n",
        "  print(k, end = \"\")\n",
        "  print('/', end = \"\")\n",
        "  print(v, end = \" \")"
      ],
      "metadata": {
        "colab": {
          "base_uri": "https://localhost:8080/"
        },
        "id": "kl3yUilpSsKb",
        "outputId": "5a7b5add-25e5-4cb0-af4f-056547ce91dd"
      },
      "execution_count": 75,
      "outputs": [
        {
          "output_type": "stream",
          "name": "stdout",
          "text": [
            "36.0/2 36.1/1 36.2/2 36.6/1 36.7/1 "
          ]
        }
      ]
    },
    {
      "cell_type": "code",
      "source": [
        "with open('input.txt', 'r') as f1:\n",
        "  logins = f1.read().split()\n",
        "\n",
        "print(len(logins))\n",
        "\n",
        "for login in logins:\n",
        "  if 'stud' in login:\n",
        "    logins.remove(login)\n",
        "\n",
        "for i in range(len(logins) - 1):\n",
        "  if 'stud' in logins[i]:\n",
        "    logins.remove(logins[i])\n",
        "\n",
        "logins = sorted(logins)\n",
        "\n",
        "with open('output.txt', 'a') as f2:\n",
        "  for login in logins:\n",
        "    f2.writelines(login + '\\n')"
      ],
      "metadata": {
        "colab": {
          "base_uri": "https://localhost:8080/"
        },
        "id": "mD9JILIehS9c",
        "outputId": "57b9cdad-963d-4ca1-f2ed-08c77ebbe2fa"
      },
      "execution_count": 19,
      "outputs": [
        {
          "output_type": "stream",
          "name": "stdout",
          "text": [
            "13\n"
          ]
        }
      ]
    },
    {
      "cell_type": "code",
      "source": [
        "logins_str = ' '.join(logins)\n",
        "print(logins_str)\n",
        "type(logins_str)"
      ],
      "metadata": {
        "colab": {
          "base_uri": "https://localhost:8080/"
        },
        "id": "rL6pkOjvy-SG",
        "outputId": "46cdc37a-b771-4952-9863-fe4b806df225"
      },
      "execution_count": 16,
      "outputs": [
        {
          "output_type": "stream",
          "name": "stdout",
          "text": [
            "tab04582 usr04967 usr07538 usr09510\n"
          ]
        },
        {
          "output_type": "execute_result",
          "data": {
            "text/plain": [
              "str"
            ]
          },
          "metadata": {},
          "execution_count": 16
        }
      ]
    }
  ]
}