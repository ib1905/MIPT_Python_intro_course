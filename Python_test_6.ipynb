{
  "nbformat": 4,
  "nbformat_minor": 0,
  "metadata": {
    "colab": {
      "name": "Python_test_6.ipynb",
      "provenance": [],
      "authorship_tag": "ABX9TyPYJovddFp21U42NtI0mfma",
      "include_colab_link": true
    },
    "kernelspec": {
      "name": "python3",
      "display_name": "Python 3"
    },
    "language_info": {
      "name": "python"
    }
  },
  "cells": [
    {
      "cell_type": "markdown",
      "metadata": {
        "id": "view-in-github",
        "colab_type": "text"
      },
      "source": [
        "<a href=\"https://colab.research.google.com/github/ib1905/MIPT_Python_professional_development_program/blob/main/Python_test_6.ipynb\" target=\"_parent\"><img src=\"https://colab.research.google.com/assets/colab-badge.svg\" alt=\"Open In Colab\"/></a>"
      ]
    },
    {
      "cell_type": "code",
      "execution_count": 74,
      "metadata": {
        "id": "T5ggJIRgHzId"
      },
      "outputs": [],
      "source": [
        "from collections import Counter\n",
        "\n",
        "with open('input.txt', 'r') as f1:\n",
        "  temperatures = sorted(f1.read().split())\n",
        "\n",
        "temperatures_ready = dict(Counter(temperatures))\n",
        "\n",
        "# file write-out\n",
        "\n",
        "f2 = open('output.txt', 'a')\n",
        "\n",
        "for k, v in temperatures_ready.items():\n",
        "  f2.write(str(k) + '/' + str(v) + ' ')\n",
        "\n",
        "f2.close()"
      ]
    },
    {
      "cell_type": "code",
      "source": [
        "# optional print-out\n",
        "\n",
        "for k, v in temperatures_ready.items():\n",
        "  print(k, end = \"\")\n",
        "  print('/', end = \"\")\n",
        "  print(v, end = \" \")"
      ],
      "metadata": {
        "colab": {
          "base_uri": "https://localhost:8080/"
        },
        "id": "kl3yUilpSsKb",
        "outputId": "5a7b5add-25e5-4cb0-af4f-056547ce91dd"
      },
      "execution_count": 75,
      "outputs": [
        {
          "output_type": "stream",
          "name": "stdout",
          "text": [
            "36.0/2 36.1/1 36.2/2 36.6/1 36.7/1 "
          ]
        }
      ]
    },
    {
      "cell_type": "code",
      "source": [
        "with open('input.txt', 'r') as f1:\n",
        "  logins = f1.read().split()\n",
        "\n",
        "print(len(logins))\n",
        "\n",
        "for login in logins:\n",
        "  if 'stud' in login:\n",
        "    logins.remove(login)\n",
        "\n",
        "for i in range(len(logins) - 1):\n",
        "  if 'stud' in logins[i]:\n",
        "    logins.remove(logins[i])\n",
        "\n",
        "logins = sorted(logins)\n",
        "\n",
        "with open('output.txt', 'a') as f2:\n",
        "  for login in logins:\n",
        "    f2.writelines(login + '\\n')"
      ],
      "metadata": {
        "colab": {
          "base_uri": "https://localhost:8080/"
        },
        "id": "mD9JILIehS9c",
        "outputId": "57b9cdad-963d-4ca1-f2ed-08c77ebbe2fa"
      },
      "execution_count": 19,
      "outputs": [
        {
          "output_type": "stream",
          "name": "stdout",
          "text": [
            "13\n"
          ]
        }
      ]
    },
    {
      "cell_type": "code",
      "source": [
        "logins_str = ' '.join(logins)\n",
        "print(logins_str)\n",
        "type(logins_str)"
      ],
      "metadata": {
        "colab": {
          "base_uri": "https://localhost:8080/"
        },
        "id": "rL6pkOjvy-SG",
        "outputId": "46cdc37a-b771-4952-9863-fe4b806df225"
      },
      "execution_count": 16,
      "outputs": [
        {
          "output_type": "stream",
          "name": "stdout",
          "text": [
            "tab04582 usr04967 usr07538 usr09510\n"
          ]
        },
        {
          "output_type": "execute_result",
          "data": {
            "text/plain": [
              "str"
            ]
          },
          "metadata": {},
          "execution_count": 16
        }
      ]
    },
    {
      "cell_type": "code",
      "source": [
        "import json\n",
        "\n",
        "with open('input.json', 'r') as f:\n",
        "  weather_obj = json.load(f)\n",
        "\n",
        "date = weather_obj['date'].replace('-', '.')\n",
        "date_normalized = date[-2:] + date[4:8] + date[:4]\n",
        "print(weather_obj['region'] + ' (' + date_normalized + ') : ' + str(weather_obj['temperature']['value']) + str(weather_obj['temperature']['unit']))"
      ],
      "metadata": {
        "colab": {
          "base_uri": "https://localhost:8080/"
        },
        "id": "0ZHAqHWmFKbS",
        "outputId": "bf9db786-86f7-4103-8876-e8e62f6a01d0"
      },
      "execution_count": 124,
      "outputs": [
        {
          "output_type": "stream",
          "name": "stdout",
          "text": [
            "Nizhny Novgorod (22.05.2022) : 19.8C\n"
          ]
        }
      ]
    },
    {
      "cell_type": "code",
      "source": [
        "import json\n",
        "\n",
        "with open('input.json', 'r') as f1:\n",
        "  weather_obj = json.load(f1)\n",
        "\n",
        "print(weather_obj)\n",
        "\n",
        "date = weather_obj['date'].replace('-', '.')\n",
        "date_normalized = date[-2:] + date[4:8] + date[:4]\n",
        "weather_obj['date'] = date_normalized\n",
        "\n",
        "weather_obj['temperature'] = str(weather_obj['temperature']['value']) + str(weather_obj['temperature']['unit'])\n",
        "\n",
        "with open('output.json', 'w') as f2:\n",
        "  json.dump(weather_obj, f2)"
      ],
      "metadata": {
        "colab": {
          "base_uri": "https://localhost:8080/"
        },
        "id": "CnMXJ1coVL_5",
        "outputId": "6d354d0d-fce2-4b58-961b-f2af6ec5e98a"
      },
      "execution_count": 146,
      "outputs": [
        {
          "output_type": "stream",
          "name": "stdout",
          "text": [
            "{'region': 'Yekaterinburg', 'date': '2021-12-16', 'description': 'Clear', 'temperature': {'value': -29.6, 'unit': 'C'}}\n"
          ]
        }
      ]
    },
    {
      "cell_type": "code",
      "source": [
        "weather_obj"
      ],
      "metadata": {
        "colab": {
          "base_uri": "https://localhost:8080/"
        },
        "id": "FLOAH-tarLu-",
        "outputId": "ae379402-497b-4932-a614-8da875ce8652"
      },
      "execution_count": 152,
      "outputs": [
        {
          "output_type": "execute_result",
          "data": {
            "text/plain": [
              "{'region': 'Yekaterinburg',\n",
              " 'date': '16.12.2021',\n",
              " 'description': 'Clear',\n",
              " 'temperature': '-29.6C'}"
            ]
          },
          "metadata": {},
          "execution_count": 152
        }
      ]
    },
    {
      "cell_type": "code",
      "source": [
        "import pickle\n",
        "\n",
        "f = open('input.dat', 'wb')\n",
        "\n",
        "weather_obj = {'region': 'Yekaterinburg',\n",
        " 'date': '16.12.2021',\n",
        " 'description': 'Clear',\n",
        " 'temperature': '-29.6C'}\n",
        "\n",
        "pickle.dump(weather_obj, f)\n",
        "\n",
        "f.close\n",
        "\n",
        "f = open('input.dat', 'rb')\n",
        "\n",
        "weather_obj = pickle.load(f)\n",
        "\n",
        "f.close\n",
        "\n",
        "print(*weather_obj.values())"
      ],
      "metadata": {
        "colab": {
          "base_uri": "https://localhost:8080/"
        },
        "id": "5eG9ZENju0yW",
        "outputId": "d1ff00aa-0779-4557-ed68-bd333d914152"
      },
      "execution_count": 177,
      "outputs": [
        {
          "output_type": "stream",
          "name": "stdout",
          "text": [
            "Yekaterinburg 16.12.2021 Clear -29.6C\n"
          ]
        }
      ]
    },
    {
      "cell_type": "code",
      "source": [
        "# for Ya.Contest\n",
        "\n",
        "import pickle\n",
        "\n",
        "f = open('input.dat', 'rb')\n",
        "weather_obj = pickle.load(f)\n",
        "f.close\n",
        "\n",
        "print(*weather_obj.values())"
      ],
      "metadata": {
        "id": "HiuXzvv31JFg"
      },
      "execution_count": null,
      "outputs": []
    }
  ]
}