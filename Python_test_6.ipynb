{
  "nbformat": 4,
  "nbformat_minor": 0,
  "metadata": {
    "colab": {
      "name": "Python_test_6.ipynb",
      "provenance": [],
      "authorship_tag": "ABX9TyPfdLNATwB6XSOti4+dz+0o",
      "include_colab_link": true
    },
    "kernelspec": {
      "name": "python3",
      "display_name": "Python 3"
    },
    "language_info": {
      "name": "python"
    }
  },
  "cells": [
    {
      "cell_type": "markdown",
      "metadata": {
        "id": "view-in-github",
        "colab_type": "text"
      },
      "source": [
        "<a href=\"https://colab.research.google.com/github/ib1905/MIPT_Python_professional_development_program/blob/main/Python_test_6.ipynb\" target=\"_parent\"><img src=\"https://colab.research.google.com/assets/colab-badge.svg\" alt=\"Open In Colab\"/></a>"
      ]
    },
    {
      "cell_type": "code",
      "execution_count": 74,
      "metadata": {
        "id": "T5ggJIRgHzId"
      },
      "outputs": [],
      "source": [
        "from collections import Counter\n",
        "\n",
        "with open('input.txt', 'r') as f1:\n",
        "  temperatures = sorted(f1.read().split())\n",
        "\n",
        "temperatures_ready = dict(Counter(temperatures))\n",
        "\n",
        "# file write-out\n",
        "\n",
        "f2 = open('output.txt', 'a')\n",
        "\n",
        "for k, v in temperatures_ready.items():\n",
        "  f2.write(str(k) + '/' + str(v) + ' ')\n",
        "\n",
        "f2.close()"
      ]
    },
    {
      "cell_type": "code",
      "source": [
        "# optional print-out\n",
        "\n",
        "for k, v in smth.items():\n",
        "  print(k, end = \"\")\n",
        "  print('/', end = \"\")\n",
        "  print(v, end = \" \")"
      ],
      "metadata": {
        "colab": {
          "base_uri": "https://localhost:8080/"
        },
        "id": "kl3yUilpSsKb",
        "outputId": "4cf5a513-b0f6-400d-f169-cfab57937f18"
      },
      "execution_count": 60,
      "outputs": [
        {
          "output_type": "stream",
          "name": "stdout",
          "text": [
            "36.0/2 36.1/1 36.2/2 36.6/1 36.7/1 "
          ]
        }
      ]
    }
  ]
}