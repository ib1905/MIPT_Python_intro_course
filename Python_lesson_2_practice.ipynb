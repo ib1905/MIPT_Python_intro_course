{
  "nbformat": 4,
  "nbformat_minor": 0,
  "metadata": {
    "colab": {
      "name": "Python_lesson_2_practice.ipynb",
      "provenance": [],
      "authorship_tag": "ABX9TyNWIbCXbVKVg3F0JqQoWk2m",
      "include_colab_link": true
    },
    "kernelspec": {
      "name": "python3",
      "display_name": "Python 3"
    },
    "language_info": {
      "name": "python"
    }
  },
  "cells": [
    {
      "cell_type": "markdown",
      "metadata": {
        "id": "view-in-github",
        "colab_type": "text"
      },
      "source": [
        "<a href=\"https://colab.research.google.com/github/ib1905/MIPT_Python_professional_development_program/blob/main/Python_lesson_2_practice.ipynb\" target=\"_parent\"><img src=\"https://colab.research.google.com/assets/colab-badge.svg\" alt=\"Open In Colab\"/></a>"
      ]
    },
    {
      "cell_type": "code",
      "execution_count": 1,
      "metadata": {
        "colab": {
          "base_uri": "https://localhost:8080/"
        },
        "id": "wq34U8v3iKZu",
        "outputId": "10722a53-d7b5-4b76-9ae5-ac86d9977498"
      },
      "outputs": [
        {
          "output_type": "stream",
          "name": "stdout",
          "text": [
            "Enter your first integer: 1\n",
            "Enter your second integer: 2\n",
            "The sum of 1 and 2 is 3\n"
          ]
        }
      ],
      "source": [
        "a = int(input('Enter your first integer: '))\n",
        "b = int(input('Enter your second integer: '))\n",
        "c = a + b\n",
        "print('The sum of {} and {} is {}'.format(a, b, c))"
      ]
    },
    {
      "cell_type": "code",
      "source": [
        "a = int(input())\n",
        "int(not a)"
      ],
      "metadata": {
        "colab": {
          "base_uri": "https://localhost:8080/"
        },
        "id": "xBh7jM6PlDox",
        "outputId": "0bff7455-d0ae-48dd-af17-9bed4b998f3d"
      },
      "execution_count": 11,
      "outputs": [
        {
          "name": "stdout",
          "output_type": "stream",
          "text": [
            "1\n"
          ]
        },
        {
          "output_type": "execute_result",
          "data": {
            "text/plain": [
              "0"
            ]
          },
          "metadata": {},
          "execution_count": 11
        }
      ]
    },
    {
      "cell_type": "code",
      "source": [
        "n = int(input())\n",
        "n_divisible = n // 3\n",
        "print(n_divisible)"
      ],
      "metadata": {
        "colab": {
          "base_uri": "https://localhost:8080/"
        },
        "id": "WA-W6IJ5ldPI",
        "outputId": "1395a4aa-dc74-4f28-9609-8c250d1a1ae6"
      },
      "execution_count": 14,
      "outputs": [
        {
          "output_type": "stream",
          "name": "stdout",
          "text": [
            "10\n",
            "3\n"
          ]
        }
      ]
    }
  ]
}