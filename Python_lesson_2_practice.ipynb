{
  "nbformat": 4,
  "nbformat_minor": 0,
  "metadata": {
    "colab": {
      "name": "Python_lesson_2_practice.ipynb",
      "provenance": [],
      "authorship_tag": "ABX9TyOCCH6xlp+JpaqsTwFqPqoc",
      "include_colab_link": true
    },
    "kernelspec": {
      "name": "python3",
      "display_name": "Python 3"
    },
    "language_info": {
      "name": "python"
    }
  },
  "cells": [
    {
      "cell_type": "markdown",
      "metadata": {
        "id": "view-in-github",
        "colab_type": "text"
      },
      "source": [
        "<a href=\"https://colab.research.google.com/github/ib1905/MIPT_Python_professional_development_program/blob/main/Python_lesson_2_practice.ipynb\" target=\"_parent\"><img src=\"https://colab.research.google.com/assets/colab-badge.svg\" alt=\"Open In Colab\"/></a>"
      ]
    },
    {
      "cell_type": "code",
      "execution_count": null,
      "metadata": {
        "colab": {
          "base_uri": "https://localhost:8080/"
        },
        "id": "wq34U8v3iKZu",
        "outputId": "10722a53-d7b5-4b76-9ae5-ac86d9977498"
      },
      "outputs": [
        {
          "output_type": "stream",
          "name": "stdout",
          "text": [
            "Enter your first integer: 1\n",
            "Enter your second integer: 2\n",
            "The sum of 1 and 2 is 3\n"
          ]
        }
      ],
      "source": [
        "a = int(input('Enter your first integer: '))\n",
        "b = int(input('Enter your second integer: '))\n",
        "c = a + b\n",
        "print('The sum of {} and {} is {}'.format(a, b, c))"
      ]
    },
    {
      "cell_type": "code",
      "source": [
        "a = int(input())\n",
        "int(not a)"
      ],
      "metadata": {
        "colab": {
          "base_uri": "https://localhost:8080/"
        },
        "id": "xBh7jM6PlDox",
        "outputId": "0bff7455-d0ae-48dd-af17-9bed4b998f3d"
      },
      "execution_count": null,
      "outputs": [
        {
          "name": "stdout",
          "output_type": "stream",
          "text": [
            "1\n"
          ]
        },
        {
          "output_type": "execute_result",
          "data": {
            "text/plain": [
              "0"
            ]
          },
          "metadata": {},
          "execution_count": 11
        }
      ]
    },
    {
      "cell_type": "code",
      "source": [
        "n = int(input())\n",
        "n_divisible = n // 3\n",
        "print(n_divisible)"
      ],
      "metadata": {
        "colab": {
          "base_uri": "https://localhost:8080/"
        },
        "id": "WA-W6IJ5ldPI",
        "outputId": "1395a4aa-dc74-4f28-9609-8c250d1a1ae6"
      },
      "execution_count": null,
      "outputs": [
        {
          "output_type": "stream",
          "name": "stdout",
          "text": [
            "10\n",
            "3\n"
          ]
        }
      ]
    },
    {
      "cell_type": "code",
      "source": [
        "from math import ceil\n",
        "flat = int(input('Enter your flat number: '))\n",
        "flats_per_floor = int(input('Enter number of flats per floor: '))\n",
        "my_floor = ceil(flat / flats_per_floor) #correct rounding of floor value\n",
        "print('Your floor number is', my_floor)"
      ],
      "metadata": {
        "colab": {
          "base_uri": "https://localhost:8080/"
        },
        "id": "Ll9bGaS0BKNc",
        "outputId": "6360e5fc-9118-4369-ff1d-b155ddcb67ef"
      },
      "execution_count": 12,
      "outputs": [
        {
          "output_type": "stream",
          "name": "stdout",
          "text": [
            "Enter your flat number: 9\n",
            "Enter number of flats per floor: 4\n",
            "Your floor number is 3\n"
          ]
        }
      ]
    },
    {
      "cell_type": "code",
      "source": [
        "hours_source = 3\n",
        "minutes_source = 20\n",
        "hours_target = abs(hours_source - 12)\n",
        "minutes_target = abs(minutes_source - 60)\n",
        "print(hours_target, minutes_target)"
      ],
      "metadata": {
        "colab": {
          "base_uri": "https://localhost:8080/"
        },
        "id": "0_a7muhfTQ00",
        "outputId": "501cc83d-27fb-4402-9e72-4e9651433a82"
      },
      "execution_count": 23,
      "outputs": [
        {
          "output_type": "stream",
          "name": "stdout",
          "text": [
            "9 40\n"
          ]
        }
      ]
    },
    {
      "cell_type": "code",
      "source": [
        "from math import log2\n",
        "a = int(input())\n",
        "if (log2(a) % 1) > 0:\n",
        "  print(a, 'has a remainder when divided by 2')\n",
        "else:\n",
        "  print(a, 'is divisible by 2')"
      ],
      "metadata": {
        "colab": {
          "base_uri": "https://localhost:8080/"
        },
        "id": "TUuHpHxDWI8_",
        "outputId": "aae9a5f1-1aa3-44bc-c99d-ebe61d34351c"
      },
      "execution_count": 38,
      "outputs": [
        {
          "output_type": "stream",
          "name": "stdout",
          "text": [
            "1023\n",
            "1023 has a remainder when divided by 2\n"
          ]
        }
      ]
    }
  ]
}