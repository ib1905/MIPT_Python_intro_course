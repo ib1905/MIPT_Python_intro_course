{
  "nbformat": 4,
  "nbformat_minor": 0,
  "metadata": {
    "colab": {
      "name": "Python_lesson_11.ipynb",
      "provenance": [],
      "authorship_tag": "ABX9TyNRQ+ADwc1UxN5UFp3o9wFt",
      "include_colab_link": true
    },
    "kernelspec": {
      "name": "python3",
      "display_name": "Python 3"
    },
    "language_info": {
      "name": "python"
    }
  },
  "cells": [
    {
      "cell_type": "markdown",
      "metadata": {
        "id": "view-in-github",
        "colab_type": "text"
      },
      "source": [
        "<a href=\"https://colab.research.google.com/github/ib1905/MIPT_Python_professional_development_program/blob/main/Python_lesson_11.ipynb\" target=\"_parent\"><img src=\"https://colab.research.google.com/assets/colab-badge.svg\" alt=\"Open In Colab\"/></a>"
      ]
    },
    {
      "cell_type": "code",
      "execution_count": 2,
      "metadata": {
        "colab": {
          "base_uri": "https://localhost:8080/"
        },
        "id": "ANXTfXlXXh7n",
        "outputId": "25e5db51-f2bd-43c2-d8d8-e33b12876d5b"
      },
      "outputs": [
        {
          "output_type": "stream",
          "name": "stdout",
          "text": [
            "[3 4 5]\n",
            "<class 'numpy.ndarray'>\n"
          ]
        }
      ],
      "source": [
        "import numpy as np\n",
        "\n",
        "a = np.array([3, 4, 5]) # converting a list into an array\n",
        "print(a)\n",
        "print(type(a))"
      ]
    },
    {
      "cell_type": "code",
      "source": [
        "numbers = [1.2] * 10000\n",
        "print(numbers[0:10])"
      ],
      "metadata": {
        "colab": {
          "base_uri": "https://localhost:8080/"
        },
        "id": "04dgPsULbc7Z",
        "outputId": "283e359d-93d4-4806-b005-362edd8677da"
      },
      "execution_count": 3,
      "outputs": [
        {
          "output_type": "stream",
          "name": "stdout",
          "text": [
            "[1.2, 1.2, 1.2, 1.2, 1.2, 1.2, 1.2, 1.2, 1.2, 1.2]\n"
          ]
        }
      ]
    },
    {
      "cell_type": "code",
      "source": [
        "%%timeit\n",
        "# tracking time with a Python list\n",
        "squares = [x ** 2 for x in numbers]\n",
        "#print(squares[0:10])"
      ],
      "metadata": {
        "colab": {
          "base_uri": "https://localhost:8080/"
        },
        "id": "KiYBA8Qxbyno",
        "outputId": "4df0fa66-ef40-4d34-b465-0c6c2a3f5681"
      },
      "execution_count": 7,
      "outputs": [
        {
          "output_type": "stream",
          "name": "stdout",
          "text": [
            "1000 loops, best of 5: 793 µs per loop\n"
          ]
        }
      ]
    },
    {
      "cell_type": "code",
      "source": [
        "np_numbers = np.array(numbers)\n",
        "np_numbers"
      ],
      "metadata": {
        "colab": {
          "base_uri": "https://localhost:8080/"
        },
        "id": "6m409ZEQcgWy",
        "outputId": "31262631-6e58-4cda-c390-e0798377eb4e"
      },
      "execution_count": 8,
      "outputs": [
        {
          "output_type": "execute_result",
          "data": {
            "text/plain": [
              "array([1.2, 1.2, 1.2, ..., 1.2, 1.2, 1.2])"
            ]
          },
          "metadata": {},
          "execution_count": 8
        }
      ]
    },
    {
      "cell_type": "code",
      "source": [
        "%%timeit\n",
        "# tracking time with a numpy array\n",
        "np_squares = np_numbers ** 2\n",
        "#print(np_squares)"
      ],
      "metadata": {
        "colab": {
          "base_uri": "https://localhost:8080/"
        },
        "id": "nuwqGEH1co1q",
        "outputId": "dfbf4ec7-f5fc-42c4-aca3-47e026d0a73f"
      },
      "execution_count": 9,
      "outputs": [
        {
          "output_type": "stream",
          "name": "stdout",
          "text": [
            "The slowest run took 41.26 times longer than the fastest. This could mean that an intermediate result is being cached.\n",
            "100000 loops, best of 5: 4.04 µs per loop\n"
          ]
        }
      ]
    },
    {
      "cell_type": "code",
      "source": [
        "a = np.array([3, 4, 5])\n",
        "a[1]"
      ],
      "metadata": {
        "colab": {
          "base_uri": "https://localhost:8080/"
        },
        "id": "LWsrMzrZd4pN",
        "outputId": "279de94a-8e64-4573-cd9b-2bd1536d775a"
      },
      "execution_count": 14,
      "outputs": [
        {
          "output_type": "execute_result",
          "data": {
            "text/plain": [
              "4"
            ]
          },
          "metadata": {},
          "execution_count": 14
        }
      ]
    },
    {
      "cell_type": "code",
      "source": [
        "a[1] = 3\n",
        "a"
      ],
      "metadata": {
        "colab": {
          "base_uri": "https://localhost:8080/"
        },
        "id": "jB6uh9X3emuf",
        "outputId": "597070dd-0e3e-4062-b333-dac213266683"
      },
      "execution_count": 15,
      "outputs": [
        {
          "output_type": "execute_result",
          "data": {
            "text/plain": [
              "array([3, 3, 5])"
            ]
          },
          "metadata": {},
          "execution_count": 15
        }
      ]
    },
    {
      "cell_type": "code",
      "source": [
        "a[1] = 3.5 # implicit conversion, so there is only one type of data in the array\n",
        "a"
      ],
      "metadata": {
        "colab": {
          "base_uri": "https://localhost:8080/"
        },
        "id": "8qhtqzj_eqFB",
        "outputId": "1862bc3e-a637-4cb1-91f5-19a484fe9844"
      },
      "execution_count": 16,
      "outputs": [
        {
          "output_type": "execute_result",
          "data": {
            "text/plain": [
              "array([3, 3, 5])"
            ]
          },
          "metadata": {},
          "execution_count": 16
        }
      ]
    },
    {
      "cell_type": "code",
      "source": [
        "a = np.array(a).astype(np.float64) # explicit conversion to a float type of data\n",
        "print(a)"
      ],
      "metadata": {
        "colab": {
          "base_uri": "https://localhost:8080/"
        },
        "id": "W0wMpC-0e3Mp",
        "outputId": "aee8ec1d-c031-418d-94b7-08493485c5d8"
      },
      "execution_count": 20,
      "outputs": [
        {
          "output_type": "stream",
          "name": "stdout",
          "text": [
            "[3. 3. 5.]\n"
          ]
        }
      ]
    },
    {
      "cell_type": "code",
      "source": [
        "b = np.array([5, 5, 5])\n",
        "b.dtype"
      ],
      "metadata": {
        "colab": {
          "base_uri": "https://localhost:8080/"
        },
        "id": "_meil_ALfmVW",
        "outputId": "20664b06-5459-4f58-fd3c-ddac9ee1bb3e"
      },
      "execution_count": 21,
      "outputs": [
        {
          "output_type": "execute_result",
          "data": {
            "text/plain": [
              "dtype('int64')"
            ]
          },
          "metadata": {},
          "execution_count": 21
        }
      ]
    },
    {
      "cell_type": "code",
      "source": [
        "text = np.array(['one', 'two', 'three'])\n",
        "text"
      ],
      "metadata": {
        "colab": {
          "base_uri": "https://localhost:8080/"
        },
        "id": "Z46ai7Wtf7vd",
        "outputId": "ff21a3bb-3efc-4f3a-bcef-45ad79dd6217"
      },
      "execution_count": 22,
      "outputs": [
        {
          "output_type": "execute_result",
          "data": {
            "text/plain": [
              "array(['one', 'two', 'three'], dtype='<U5')"
            ]
          },
          "metadata": {},
          "execution_count": 22
        }
      ]
    },
    {
      "cell_type": "code",
      "source": [
        "mixed = np.array([1, True, 3.5, 'Hello'])\n",
        "mixed"
      ],
      "metadata": {
        "colab": {
          "base_uri": "https://localhost:8080/"
        },
        "id": "7MRRZcqogg1m",
        "outputId": "c5a676d6-3f6d-49cd-eed6-b15892dc2562"
      },
      "execution_count": 23,
      "outputs": [
        {
          "output_type": "execute_result",
          "data": {
            "text/plain": [
              "array(['1', 'True', '3.5', 'Hello'], dtype='<U32')"
            ]
          },
          "metadata": {},
          "execution_count": 23
        }
      ]
    },
    {
      "cell_type": "code",
      "source": [
        "c = np.array([1, 2, 3])\n",
        "print(c)"
      ],
      "metadata": {
        "colab": {
          "base_uri": "https://localhost:8080/"
        },
        "id": "XnKZGhpsgtbG",
        "outputId": "bb61bd4e-20f7-425b-dba5-341cbf7c4d20"
      },
      "execution_count": 24,
      "outputs": [
        {
          "output_type": "stream",
          "name": "stdout",
          "text": [
            "[1 2 3]\n"
          ]
        }
      ]
    },
    {
      "cell_type": "code",
      "source": [
        "d = np.append(c, 6)\n",
        "print(c)\n",
        "print(d)"
      ],
      "metadata": {
        "colab": {
          "base_uri": "https://localhost:8080/"
        },
        "id": "uiXExG31hOSL",
        "outputId": "6da62c40-dbd7-4e80-9abf-ea69d500ee92"
      },
      "execution_count": 25,
      "outputs": [
        {
          "output_type": "stream",
          "name": "stdout",
          "text": [
            "[1 2 3]\n",
            "[1 2 3 6]\n"
          ]
        }
      ]
    },
    {
      "cell_type": "code",
      "source": [
        "d2_array = np.array([[2, 3], [4, 5]])\n",
        "d2_array"
      ],
      "metadata": {
        "colab": {
          "base_uri": "https://localhost:8080/"
        },
        "id": "PmFM464vhg2c",
        "outputId": "3406095b-a52c-438b-9361-14715b0bdc65"
      },
      "execution_count": 27,
      "outputs": [
        {
          "output_type": "execute_result",
          "data": {
            "text/plain": [
              "array([[2, 3],\n",
              "       [4, 5]])"
            ]
          },
          "metadata": {},
          "execution_count": 27
        }
      ]
    },
    {
      "cell_type": "code",
      "source": [
        "d3_array = np.array([[[1, 2], [3, 4]], [[5, 6], [7, 8]]])\n",
        "print(d3_array)\n",
        "\n",
        "print(np.shape(d3_array))\n",
        "print(np.size(d3_array))"
      ],
      "metadata": {
        "colab": {
          "base_uri": "https://localhost:8080/"
        },
        "id": "iUsk0h6chxdc",
        "outputId": "7636d07e-51a7-4963-87b8-373b03b1328d"
      },
      "execution_count": 44,
      "outputs": [
        {
          "output_type": "stream",
          "name": "stdout",
          "text": [
            "[[[1 2]\n",
            "  [3 4]]\n",
            "\n",
            " [[5 6]\n",
            "  [7 8]]]\n",
            "(2, 2, 2)\n",
            "8\n"
          ]
        }
      ]
    },
    {
      "cell_type": "code",
      "source": [
        "a = np.array([1, 2, 3, 4])\n",
        "b = np.array([9, 8, 7, 6])\n",
        "a + b # ONLY for arrays with equal shapes"
      ],
      "metadata": {
        "colab": {
          "base_uri": "https://localhost:8080/"
        },
        "id": "jppYkj5liKMQ",
        "outputId": "cc142108-6e4f-4143-fb85-3cc4969937e7"
      },
      "execution_count": 34,
      "outputs": [
        {
          "output_type": "execute_result",
          "data": {
            "text/plain": [
              "array([10, 10, 10, 10])"
            ]
          },
          "metadata": {},
          "execution_count": 34
        }
      ]
    },
    {
      "cell_type": "code",
      "source": [
        "a + 1"
      ],
      "metadata": {
        "colab": {
          "base_uri": "https://localhost:8080/"
        },
        "id": "m6oV_2PVingq",
        "outputId": "c918812e-5570-4bf5-a3df-78ace9b4f4ec"
      },
      "execution_count": 35,
      "outputs": [
        {
          "output_type": "execute_result",
          "data": {
            "text/plain": [
              "array([2, 3, 4, 5])"
            ]
          },
          "metadata": {},
          "execution_count": 35
        }
      ]
    },
    {
      "cell_type": "code",
      "source": [
        "a < b"
      ],
      "metadata": {
        "colab": {
          "base_uri": "https://localhost:8080/"
        },
        "id": "iZkupHrei23H",
        "outputId": "f5aa2ac9-265f-4ea1-f64c-82fbbe46a25b"
      },
      "execution_count": 36,
      "outputs": [
        {
          "output_type": "execute_result",
          "data": {
            "text/plain": [
              "array([ True,  True,  True,  True])"
            ]
          },
          "metadata": {},
          "execution_count": 36
        }
      ]
    },
    {
      "cell_type": "code",
      "source": [
        "print(np.any(a)) # any() function returns True if at least one item in a Numpy array evaluates to True\n",
        "print(np.all(a)) # all() function returns True only if all items in a Numpy array evaluate as True"
      ],
      "metadata": {
        "colab": {
          "base_uri": "https://localhost:8080/"
        },
        "id": "yrijqfF3i6i2",
        "outputId": "ed55c11f-ee5c-4790-a1a5-d5c0f0d379c5"
      },
      "execution_count": 46,
      "outputs": [
        {
          "output_type": "stream",
          "name": "stdout",
          "text": [
            "True\n",
            "True\n"
          ]
        }
      ]
    },
    {
      "cell_type": "code",
      "source": [
        "print(a)\n",
        "a.sum(), a.prod(), a.max(), a.mean()"
      ],
      "metadata": {
        "colab": {
          "base_uri": "https://localhost:8080/"
        },
        "id": "fYeUD2yukAJF",
        "outputId": "8ae90016-2cc7-4fc8-f949-929b569f2c3d"
      },
      "execution_count": 47,
      "outputs": [
        {
          "output_type": "stream",
          "name": "stdout",
          "text": [
            "[1 2 3 4]\n"
          ]
        },
        {
          "output_type": "execute_result",
          "data": {
            "text/plain": [
              "(10, 24, 4, 2.5)"
            ]
          },
          "metadata": {},
          "execution_count": 47
        }
      ]
    },
    {
      "cell_type": "code",
      "source": [
        "x = np.random.normal(size = 100)\n",
        "x"
      ],
      "metadata": {
        "colab": {
          "base_uri": "https://localhost:8080/"
        },
        "id": "ibC7Xw1tketh",
        "outputId": "8392813d-6ad7-4a99-aedb-d789c762bfe0"
      },
      "execution_count": 49,
      "outputs": [
        {
          "output_type": "execute_result",
          "data": {
            "text/plain": [
              "array([-0.71193809, -0.01881881, -0.99385768, -0.96783198, -0.76748886,\n",
              "       -0.64150593, -0.37307922,  1.4616204 , -0.46559801,  0.01113766,\n",
              "        2.90993022, -1.23259443, -1.84681375,  0.87495738,  0.81776214,\n",
              "       -0.04581779,  0.35833937, -0.09538134,  1.88860931, -0.50097837,\n",
              "        0.41911656,  1.13661648, -0.58203468,  0.18789833, -1.09054669,\n",
              "        0.27480085, -0.62416391, -0.61850062,  0.52545253,  0.72958267,\n",
              "       -1.51234757, -0.50766487,  0.69981713,  0.36806913,  1.83483926,\n",
              "        1.06960145,  0.02468357,  0.23755421,  0.14132495,  0.20942118,\n",
              "        1.17453484,  1.70798458, -1.5049027 , -1.97018355,  1.01993161,\n",
              "        0.67311208, -0.18575578,  1.33847658, -0.61247614,  1.63769752,\n",
              "       -1.3127953 ,  0.07851497,  0.31374307, -0.73047804, -0.56375668,\n",
              "       -0.20605686, -0.6908208 ,  0.11873378, -0.94532534,  0.96873259,\n",
              "        0.25174644,  0.63610932,  0.74418476, -2.14338513, -0.31536772,\n",
              "       -0.16120721,  0.02210039,  2.19662719,  1.10893978,  0.46315816,\n",
              "        1.54701488, -0.8864158 , -0.23802883,  1.3881554 , -0.98471382,\n",
              "       -0.32491365, -0.31673694,  1.91376322,  1.1404052 , -0.20345087,\n",
              "        2.29986844,  2.10735581, -0.7141133 , -0.54923183,  0.68989335,\n",
              "       -1.10515117, -0.9005979 ,  0.19954809, -0.83321056, -1.70470477,\n",
              "        0.13180759,  0.37245121,  0.65773914, -0.91134552, -0.33390678,\n",
              "        1.90685152, -0.10322548, -2.05194242,  0.36201631, -0.41514214])"
            ]
          },
          "metadata": {},
          "execution_count": 49
        }
      ]
    },
    {
      "cell_type": "code",
      "source": [
        "x.mean()\n",
        "#np.sqrt(x), np.exp(x), np.log(x)"
      ],
      "metadata": {
        "colab": {
          "base_uri": "https://localhost:8080/"
        },
        "id": "cRAzwMGaksxu",
        "outputId": "92a114f9-977d-4ea7-954a-6f08da19b24c"
      },
      "execution_count": 56,
      "outputs": [
        {
          "output_type": "execute_result",
          "data": {
            "text/plain": [
              "0.0783602698012782"
            ]
          },
          "metadata": {},
          "execution_count": 56
        }
      ]
    },
    {
      "cell_type": "code",
      "source": [
        "np.sort(x) # as a method; in case we need a function: sort(x)"
      ],
      "metadata": {
        "colab": {
          "base_uri": "https://localhost:8080/"
        },
        "id": "yBJZL1_OlQhr",
        "outputId": "02c69cd3-235e-4cdd-dc05-51aba614851d"
      },
      "execution_count": 57,
      "outputs": [
        {
          "output_type": "execute_result",
          "data": {
            "text/plain": [
              "array([-2.14338513, -2.05194242, -1.97018355, -1.84681375, -1.70470477,\n",
              "       -1.51234757, -1.5049027 , -1.3127953 , -1.23259443, -1.10515117,\n",
              "       -1.09054669, -0.99385768, -0.98471382, -0.96783198, -0.94532534,\n",
              "       -0.91134552, -0.9005979 , -0.8864158 , -0.83321056, -0.76748886,\n",
              "       -0.73047804, -0.7141133 , -0.71193809, -0.6908208 , -0.64150593,\n",
              "       -0.62416391, -0.61850062, -0.61247614, -0.58203468, -0.56375668,\n",
              "       -0.54923183, -0.50766487, -0.50097837, -0.46559801, -0.41514214,\n",
              "       -0.37307922, -0.33390678, -0.32491365, -0.31673694, -0.31536772,\n",
              "       -0.23802883, -0.20605686, -0.20345087, -0.18575578, -0.16120721,\n",
              "       -0.10322548, -0.09538134, -0.04581779, -0.01881881,  0.01113766,\n",
              "        0.02210039,  0.02468357,  0.07851497,  0.11873378,  0.13180759,\n",
              "        0.14132495,  0.18789833,  0.19954809,  0.20942118,  0.23755421,\n",
              "        0.25174644,  0.27480085,  0.31374307,  0.35833937,  0.36201631,\n",
              "        0.36806913,  0.37245121,  0.41911656,  0.46315816,  0.52545253,\n",
              "        0.63610932,  0.65773914,  0.67311208,  0.68989335,  0.69981713,\n",
              "        0.72958267,  0.74418476,  0.81776214,  0.87495738,  0.96873259,\n",
              "        1.01993161,  1.06960145,  1.10893978,  1.13661648,  1.1404052 ,\n",
              "        1.17453484,  1.33847658,  1.3881554 ,  1.4616204 ,  1.54701488,\n",
              "        1.63769752,  1.70798458,  1.83483926,  1.88860931,  1.90685152,\n",
              "        1.91376322,  2.10735581,  2.19662719,  2.29986844,  2.90993022])"
            ]
          },
          "metadata": {},
          "execution_count": 57
        }
      ]
    },
    {
      "cell_type": "code",
      "source": [
        "print(a, b)\n",
        "np.vstack((a, b)) # combining arrays"
      ],
      "metadata": {
        "colab": {
          "base_uri": "https://localhost:8080/"
        },
        "id": "ugDvpoAtlqAo",
        "outputId": "c97a47fc-1edc-4591-9f99-6080b9e45ce4"
      },
      "execution_count": 58,
      "outputs": [
        {
          "output_type": "stream",
          "name": "stdout",
          "text": [
            "[1 2 3 4] [9 8 7 6]\n"
          ]
        },
        {
          "output_type": "execute_result",
          "data": {
            "text/plain": [
              "array([[1, 2, 3, 4],\n",
              "       [9, 8, 7, 6]])"
            ]
          },
          "metadata": {},
          "execution_count": 58
        }
      ]
    },
    {
      "cell_type": "code",
      "source": [
        "np.hstack((a, b))"
      ],
      "metadata": {
        "colab": {
          "base_uri": "https://localhost:8080/"
        },
        "id": "JBdxWgSil1YQ",
        "outputId": "d3d13990-0604-4d0c-dc21-b6f693d833cd"
      },
      "execution_count": 60,
      "outputs": [
        {
          "output_type": "execute_result",
          "data": {
            "text/plain": [
              "array([1, 2, 3, 4, 9, 8, 7, 6])"
            ]
          },
          "metadata": {},
          "execution_count": 60
        }
      ]
    },
    {
      "cell_type": "code",
      "source": [
        "np.hsplit(a, [3, 6])"
      ],
      "metadata": {
        "colab": {
          "base_uri": "https://localhost:8080/"
        },
        "id": "rRrA2WpHl9ZO",
        "outputId": "49caab7d-07b7-49ac-c0c4-332cc08b4a92"
      },
      "execution_count": 61,
      "outputs": [
        {
          "output_type": "execute_result",
          "data": {
            "text/plain": [
              "[array([1, 2, 3]), array([4]), array([], dtype=int64)]"
            ]
          },
          "metadata": {},
          "execution_count": 61
        }
      ]
    },
    {
      "cell_type": "code",
      "source": [
        "a = np.linspace(0, 1, 11) # splitting an array within the range 0-1 and divide in 11 parts\n",
        "a"
      ],
      "metadata": {
        "colab": {
          "base_uri": "https://localhost:8080/"
        },
        "id": "BvHYINIFmkka",
        "outputId": "e00491aa-79b6-41ec-f007-6216c6c8309c"
      },
      "execution_count": 65,
      "outputs": [
        {
          "output_type": "execute_result",
          "data": {
            "text/plain": [
              "array([0. , 0.1, 0.2, 0.3, 0.4, 0.5, 0.6, 0.7, 0.8, 0.9, 1. ])"
            ]
          },
          "metadata": {},
          "execution_count": 65
        }
      ]
    },
    {
      "cell_type": "code",
      "source": [
        "a[3:9:2] # indexing and defining a step"
      ],
      "metadata": {
        "colab": {
          "base_uri": "https://localhost:8080/"
        },
        "id": "5GijjufwnA_Q",
        "outputId": "30f121c9-8d19-45d0-f403-a408083c4ba3"
      },
      "execution_count": 66,
      "outputs": [
        {
          "output_type": "execute_result",
          "data": {
            "text/plain": [
              "array([0.3, 0.5, 0.7])"
            ]
          },
          "metadata": {},
          "execution_count": 66
        }
      ]
    },
    {
      "cell_type": "code",
      "source": [
        "a[3:9:2] = 0 # assigning '0' to the specified range with the step of 2\n",
        "a"
      ],
      "metadata": {
        "colab": {
          "base_uri": "https://localhost:8080/"
        },
        "id": "pbLZcLFGnOSR",
        "outputId": "39c98dd5-a288-4e99-859e-27284b81a771"
      },
      "execution_count": 68,
      "outputs": [
        {
          "output_type": "execute_result",
          "data": {
            "text/plain": [
              "array([0. , 0.1, 0.2, 0. , 0.4, 0. , 0.6, 0. , 0.8, 0.9, 1. ])"
            ]
          },
          "metadata": {},
          "execution_count": 68
        }
      ]
    },
    {
      "cell_type": "code",
      "source": [
        "print(a)\n",
        "b = np.delete(a, [1, 2])\n",
        "print(b)"
      ],
      "metadata": {
        "colab": {
          "base_uri": "https://localhost:8080/"
        },
        "id": "puNTsX4XnbCL",
        "outputId": "c5996452-c784-4836-ee9d-80029ae93f3a"
      },
      "execution_count": 70,
      "outputs": [
        {
          "output_type": "stream",
          "name": "stdout",
          "text": [
            "[0.  0.1 0.2 0.  0.4 0.  0.6 0.  0.8 0.9 1. ]\n",
            "[0.  0.  0.4 0.  0.6 0.  0.8 0.9 1. ]\n"
          ]
        }
      ]
    },
    {
      "cell_type": "code",
      "source": [
        "a = np.array([[1, 2], [3, 4]])\n",
        "b = np.array([[0, 1], [1, 0]])\n",
        "a @ b # matrix multiplication"
      ],
      "metadata": {
        "colab": {
          "base_uri": "https://localhost:8080/"
        },
        "id": "jcnfV9Udn6yJ",
        "outputId": "cd2ad025-2651-4640-de6d-c7c6a5ac7d1b"
      },
      "execution_count": 72,
      "outputs": [
        {
          "output_type": "execute_result",
          "data": {
            "text/plain": [
              "array([[2, 1],\n",
              "       [4, 3]])"
            ]
          },
          "metadata": {},
          "execution_count": 72
        }
      ]
    },
    {
      "cell_type": "code",
      "source": [
        "np.matrix(a) * np.matrix(b)"
      ],
      "metadata": {
        "colab": {
          "base_uri": "https://localhost:8080/"
        },
        "id": "RlDnsKQRp7P4",
        "outputId": "5b1145a5-309f-4175-a6e8-68354441af64"
      },
      "execution_count": 73,
      "outputs": [
        {
          "output_type": "execute_result",
          "data": {
            "text/plain": [
              "matrix([[2, 1],\n",
              "        [4, 3]])"
            ]
          },
          "metadata": {},
          "execution_count": 73
        }
      ]
    },
    {
      "cell_type": "code",
      "source": [
        "I = np.eye(4)\n",
        "I"
      ],
      "metadata": {
        "colab": {
          "base_uri": "https://localhost:8080/"
        },
        "id": "HUX4eI_PqSZ_",
        "outputId": "66ba274c-8c3e-4185-d2f2-f133b3b8d4b0"
      },
      "execution_count": 74,
      "outputs": [
        {
          "output_type": "execute_result",
          "data": {
            "text/plain": [
              "array([[1., 0., 0., 0.],\n",
              "       [0., 1., 0., 0.],\n",
              "       [0., 0., 1., 0.],\n",
              "       [0., 0., 0., 1.]])"
            ]
          },
          "metadata": {},
          "execution_count": 74
        }
      ]
    },
    {
      "cell_type": "code",
      "source": [
        "I.reshape(16)"
      ],
      "metadata": {
        "colab": {
          "base_uri": "https://localhost:8080/"
        },
        "id": "6abnM13zqnDb",
        "outputId": "f8d8e1a4-ca4b-4d01-bf8a-9c06ce337ae5"
      },
      "execution_count": 75,
      "outputs": [
        {
          "output_type": "execute_result",
          "data": {
            "text/plain": [
              "array([1., 0., 0., 0., 0., 1., 0., 0., 0., 0., 1., 0., 0., 0., 0., 1.])"
            ]
          },
          "metadata": {},
          "execution_count": 75
        }
      ]
    },
    {
      "cell_type": "code",
      "source": [
        "I"
      ],
      "metadata": {
        "colab": {
          "base_uri": "https://localhost:8080/"
        },
        "id": "_5Ssyb0Jq0iF",
        "outputId": "70a44874-b362-44b3-de19-af98db5017ad"
      },
      "execution_count": 76,
      "outputs": [
        {
          "output_type": "execute_result",
          "data": {
            "text/plain": [
              "array([[1., 0., 0., 0.],\n",
              "       [0., 1., 0., 0.],\n",
              "       [0., 0., 1., 0.],\n",
              "       [0., 0., 0., 1.]])"
            ]
          },
          "metadata": {},
          "execution_count": 76
        }
      ]
    },
    {
      "cell_type": "code",
      "source": [
        "for row in I:\n",
        "  print(row)"
      ],
      "metadata": {
        "colab": {
          "base_uri": "https://localhost:8080/"
        },
        "id": "u7GaJSFTq1_k",
        "outputId": "b4e32485-7a63-451d-f110-b2aaf9556a7a"
      },
      "execution_count": 77,
      "outputs": [
        {
          "output_type": "stream",
          "name": "stdout",
          "text": [
            "[1. 0. 0. 0.]\n",
            "[0. 1. 0. 0.]\n",
            "[0. 0. 1. 0.]\n",
            "[0. 0. 0. 1.]\n"
          ]
        }
      ]
    },
    {
      "cell_type": "code",
      "source": [
        "def f(i, j):\n",
        "  print(i)\n",
        "  print(j)\n",
        "  return 10 * i + j\n",
        "\n",
        "print(np.fromfunction(f, (4, 4), dtype=np.int64))"
      ],
      "metadata": {
        "colab": {
          "base_uri": "https://localhost:8080/"
        },
        "id": "pBUDcAmJq91j",
        "outputId": "733f78ea-7e82-41b7-e7f0-96a36765ed74"
      },
      "execution_count": 82,
      "outputs": [
        {
          "output_type": "stream",
          "name": "stdout",
          "text": [
            "[[0 0 0 0]\n",
            " [1 1 1 1]\n",
            " [2 2 2 2]\n",
            " [3 3 3 3]]\n",
            "[[0 1 2 3]\n",
            " [0 1 2 3]\n",
            " [0 1 2 3]\n",
            " [0 1 2 3]]\n",
            "[[ 0  1  2  3]\n",
            " [10 11 12 13]\n",
            " [20 21 22 23]\n",
            " [30 31 32 33]]\n"
          ]
        }
      ]
    }
  ]
}