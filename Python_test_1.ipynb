{
  "cells": [
    {
      "cell_type": "markdown",
      "metadata": {
        "id": "view-in-github",
        "colab_type": "text"
      },
      "source": [
        "<a href=\"https://colab.research.google.com/github/ib1905/MIPT_Python_professional_development_program/blob/main/Python_test_1.ipynb\" target=\"_parent\"><img src=\"https://colab.research.google.com/assets/colab-badge.svg\" alt=\"Open In Colab\"/></a>"
      ]
    },
    {
      "cell_type": "code",
      "execution_count": null,
      "metadata": {
        "colab": {
          "base_uri": "https://localhost:8080/"
        },
        "id": "yGiPHsWR68RB",
        "outputId": "33d31005-e5ac-44c9-b58c-ef436707a586"
      },
      "outputs": [
        {
          "name": "stdout",
          "output_type": "stream",
          "text": [
            "Пенза\n",
            "Прага\n",
            "ДА\n"
          ]
        }
      ],
      "source": [
        "holiday_June = input()\n",
        "holiday_August = input()\n",
        "\n",
        "if holiday_June != 'Вена' and holiday_August != 'Прага':\n",
        "  print('НЕТ')\n",
        "elif holiday_June == 'Вена' and holiday_August == 'Прага':\n",
        "  print('НЕТ')\n",
        "elif holiday_June == 'Вена' and holiday_August == 'Вена':\n",
        "  print('НЕТ')\n",
        "elif holiday_June == 'Прага' and holiday_August == 'Прага':\n",
        "  print('НЕТ')\n",
        "else:\n",
        "  print('ДА')"
      ]
    },
    {
      "cell_type": "code",
      "execution_count": null,
      "metadata": {
        "colab": {
          "base_uri": "https://localhost:8080/"
        },
        "id": "KEEjvIMx_tLf",
        "outputId": "7c4d8793-a3a8-4211-bcd0-2f4bf18ea6c4"
      },
      "outputs": [
        {
          "name": "stdout",
          "output_type": "stream",
          "text": [
            "0.3\n",
            "0.4\n",
            "0.5\n"
          ]
        }
      ],
      "source": [
        "from math import sqrt\n",
        "\n",
        "a = float(input())\n",
        "b = float(input())\n",
        "\n",
        "c = sqrt(a ** 2 + b ** 2)\n",
        "print(c)"
      ]
    },
    {
      "cell_type": "code",
      "execution_count": null,
      "metadata": {
        "colab": {
          "base_uri": "https://localhost:8080/"
        },
        "id": "yK-WUcYzCvif",
        "outputId": "08bee726-e01c-4001-b501-283f8659d3f3"
      },
      "outputs": [
        {
          "name": "stdout",
          "output_type": "stream",
          "text": [
            "168\n",
            "60\n",
            "21.26\n"
          ]
        }
      ],
      "source": [
        "height = float(input())\n",
        "weight = float(input())\n",
        "\n",
        "print(f'{weight / ((height / 100) ** 2):.2f}')"
      ]
    },
    {
      "cell_type": "code",
      "execution_count": 31,
      "metadata": {
        "colab": {
          "base_uri": "https://localhost:8080/"
        },
        "id": "x0f-fVInp30T",
        "outputId": "b51e3d2c-4125-4527-b9ec-db0abe99335c"
      },
      "outputs": [
        {
          "output_type": "stream",
          "name": "stdout",
          "text": [
            "Ivan\n",
            "Bondar\n",
            "Некорректный адрес\n"
          ]
        }
      ],
      "source": [
        "login = input()\n",
        "r_email = input()\n",
        "\n",
        "if '@' not in login and '@' in r_email:\n",
        "  print('OK')\n",
        "else:\n",
        "  if '@' in login and '@' not in r_email:\n",
        "    print('Некорректный логин')\n",
        "    print('Некорректный адрес')\n",
        "  elif '@' in login:\n",
        "    print('Некорректный логин')\n",
        "  elif '@' not in r_email:\n",
        "    print('Некорректный адрес')"
      ]
    },
    {
      "cell_type": "code",
      "source": [
        "from math import floor\n",
        "T_avg_daily = 0\n",
        "count = 0\n",
        "while T_avg_daily < 26:\n",
        "  T_avg_daily = float(input())\n",
        "  count += 1\n",
        "weeks_number = floor((count - 1) / 7)\n",
        "print(weeks_number)"
      ],
      "metadata": {
        "colab": {
          "base_uri": "https://localhost:8080/"
        },
        "id": "fwEGwcDq4G6r",
        "outputId": "09c47f62-47cb-4103-ade9-5602ae4d163c"
      },
      "execution_count": 44,
      "outputs": [
        {
          "output_type": "stream",
          "name": "stdout",
          "text": [
            "22.2\n",
            "26.6\n",
            "1\n"
          ]
        }
      ]
    }
  ],
  "metadata": {
    "colab": {
      "name": "Python_test_1.ipynb",
      "provenance": [],
      "authorship_tag": "ABX9TyOMR8Q56lr4FU9wADcrpZ5Y",
      "include_colab_link": true
    },
    "kernelspec": {
      "display_name": "Python 3",
      "name": "python3"
    },
    "language_info": {
      "name": "python"
    }
  },
  "nbformat": 4,
  "nbformat_minor": 0
}