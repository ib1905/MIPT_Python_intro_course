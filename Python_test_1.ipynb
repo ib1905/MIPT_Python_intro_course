{
  "nbformat": 4,
  "nbformat_minor": 0,
  "metadata": {
    "colab": {
      "name": "Python_test_1.ipynb",
      "provenance": [],
      "authorship_tag": "ABX9TyN/0L4nLTyfV8hIh9bloq3t",
      "include_colab_link": true
    },
    "kernelspec": {
      "name": "python3",
      "display_name": "Python 3"
    },
    "language_info": {
      "name": "python"
    }
  },
  "cells": [
    {
      "cell_type": "markdown",
      "metadata": {
        "id": "view-in-github",
        "colab_type": "text"
      },
      "source": [
        "<a href=\"https://colab.research.google.com/github/ib1905/MIPT_Python_professional_development_program/blob/main/Python_test_1.ipynb\" target=\"_parent\"><img src=\"https://colab.research.google.com/assets/colab-badge.svg\" alt=\"Open In Colab\"/></a>"
      ]
    },
    {
      "cell_type": "code",
      "execution_count": 21,
      "metadata": {
        "colab": {
          "base_uri": "https://localhost:8080/"
        },
        "id": "yGiPHsWR68RB",
        "outputId": "33d31005-e5ac-44c9-b58c-ef436707a586"
      },
      "outputs": [
        {
          "output_type": "stream",
          "name": "stdout",
          "text": [
            "Пенза\n",
            "Прага\n",
            "ДА\n"
          ]
        }
      ],
      "source": [
        "holiday_June = input()\n",
        "holiday_August = input()\n",
        "\n",
        "if holiday_June != 'Вена' and holiday_August != 'Прага':\n",
        "  print('НЕТ')\n",
        "elif holiday_June == 'Вена' and holiday_August == 'Прага':\n",
        "  print('НЕТ')\n",
        "elif holiday_June == 'Вена' and holiday_August == 'Вена':\n",
        "  print('НЕТ')\n",
        "elif holiday_June == 'Прага' and holiday_August == 'Прага':\n",
        "  print('НЕТ')\n",
        "else:\n",
        "  print('ДА')"
      ]
    },
    {
      "cell_type": "code",
      "source": [
        "from math import sqrt\n",
        "\n",
        "a = float(input())\n",
        "b = float(input())\n",
        "\n",
        "c = sqrt(a ** 2 + b ** 2)\n",
        "print(c)"
      ],
      "metadata": {
        "colab": {
          "base_uri": "https://localhost:8080/"
        },
        "id": "KEEjvIMx_tLf",
        "outputId": "7c4d8793-a3a8-4211-bcd0-2f4bf18ea6c4"
      },
      "execution_count": 25,
      "outputs": [
        {
          "output_type": "stream",
          "name": "stdout",
          "text": [
            "0.3\n",
            "0.4\n",
            "0.5\n"
          ]
        }
      ]
    },
    {
      "cell_type": "code",
      "source": [
        "height = float(input())\n",
        "weight = float(input())\n",
        "\n",
        "print(f'{weight / ((height / 100) ** 2):.2f}')"
      ],
      "metadata": {
        "colab": {
          "base_uri": "https://localhost:8080/"
        },
        "id": "yK-WUcYzCvif",
        "outputId": "08bee726-e01c-4001-b501-283f8659d3f3"
      },
      "execution_count": 33,
      "outputs": [
        {
          "output_type": "stream",
          "name": "stdout",
          "text": [
            "168\n",
            "60\n",
            "21.26\n"
          ]
        }
      ]
    }
  ]
}