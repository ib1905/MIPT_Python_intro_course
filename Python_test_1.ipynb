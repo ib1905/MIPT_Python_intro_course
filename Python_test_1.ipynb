{
  "cells": [
    {
      "cell_type": "markdown",
      "metadata": {
        "id": "view-in-github",
        "colab_type": "text"
      },
      "source": [
        "<a href=\"https://colab.research.google.com/github/ib1905/MIPT_Python_professional_development_program/blob/main/Python_test_1.ipynb\" target=\"_parent\"><img src=\"https://colab.research.google.com/assets/colab-badge.svg\" alt=\"Open In Colab\"/></a>"
      ]
    },
    {
      "cell_type": "code",
      "execution_count": null,
      "metadata": {
        "colab": {
          "base_uri": "https://localhost:8080/"
        },
        "id": "yGiPHsWR68RB",
        "outputId": "33d31005-e5ac-44c9-b58c-ef436707a586"
      },
      "outputs": [
        {
          "name": "stdout",
          "output_type": "stream",
          "text": [
            "Пенза\n",
            "Прага\n",
            "ДА\n"
          ]
        }
      ],
      "source": [
        "holiday_June = input()\n",
        "holiday_August = input()\n",
        "\n",
        "if holiday_June != 'Вена' and holiday_August != 'Прага':\n",
        "  print('НЕТ')\n",
        "elif holiday_June == 'Вена' and holiday_August == 'Прага':\n",
        "  print('НЕТ')\n",
        "elif holiday_June == 'Вена' and holiday_August == 'Вена':\n",
        "  print('НЕТ')\n",
        "elif holiday_June == 'Прага' and holiday_August == 'Прага':\n",
        "  print('НЕТ')\n",
        "else:\n",
        "  print('ДА')"
      ]
    },
    {
      "cell_type": "code",
      "execution_count": null,
      "metadata": {
        "colab": {
          "base_uri": "https://localhost:8080/"
        },
        "id": "KEEjvIMx_tLf",
        "outputId": "7c4d8793-a3a8-4211-bcd0-2f4bf18ea6c4"
      },
      "outputs": [
        {
          "name": "stdout",
          "output_type": "stream",
          "text": [
            "0.3\n",
            "0.4\n",
            "0.5\n"
          ]
        }
      ],
      "source": [
        "from math import sqrt\n",
        "\n",
        "a = float(input())\n",
        "b = float(input())\n",
        "\n",
        "c = sqrt(a ** 2 + b ** 2)\n",
        "print(c)"
      ]
    },
    {
      "cell_type": "code",
      "execution_count": null,
      "metadata": {
        "colab": {
          "base_uri": "https://localhost:8080/"
        },
        "id": "yK-WUcYzCvif",
        "outputId": "08bee726-e01c-4001-b501-283f8659d3f3"
      },
      "outputs": [
        {
          "name": "stdout",
          "output_type": "stream",
          "text": [
            "168\n",
            "60\n",
            "21.26\n"
          ]
        }
      ],
      "source": [
        "height = float(input())\n",
        "weight = float(input())\n",
        "\n",
        "print(f'{weight / ((height / 100) ** 2):.2f}')"
      ]
    },
    {
      "cell_type": "code",
      "execution_count": null,
      "metadata": {
        "colab": {
          "base_uri": "https://localhost:8080/"
        },
        "id": "x0f-fVInp30T",
        "outputId": "b51e3d2c-4125-4527-b9ec-db0abe99335c"
      },
      "outputs": [
        {
          "output_type": "stream",
          "name": "stdout",
          "text": [
            "Ivan\n",
            "Bondar\n",
            "Некорректный адрес\n"
          ]
        }
      ],
      "source": [
        "login = input()\n",
        "r_email = input()\n",
        "\n",
        "if '@' not in login and '@' in r_email:\n",
        "  print('OK')\n",
        "else:\n",
        "  if '@' in login and '@' not in r_email:\n",
        "    print('Некорректный логин')\n",
        "    print('Некорректный адрес')\n",
        "  elif '@' in login:\n",
        "    print('Некорректный логин')\n",
        "  elif '@' not in r_email:\n",
        "    print('Некорректный адрес')"
      ]
    },
    {
      "cell_type": "code",
      "source": [
        "from math import floor\n",
        "T_avg_daily = 0\n",
        "count = 0\n",
        "while T_avg_daily < 26:\n",
        "  T_avg_daily = float(input())\n",
        "  count += 1\n",
        "weeks_number = floor((count - 1) / 7)\n",
        "print(weeks_number)"
      ],
      "metadata": {
        "colab": {
          "base_uri": "https://localhost:8080/"
        },
        "id": "fwEGwcDq4G6r",
        "outputId": "09c47f62-47cb-4103-ade9-5602ae4d163c"
      },
      "execution_count": null,
      "outputs": [
        {
          "output_type": "stream",
          "name": "stdout",
          "text": [
            "22.2\n",
            "26.6\n",
            "1\n"
          ]
        }
      ]
    },
    {
      "cell_type": "code",
      "source": [
        "n = int(input())\n",
        "n_factorial = 1\n",
        "for i in range(n, 0, -1):\n",
        "  n_factorial *= i\n",
        "\n",
        "print(n_factorial)"
      ],
      "metadata": {
        "colab": {
          "base_uri": "https://localhost:8080/"
        },
        "id": "I5obhou4TLZl",
        "outputId": "c7e941a0-9531-439a-bb26-7dd5336dbca1"
      },
      "execution_count": null,
      "outputs": [
        {
          "output_type": "stream",
          "name": "stdout",
          "text": [
            "4\n",
            "24\n"
          ]
        }
      ]
    },
    {
      "cell_type": "code",
      "source": [
        "n = int(input())\n",
        "\n",
        "Fibonacci = [1, 1]\n",
        "\n",
        "for i in range(n - 2):\n",
        "  Fibonacci.append(Fibonacci[-1] + Fibonacci[-2])\n",
        "\n",
        "#print(Fibonacci)\n",
        "print(Fibonacci[-1])"
      ],
      "metadata": {
        "colab": {
          "base_uri": "https://localhost:8080/"
        },
        "id": "fgTpFfe73F6d",
        "outputId": "02386c71-a816-44f9-cd15-406032643115"
      },
      "execution_count": null,
      "outputs": [
        {
          "output_type": "stream",
          "name": "stdout",
          "text": [
            "3\n",
            "[1, 1, 2]\n",
            "2\n"
          ]
        }
      ]
    },
    {
      "cell_type": "code",
      "source": [
        "entry_string = ''\n",
        "count = 0\n",
        "str_count = 0\n",
        "str_counts = []\n",
        "while entry_string != 'СТОП':\n",
        "  entry_string = input().upper()\n",
        "  str_count += 1\n",
        "  if 'БАГ' in entry_string:\n",
        "    count += 1\n",
        "    str_counts.append(str_count)\n",
        "\n",
        "if len(str_counts) > 0:\n",
        "  print(count, str_counts[0])\n",
        "else:\n",
        "  print(count, '-1')"
      ],
      "metadata": {
        "colab": {
          "base_uri": "https://localhost:8080/"
        },
        "id": "VkMXMvNm6gBE",
        "outputId": "1d459b60-820e-4728-efa9-174d8a97a68d"
      },
      "execution_count": null,
      "outputs": [
        {
          "output_type": "stream",
          "name": "stdout",
          "text": [
            "Что такое\n",
            "баги?\n",
            "И с чем их едят?\n",
            "СТОП\n",
            "1 2\n"
          ]
        }
      ]
    },
    {
      "cell_type": "code",
      "source": [
        "n_columns = int(input())\n",
        "n_rows = int(input())\n",
        "\n",
        "for i in range(n_rows):\n",
        "  for j in range(n_columns):\n",
        "    print((i + 1) * (j + 1), end=' ')\n",
        "  print()"
      ],
      "metadata": {
        "colab": {
          "base_uri": "https://localhost:8080/"
        },
        "id": "v2sJa7GYP571",
        "outputId": "93891f33-9d99-4391-95a0-6759fbd64f3a"
      },
      "execution_count": null,
      "outputs": [
        {
          "output_type": "stream",
          "name": "stdout",
          "text": [
            "5\n",
            "5\n",
            "1 2 3 4 5 \n",
            "2 4 6 8 10 \n",
            "3 6 9 12 15 \n",
            "4 8 12 16 20 \n",
            "5 10 15 20 25 \n"
          ]
        }
      ]
    },
    {
      "cell_type": "code",
      "source": [
        "figure_height = int(input())\n",
        "figure_width = int(input())\n",
        "figure_symbol = input()\n",
        "\n",
        "for i in range(1, figure_height + 1):\n",
        "  for j in range(1, figure_width + 1):\n",
        "    if i == 1 or i == figure_height or j == 1 or j == figure_width:\n",
        "      print(figure_symbol, end='')\n",
        "    else:\n",
        "      print(' ', end='')\n",
        "  print()"
      ],
      "metadata": {
        "colab": {
          "base_uri": "https://localhost:8080/"
        },
        "id": "LtrT8j5RfGgz",
        "outputId": "e9cd020c-9405-45cb-9604-e52046416ad3"
      },
      "execution_count": null,
      "outputs": [
        {
          "output_type": "stream",
          "name": "stdout",
          "text": [
            "5\n",
            "6\n",
            "*\n",
            "******\n",
            "*    *\n",
            "*    *\n",
            "*    *\n",
            "******\n"
          ]
        }
      ]
    }
  ],
  "metadata": {
    "colab": {
      "name": "Python_test_1.ipynb",
      "provenance": [],
      "authorship_tag": "ABX9TyNp5AQl7sOSYeG8yvfH1lgC",
      "include_colab_link": true
    },
    "kernelspec": {
      "display_name": "Python 3",
      "name": "python3"
    },
    "language_info": {
      "name": "python"
    }
  },
  "nbformat": 4,
  "nbformat_minor": 0
}