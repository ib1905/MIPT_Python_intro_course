{
  "nbformat": 4,
  "nbformat_minor": 0,
  "metadata": {
    "colab": {
      "name": "Python_lesson_3_practice.ipynb",
      "provenance": [],
      "authorship_tag": "ABX9TyO+B66tHXGDzNOU7SbllIBn",
      "include_colab_link": true
    },
    "kernelspec": {
      "name": "python3",
      "display_name": "Python 3"
    },
    "language_info": {
      "name": "python"
    }
  },
  "cells": [
    {
      "cell_type": "markdown",
      "metadata": {
        "id": "view-in-github",
        "colab_type": "text"
      },
      "source": [
        "<a href=\"https://colab.research.google.com/github/ib1905/MIPT_Python_professional_development_program/blob/main/Python_lesson_3_practice.ipynb\" target=\"_parent\"><img src=\"https://colab.research.google.com/assets/colab-badge.svg\" alt=\"Open In Colab\"/></a>"
      ]
    },
    {
      "cell_type": "code",
      "execution_count": null,
      "metadata": {
        "colab": {
          "base_uri": "https://localhost:8080/"
        },
        "id": "YgIOMkz2B-u7",
        "outputId": "e7b12155-d957-4239-bf3a-68e60a3b7fb3"
      },
      "outputs": [
        {
          "output_type": "stream",
          "name": "stdout",
          "text": [
            "Python\n",
            "YES\n"
          ]
        }
      ],
      "source": [
        "message = input()\n",
        "if message == 'Python':\n",
        "#if 'Python' in message:\n",
        "  print('YES')\n",
        "else:\n",
        "  print('NO')"
      ]
    },
    {
      "cell_type": "code",
      "source": [
        "line_1 = input('Line 1: ')\n",
        "line_2 = input('Line 2: ')\n",
        "if (line_1 == 'yes' or line_1 == 'no') and (line_2 == 'yes' or line_2 == 'no'):\n",
        "#if line_1 in ('yes', 'no') and line_2 in ('yes', 'no'):\n",
        "  print('Correct')\n",
        "else:\n",
        "  print('Incorrect')"
      ],
      "metadata": {
        "colab": {
          "base_uri": "https://localhost:8080/"
        },
        "id": "HsronVMjCjD5",
        "outputId": "a3a922fd-8229-41e3-bcd8-7b17f03185d6"
      },
      "execution_count": null,
      "outputs": [
        {
          "output_type": "stream",
          "name": "stdout",
          "text": [
            "Line 1: yes\n",
            "Line 2: no\n",
            "Correct\n"
          ]
        }
      ]
    },
    {
      "cell_type": "code",
      "source": [
        "a = int(input('Enter value 1: '))\n",
        "b = int(input('Enter value 2: '))\n",
        "print('Your minimal value is', min(a, b))"
      ],
      "metadata": {
        "colab": {
          "base_uri": "https://localhost:8080/"
        },
        "id": "veDTXX7NFVDi",
        "outputId": "f1c0bf55-c42d-4460-a3bc-db3f1f0464ca"
      },
      "execution_count": null,
      "outputs": [
        {
          "output_type": "stream",
          "name": "stdout",
          "text": [
            "Enter value 1: 5\n",
            "Enter value 2: 10\n",
            "Your minimal value is 5\n"
          ]
        }
      ]
    },
    {
      "cell_type": "code",
      "source": [
        "x = int(input('Enter some number for sign(x) function: '))\n",
        "if x > 0:\n",
        "  sign = 1\n",
        "elif x == 0:\n",
        "  sign = 0\n",
        "else:\n",
        "  sign = -1\n",
        "print('sign(x) is', sign)"
      ],
      "metadata": {
        "colab": {
          "base_uri": "https://localhost:8080/"
        },
        "id": "5UT3RYhdJiZ0",
        "outputId": "dae0fd21-4045-45d5-c584-17daac6c85ba"
      },
      "execution_count": null,
      "outputs": [
        {
          "output_type": "stream",
          "name": "stdout",
          "text": [
            "Enter some number for sign(x) function: 100\n",
            "sign(x) is 1\n"
          ]
        }
      ]
    },
    {
      "cell_type": "code",
      "source": [
        "a = int(input())\n",
        "b = int(input())\n",
        "c = int(input())\n",
        "if (a == b) and (b == c) and (a == c):\n",
        "  print(3)\n",
        "elif (a != b) and (b != c) and (a != c):\n",
        "  print(0)\n",
        "else:\n",
        "  print(2)"
      ],
      "metadata": {
        "colab": {
          "base_uri": "https://localhost:8080/"
        },
        "id": "kIriQR1uJAxo",
        "outputId": "86b13797-ea4b-4b77-af07-a8f7958c60c2"
      },
      "execution_count": 23,
      "outputs": [
        {
          "output_type": "stream",
          "name": "stdout",
          "text": [
            "1\n",
            "2\n",
            "1\n",
            "2\n"
          ]
        }
      ]
    }
  ]
}