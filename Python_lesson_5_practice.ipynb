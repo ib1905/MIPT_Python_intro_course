{
  "nbformat": 4,
  "nbformat_minor": 0,
  "metadata": {
    "colab": {
      "name": "Python_lesson_5_practice.ipynb",
      "provenance": [],
      "authorship_tag": "ABX9TyObsaLH7C2211zdQl3oNFfB",
      "include_colab_link": true
    },
    "kernelspec": {
      "name": "python3",
      "display_name": "Python 3"
    },
    "language_info": {
      "name": "python"
    }
  },
  "cells": [
    {
      "cell_type": "markdown",
      "metadata": {
        "id": "view-in-github",
        "colab_type": "text"
      },
      "source": [
        "<a href=\"https://colab.research.google.com/github/ib1905/MIPT_Python_professional_development_program/blob/main/Python_lesson_5_practice.ipynb\" target=\"_parent\"><img src=\"https://colab.research.google.com/assets/colab-badge.svg\" alt=\"Open In Colab\"/></a>"
      ]
    },
    {
      "cell_type": "code",
      "execution_count": 2,
      "metadata": {
        "colab": {
          "base_uri": "https://localhost:8080/"
        },
        "id": "Tke6YiwCSN6N",
        "outputId": "978e7d59-b6d6-4ed8-bca5-74b44ab0dadc"
      },
      "outputs": [
        {
          "output_type": "stream",
          "name": "stdout",
          "text": [
            "Enter your string here: thi is a test string\n",
            "5\n"
          ]
        }
      ],
      "source": [
        "my_string = input('Enter your string here: ')\n",
        "print(my_string.count(' ') + 1)"
      ]
    },
    {
      "cell_type": "code",
      "source": [
        "list1 = [1, 2, 3, 4, 5, 10]\n",
        "list2 = [2, 4, 6, 8, 10]\n",
        "print('Common numbers in arrays:', end=\" \")\n",
        "for i in range(len(list1)):\n",
        "  for j in range(len(list2)):\n",
        "    if list1[i] == list2[j]:\n",
        "      print(list1[i], end=' ')"
      ],
      "metadata": {
        "colab": {
          "base_uri": "https://localhost:8080/"
        },
        "id": "UweS5oD9aTtR",
        "outputId": "b25da07a-7d00-4029-9c5b-bc937871e670"
      },
      "execution_count": 25,
      "outputs": [
        {
          "output_type": "stream",
          "name": "stdout",
          "text": [
            "Common numbers in arrays: 2 4 10 "
          ]
        }
      ]
    },
    {
      "cell_type": "code",
      "source": [
        "list1 = set(input().split()) # 'set' selects only unique numbers from the list\n",
        "list2 = set(input().split())\n",
        "list3 = list1 & list2 # selects only unique elements from BOTH lists\n",
        "print(list1)\n",
        "print(list2)\n",
        "print(list3)"
      ],
      "metadata": {
        "colab": {
          "base_uri": "https://localhost:8080/"
        },
        "id": "IhKbT6CHfKd9",
        "outputId": "5b36068a-818f-45a0-f767-0e7391a7ec1a"
      },
      "execution_count": 34,
      "outputs": [
        {
          "output_type": "stream",
          "name": "stdout",
          "text": [
            "1 1 2 3 4 2\n",
            "2 4 5 6 2 3\n",
            "{'4', '2', '1', '3'}\n",
            "{'4', '3', '6', '5', '2'}\n",
            "{'4', '2', '3'}\n"
          ]
        }
      ]
    },
    {
      "cell_type": "code",
      "source": [
        "text = 'what have you heard'\n",
        "print('Original:', text)\n",
        "sub_text = 'h'\n",
        "position = text.find(sub_text)\n",
        "positions_list = []\n",
        "while position != -1:\n",
        "  positions_list.append(position)\n",
        "  position = text.find(sub_text, position + 1)\n",
        "sub_text_reversed = text[int(positions_list[0]) + 1:int(positions_list[-1])]\n",
        "print('Reversed between the first and the last \\'{}\\':'.format(sub_text), sub_text_reversed[::-1])\n",
        "\n",
        "# alternatively occurences of 'h' could have been found using 'find' (the first 'h') and 'rfind' (the last 'h')"
      ],
      "metadata": {
        "colab": {
          "base_uri": "https://localhost:8080/"
        },
        "id": "U02RGtOt8Nnz",
        "outputId": "39dee7c7-db48-4f7c-aec3-0f26cbd900f2"
      },
      "execution_count": 75,
      "outputs": [
        {
          "output_type": "stream",
          "name": "stdout",
          "text": [
            "Original: what have you heard\n",
            "Reversed between the first and the last 'h':  uoy evah ta\n"
          ]
        }
      ]
    },
    {
      "cell_type": "code",
      "source": [
        "surname = [input(f'Enter surname number {i + 1}: ') for i in range(int(input('Enter number of employees: ')))]\n",
        "print(len([i for i in surname if surname.count(i) > 1]))"
      ],
      "metadata": {
        "colab": {
          "base_uri": "https://localhost:8080/"
        },
        "id": "fcH6ilDdy64p",
        "outputId": "5226b5c9-bed1-41fe-aa82-f1976400121d"
      },
      "execution_count": 9,
      "outputs": [
        {
          "output_type": "stream",
          "name": "stdout",
          "text": [
            "Enter number of employees: 5\n",
            "Enter surname number 1: Bondar\n",
            "Enter surname number 2: Ivanov\n",
            "Enter surname number 3: Petrov\n",
            "Enter surname number 4: Ivanov\n",
            "Enter surname number 5: Olufsen\n",
            "2\n"
          ]
        }
      ]
    },
    {
      "cell_type": "code",
      "source": [
        "strings_list = [input(f'Enter string {i + 1}: ') for i in range(int(input('Enter how many strings: ')))]\n",
        "print(sorted(strings_list, key=len, reverse=True), sep='\\n')"
      ],
      "metadata": {
        "colab": {
          "base_uri": "https://localhost:8080/"
        },
        "id": "qCKF1xDC0_-H",
        "outputId": "948b5652-127c-4acc-abc9-61a29d9d16ea"
      },
      "execution_count": 30,
      "outputs": [
        {
          "output_type": "stream",
          "name": "stdout",
          "text": [
            "Enter how many strings: 3\n",
            "Enter string 1: how do you do\n",
            "Enter string 2: how are you\n",
            "Enter string 3: low are you\n",
            "['how do you do', 'how are you', 'low are you']\n"
          ]
        }
      ]
    }
  ]
}